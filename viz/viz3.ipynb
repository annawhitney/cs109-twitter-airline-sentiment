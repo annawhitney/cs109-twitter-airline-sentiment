{
 "cells": [
  {
   "cell_type": "code",
   "execution_count": 2,
   "metadata": {
    "collapsed": true
   },
   "outputs": [],
   "source": [
    "%matplotlib inline\n",
    "import numpy as np\n",
    "import scipy as sp\n",
    "import matplotlib as mpl\n",
    "import matplotlib.cm as cm\n",
    "import matplotlib.pyplot as plt\n",
    "import pandas as pd\n",
    "pd.set_option('display.width', 500)\n",
    "pd.set_option('display.max_columns', 100)\n",
    "pd.set_option('display.notebook_repr_html', True)\n",
    "import seaborn as sns\n",
    "sns.set_style(\"whitegrid\")\n",
    "sns.set_context(\"poster\")"
   ]
  },
  {
   "cell_type": "markdown",
   "metadata": {},
   "source": [
    "## Pulling Output file"
   ]
  },
  {
   "cell_type": "code",
   "execution_count": 125,
   "metadata": {
    "collapsed": false
   },
   "outputs": [
    {
     "data": {
      "text/html": [
       "<div>\n",
       "<table border=\"1\" class=\"dataframe\">\n",
       "  <thead>\n",
       "    <tr style=\"text-align: right;\">\n",
       "      <th></th>\n",
       "      <th>created_at</th>\n",
       "      <th>favorite_count</th>\n",
       "      <th>retweet_count</th>\n",
       "      <th>followers_count</th>\n",
       "      <th>airline</th>\n",
       "      <th>prob</th>\n",
       "      <th>positive</th>\n",
       "      <th>text</th>\n",
       "    </tr>\n",
       "  </thead>\n",
       "  <tbody>\n",
       "    <tr>\n",
       "      <th>0</th>\n",
       "      <td>Mon Nov 30 12:59:18 +0000 2015</td>\n",
       "      <td>None</td>\n",
       "      <td>None</td>\n",
       "      <td>2234</td>\n",
       "      <td>spiritairlines</td>\n",
       "      <td>0.959401</td>\n",
       "      <td>1</td>\n",
       "      <td>In fact I have rarely in my entire life (if ever?) felt more bamboozled by an airline. @SpiritAirlines</td>\n",
       "    </tr>\n",
       "    <tr>\n",
       "      <th>1</th>\n",
       "      <td>Mon Nov 30 12:59:49 +0000 2015</td>\n",
       "      <td>None</td>\n",
       "      <td>None</td>\n",
       "      <td>1672</td>\n",
       "      <td>delta</td>\n",
       "      <td>0.987388</td>\n",
       "      <td>1</td>\n",
       "      <td>Complimentary #Citrix CTP WiFi on @Delta flight, always a pleasure!</td>\n",
       "    </tr>\n",
       "    <tr>\n",
       "      <th>2</th>\n",
       "      <td>Mon Nov 30 13:00:02 +0000 2015</td>\n",
       "      <td>None</td>\n",
       "      <td>None</td>\n",
       "      <td>189</td>\n",
       "      <td>AmericanAir</td>\n",
       "      <td>0.873072</td>\n",
       "      <td>1</td>\n",
       "      <td>@judsonabts @AmericanAir the thing about it is they were my carry ons...</td>\n",
       "    </tr>\n",
       "    <tr>\n",
       "      <th>3</th>\n",
       "      <td>Mon Nov 30 13:00:37 +0000 2015</td>\n",
       "      <td>None</td>\n",
       "      <td>None</td>\n",
       "      <td>16720</td>\n",
       "      <td>virginamerica</td>\n",
       "      <td>0.797083</td>\n",
       "      <td>1</td>\n",
       "      <td>.@United responds to @VirginAmerica entering #Denver - San Francisco market https://t.co/P47FlIPWXy https://t.co/et2OeZSZCe</td>\n",
       "    </tr>\n",
       "    <tr>\n",
       "      <th>4</th>\n",
       "      <td>Mon Nov 30 13:00:40 +0000 2015</td>\n",
       "      <td>None</td>\n",
       "      <td>None</td>\n",
       "      <td>16</td>\n",
       "      <td>AmericanAir</td>\n",
       "      <td>0.955934</td>\n",
       "      <td>1</td>\n",
       "      <td>@AmericanAir another flight with American and again a super cramped seat. It's not an airplane it's a Sardine Can it seems like it.</td>\n",
       "    </tr>\n",
       "  </tbody>\n",
       "</table>\n",
       "</div>"
      ],
      "text/plain": [
       "                       created_at favorite_count retweet_count  followers_count         airline      prob  positive                                                                                                                                 text\n",
       "0  Mon Nov 30 12:59:18 +0000 2015           None          None             2234  spiritairlines  0.959401         1                               In fact I have rarely in my entire life (if ever?) felt more bamboozled by an airline. @SpiritAirlines\n",
       "1  Mon Nov 30 12:59:49 +0000 2015           None          None             1672           delta  0.987388         1                                                                  Complimentary #Citrix CTP WiFi on @Delta flight, always a pleasure!\n",
       "2  Mon Nov 30 13:00:02 +0000 2015           None          None              189     AmericanAir  0.873072         1                                                             @judsonabts @AmericanAir the thing about it is they were my carry ons...\n",
       "3  Mon Nov 30 13:00:37 +0000 2015           None          None            16720   virginamerica  0.797083         1          .@United responds to @VirginAmerica entering #Denver - San Francisco market https://t.co/P47FlIPWXy https://t.co/et2OeZSZCe\n",
       "4  Mon Nov 30 13:00:40 +0000 2015           None          None               16     AmericanAir  0.955934         1  @AmericanAir another flight with American and again a super cramped seat. It's not an airplane it's a Sardine Can it seems like it."
      ]
     },
     "execution_count": 125,
     "metadata": {},
     "output_type": "execute_result"
    }
   ],
   "source": [
    "df = pd.read_csv(\"output.csv\")\n",
    "#df.to_csv(\"output.csv\", date_format='%Y%m%d')\n",
    "#getting rid of undecided tweets\n",
    "df = df[(df.prob <> .5)]\n",
    "df.head()"
   ]
  },
  {
   "cell_type": "code",
   "execution_count": null,
   "metadata": {
    "collapsed": true
   },
   "outputs": [],
   "source": [
    "#run these using your username and key\n",
    "import plotly.tools as tls\n",
    "tls.set_credentials_file(username='ayinmv', api_key='rq66z3hqx8')\n",
    "\n",
    "import plotly.plotly as py\n",
    "from plotly.graph_objs import *\n",
    "\n",
    "#install cufflink package\n",
    "import cufflinks as cf\n",
    "print cf.__version__"
   ]
  },
  {
   "cell_type": "markdown",
   "metadata": {},
   "source": [
    "## Number of Tweets"
   ]
  },
  {
   "cell_type": "code",
   "execution_count": 96,
   "metadata": {
    "collapsed": false
   },
   "outputs": [
    {
     "data": {
      "text/html": [
       "<iframe id=\"igraph\" scrolling=\"no\" style=\"border:none;\"seamless=\"seamless\" src=\"https://plot.ly/~ayinmv/33.embed\" height=\"525\" width=\"100%\"></iframe>"
      ],
      "text/plain": [
       "<plotly.tools.PlotlyDisplay object>"
      ]
     },
     "execution_count": 96,
     "metadata": {},
     "output_type": "execute_result"
    }
   ],
   "source": [
    "airline_count = df.groupby(['airline']).count().prob.sort_values(axis=0, ascending=False, inplace=False)\n",
    "airline_count.iplot(kind='bar', yTitle='Number of Tweets', title='Number of Tweets')\n",
    "\n",
    "tls.embed('https://plot.ly/~ayinmv/33')"
   ]
  },
  {
   "cell_type": "markdown",
   "metadata": {},
   "source": [
    "## Score of the airlines based on the average of their positive scores"
   ]
  },
  {
   "cell_type": "code",
   "execution_count": 97,
   "metadata": {
    "collapsed": false
   },
   "outputs": [
    {
     "data": {
      "text/html": [
       "<iframe id=\"igraph\" scrolling=\"no\" style=\"border:none;\"seamless=\"seamless\" src=\"https://plot.ly/~ayinmv/63.embed\" height=\"525\" width=\"100%\"></iframe>"
      ],
      "text/plain": [
       "<plotly.tools.PlotlyDisplay object>"
      ]
     },
     "execution_count": 97,
     "metadata": {},
     "output_type": "execute_result"
    }
   ],
   "source": [
    "airline_count = df.groupby(['airline']).mean().prob.sort_values(axis=0, ascending=False, inplace=False)\n",
    "airline_count.iplot(kind='bar', yTitle='Average Score', title='Average Score')\n",
    "\n",
    "tls.embed('https://plot.ly/~ayinmv/63')"
   ]
  },
  {
   "cell_type": "markdown",
   "metadata": {},
   "source": [
    "## Most important tweets"
   ]
  },
  {
   "cell_type": "code",
   "execution_count": 172,
   "metadata": {
    "collapsed": false
   },
   "outputs": [],
   "source": [
    "#df['created_at'].strftime(\"%d %b %Y\")\n",
    "#df['created_at'].apply(lambda x: x.strftime('%d%m%Y'))"
   ]
  },
  {
   "cell_type": "code",
   "execution_count": 109,
   "metadata": {
    "collapsed": false
   },
   "outputs": [
    {
     "data": {
      "text/html": [
       "<div>\n",
       "<table border=\"1\" class=\"dataframe\">\n",
       "  <thead>\n",
       "    <tr style=\"text-align: right;\">\n",
       "      <th></th>\n",
       "      <th>followers_count</th>\n",
       "      <th>text</th>\n",
       "      <th>prob</th>\n",
       "      <th>created_at</th>\n",
       "    </tr>\n",
       "  </thead>\n",
       "  <tbody>\n",
       "    <tr>\n",
       "      <th>65626</th>\n",
       "      <td>9561279</td>\n",
       "      <td>@beauflynn @VirginAmerica Yea baby! Fav airline to fly outta FLL. Safe travels bro great seeing you</td>\n",
       "      <td>0.999871</td>\n",
       "      <td>Sun Nov 29 02:58:52 +0000 2015</td>\n",
       "    </tr>\n",
       "    <tr>\n",
       "      <th>28748</th>\n",
       "      <td>4546595</td>\n",
       "      <td>A couple teammates took in a different form of elite training during the off-day in Atlanta at @Delta​ HQ: https://t.co/pDpWK0aeKc</td>\n",
       "      <td>0.993440</td>\n",
       "      <td>Thu Dec 03 23:39:13 +0000 2015</td>\n",
       "    </tr>\n",
       "    <tr>\n",
       "      <th>32989</th>\n",
       "      <td>3313970</td>\n",
       "      <td>@AmericanAir thank you for the concierge key this year! hope i get renewed for 2016!</td>\n",
       "      <td>0.998328</td>\n",
       "      <td>Fri Dec 04 08:55:41 +0000 2015</td>\n",
       "    </tr>\n",
       "    <tr>\n",
       "      <th>32946</th>\n",
       "      <td>3313940</td>\n",
       "      <td>me &amp;amp; @R3HAB waited until our row fell asleep then made a lil banger here on @americanair studios.</td>\n",
       "      <td>0.960900</td>\n",
       "      <td>Fri Dec 04 08:46:26 +0000 2015</td>\n",
       "    </tr>\n",
       "    <tr>\n",
       "      <th>29956</th>\n",
       "      <td>3068510</td>\n",
       "      <td>Had the best time spreading cheer today @delta's Holiday in the Hangar event! Check out this winter wonderland! #DeltaLAX #DeltaGreaterGood</td>\n",
       "      <td>0.997183</td>\n",
       "      <td>Fri Dec 04 01:39:24 +0000 2015</td>\n",
       "    </tr>\n",
       "    <tr>\n",
       "      <th>69840</th>\n",
       "      <td>2042736</td>\n",
       "      <td>Apparently \" sully \" the service dog who weighs at least 50 pounds is having trouble getting comfortable in business class @Delta</td>\n",
       "      <td>0.998998</td>\n",
       "      <td>Sun Nov 29 16:43:22 +0000 2015</td>\n",
       "    </tr>\n",
       "    <tr>\n",
       "      <th>37489</th>\n",
       "      <td>1974275</td>\n",
       "      <td>@alyswonderland_ @united @Delta @AlaskaAir @AmericanAir @SouthwestAir @BoeingAirplanes We have a 13th row onboard! 🌙🔮✨</td>\n",
       "      <td>0.711730</td>\n",
       "      <td>Fri Dec 04 20:10:24 +0000 2015</td>\n",
       "    </tr>\n",
       "    <tr>\n",
       "      <th>28462</th>\n",
       "      <td>1974196</td>\n",
       "      <td>@FateWillTell @AmericanAir @Delta @FlyFrontier @LaGuardiaAir Sorry, forgot to mention FLL is the closest we've got!</td>\n",
       "      <td>0.904682</td>\n",
       "      <td>Thu Dec 03 22:15:29 +0000 2015</td>\n",
       "    </tr>\n",
       "    <tr>\n",
       "      <th>28320</th>\n",
       "      <td>1974194</td>\n",
       "      <td>@FateWillTell @AmericanAir @Delta @FlyFrontier @LaGuardiaAir Trying to get to Miami from LGA?</td>\n",
       "      <td>0.688497</td>\n",
       "      <td>Thu Dec 03 22:01:29 +0000 2015</td>\n",
       "    </tr>\n",
       "    <tr>\n",
       "      <th>28351</th>\n",
       "      <td>1974194</td>\n",
       "      <td>@FateWillTell @AmericanAir @Delta @FlyFrontier @LaGuardiaAir Sorry to hear this! So you don't have a booking with us, correct?</td>\n",
       "      <td>0.975038</td>\n",
       "      <td>Thu Dec 03 22:04:21 +0000 2015</td>\n",
       "    </tr>\n",
       "    <tr>\n",
       "      <th>28392</th>\n",
       "      <td>1974194</td>\n",
       "      <td>@FateWillTell @AmericanAir @Delta @FlyFrontier @LaGuardiaAir Have you checked our website? That's your best bet for a last minute flight.</td>\n",
       "      <td>0.997828</td>\n",
       "      <td>Thu Dec 03 22:08:08 +0000 2015</td>\n",
       "    </tr>\n",
       "    <tr>\n",
       "      <th>22450</th>\n",
       "      <td>1974053</td>\n",
       "      <td>@seo_hanna We can be reached via email at DearJetBlue@JetBlue.com</td>\n",
       "      <td>0.974323</td>\n",
       "      <td>Thu Dec 03 01:45:44 +0000 2015</td>\n",
       "    </tr>\n",
       "    <tr>\n",
       "      <th>8230</th>\n",
       "      <td>1933419</td>\n",
       "      <td>Thanks #NYC! And @Matt_Morrison and @febreze_fresh and #12Stinks and @VirginAmerica for getting me to and fro. https://t.co/Iw2c6DIWw9</td>\n",
       "      <td>0.683220</td>\n",
       "      <td>Tue Dec 01 17:55:20 +0000 2015</td>\n",
       "    </tr>\n",
       "    <tr>\n",
       "      <th>55522</th>\n",
       "      <td>1927827</td>\n",
       "      <td>@matthewnorwood But lets be serious here, he's thinking \"Hey @SouthwestAir. Matthew is on my BNA-DAL flight.\" ^AC</td>\n",
       "      <td>0.970249</td>\n",
       "      <td>Sun Dec 06 15:08:14 +0000 2015</td>\n",
       "    </tr>\n",
       "    <tr>\n",
       "      <th>21398</th>\n",
       "      <td>1927006</td>\n",
       "      <td>@shawnrstewart Great takeaway, Shawn! How'd you enjoy Ginger? #SouthwestAir ^DH</td>\n",
       "      <td>0.916005</td>\n",
       "      <td>Wed Dec 02 20:56:04 +0000 2015</td>\n",
       "    </tr>\n",
       "    <tr>\n",
       "      <th>11255</th>\n",
       "      <td>1926751</td>\n",
       "      <td>RT @LongIslandK8er: Flight home on @SouthwestAir yesterday! #southwestair #swa #southwest #plane #sky #island #travel https://t.co/sOKuseNz…</td>\n",
       "      <td>0.684988</td>\n",
       "      <td>Tue Dec 01 21:17:41 +0000 2015</td>\n",
       "    </tr>\n",
       "    <tr>\n",
       "      <th>6526</th>\n",
       "      <td>1926617</td>\n",
       "      <td>RT @bfontaine1991: Thanks for the ride @SouthwestAir https://t.co/b6oznF9pqz</td>\n",
       "      <td>0.711139</td>\n",
       "      <td>Tue Dec 01 15:22:05 +0000 2015</td>\n",
       "    </tr>\n",
       "    <tr>\n",
       "      <th>2136</th>\n",
       "      <td>1926433</td>\n",
       "      <td>RT @gary_kelly: While you’re looking for #CyberMonday deals, here’s a nice reminder that #FeesDontFly on @SouthwestAir. https://t.co/BO06yX…</td>\n",
       "      <td>0.994608</td>\n",
       "      <td>Mon Nov 30 22:08:47 +0000 2015</td>\n",
       "    </tr>\n",
       "    <tr>\n",
       "      <th>16848</th>\n",
       "      <td>1765132</td>\n",
       "      <td>You don't want to miss @JetBlue's newest airfare sale: https://t.co/6ZW2F7hFwo https://t.co/OZrhZCT51D</td>\n",
       "      <td>0.881681</td>\n",
       "      <td>Wed Dec 02 11:20:27 +0000 2015</td>\n",
       "    </tr>\n",
       "    <tr>\n",
       "      <th>15372</th>\n",
       "      <td>1765086</td>\n",
       "      <td>You don't want to miss @JetBlue's newest airfare sale: https://t.co/oEHSJkdLiY https://t.co/4UK1jphUuM</td>\n",
       "      <td>0.881681</td>\n",
       "      <td>Wed Dec 02 06:20:24 +0000 2015</td>\n",
       "    </tr>\n",
       "  </tbody>\n",
       "</table>\n",
       "</div>"
      ],
      "text/plain": [
       "       followers_count                                                                                                                                          text      prob                      created_at\n",
       "65626          9561279                                           @beauflynn @VirginAmerica Yea baby! Fav airline to fly outta FLL. Safe travels bro great seeing you  0.999871  Sun Nov 29 02:58:52 +0000 2015\n",
       "28748          4546595            A couple teammates took in a different form of elite training during the off-day in Atlanta at @Delta​ HQ: https://t.co/pDpWK0aeKc  0.993440  Thu Dec 03 23:39:13 +0000 2015\n",
       "32989          3313970                                                          @AmericanAir thank you for the concierge key this year! hope i get renewed for 2016!  0.998328  Fri Dec 04 08:55:41 +0000 2015\n",
       "32946          3313940                                         me &amp; @R3HAB waited until our row fell asleep then made a lil banger here on @americanair studios.  0.960900  Fri Dec 04 08:46:26 +0000 2015\n",
       "29956          3068510   Had the best time spreading cheer today @delta's Holiday in the Hangar event! Check out this winter wonderland! #DeltaLAX #DeltaGreaterGood  0.997183  Fri Dec 04 01:39:24 +0000 2015\n",
       "69840          2042736             Apparently \" sully \" the service dog who weighs at least 50 pounds is having trouble getting comfortable in business class @Delta  0.998998  Sun Nov 29 16:43:22 +0000 2015\n",
       "37489          1974275                      @alyswonderland_ @united @Delta @AlaskaAir @AmericanAir @SouthwestAir @BoeingAirplanes We have a 13th row onboard! 🌙🔮✨  0.711730  Fri Dec 04 20:10:24 +0000 2015\n",
       "28462          1974196                           @FateWillTell @AmericanAir @Delta @FlyFrontier @LaGuardiaAir Sorry, forgot to mention FLL is the closest we've got!  0.904682  Thu Dec 03 22:15:29 +0000 2015\n",
       "28320          1974194                                                 @FateWillTell @AmericanAir @Delta @FlyFrontier @LaGuardiaAir Trying to get to Miami from LGA?  0.688497  Thu Dec 03 22:01:29 +0000 2015\n",
       "28351          1974194                @FateWillTell @AmericanAir @Delta @FlyFrontier @LaGuardiaAir Sorry to hear this! So you don't have a booking with us, correct?  0.975038  Thu Dec 03 22:04:21 +0000 2015\n",
       "28392          1974194     @FateWillTell @AmericanAir @Delta @FlyFrontier @LaGuardiaAir Have you checked our website? That's your best bet for a last minute flight.  0.997828  Thu Dec 03 22:08:08 +0000 2015\n",
       "22450          1974053                                                                             @seo_hanna We can be reached via email at DearJetBlue@JetBlue.com  0.974323  Thu Dec 03 01:45:44 +0000 2015\n",
       "8230           1933419        Thanks #NYC! And @Matt_Morrison and @febreze_fresh and #12Stinks and @VirginAmerica for getting me to and fro. https://t.co/Iw2c6DIWw9  0.683220  Tue Dec 01 17:55:20 +0000 2015\n",
       "55522          1927827                             @matthewnorwood But lets be serious here, he's thinking \"Hey @SouthwestAir. Matthew is on my BNA-DAL flight.\" ^AC  0.970249  Sun Dec 06 15:08:14 +0000 2015\n",
       "21398          1927006                                                               @shawnrstewart Great takeaway, Shawn! How'd you enjoy Ginger? #SouthwestAir ^DH  0.916005  Wed Dec 02 20:56:04 +0000 2015\n",
       "11255          1926751  RT @LongIslandK8er: Flight home on @SouthwestAir yesterday! #southwestair #swa #southwest #plane #sky #island #travel https://t.co/sOKuseNz…  0.684988  Tue Dec 01 21:17:41 +0000 2015\n",
       "6526           1926617                                                                  RT @bfontaine1991: Thanks for the ride @SouthwestAir https://t.co/b6oznF9pqz  0.711139  Tue Dec 01 15:22:05 +0000 2015\n",
       "2136           1926433  RT @gary_kelly: While you’re looking for #CyberMonday deals, here’s a nice reminder that #FeesDontFly on @SouthwestAir. https://t.co/BO06yX…  0.994608  Mon Nov 30 22:08:47 +0000 2015\n",
       "16848          1765132                                        You don't want to miss @JetBlue's newest airfare sale: https://t.co/6ZW2F7hFwo https://t.co/OZrhZCT51D  0.881681  Wed Dec 02 11:20:27 +0000 2015\n",
       "15372          1765086                                        You don't want to miss @JetBlue's newest airfare sale: https://t.co/oEHSJkdLiY https://t.co/4UK1jphUuM  0.881681  Wed Dec 02 06:20:24 +0000 2015"
      ]
     },
     "execution_count": 109,
     "metadata": {},
     "output_type": "execute_result"
    }
   ],
   "source": [
    "pd.set_option('max_colwidth', 200)\n",
    "\n",
    "df.sort_values(by=['followers_count'], ascending=[False])[['followers_count','text', 'prob', 'created_at']].head(20)"
   ]
  },
  {
   "cell_type": "code",
   "execution_count": 171,
   "metadata": {
    "collapsed": false
   },
   "outputs": [],
   "source": [
    "# gb = df.groupby('airline')    \n",
    "# [gb.get_group(x) for x in gb.groups]"
   ]
  },
  {
   "cell_type": "code",
   "execution_count": 170,
   "metadata": {
    "collapsed": false
   },
   "outputs": [],
   "source": [
    "#gb.prob"
   ]
  },
  {
   "cell_type": "code",
   "execution_count": 91,
   "metadata": {
    "collapsed": false
   },
   "outputs": [],
   "source": [
    "#gb.iplot(kind='box')"
   ]
  },
  {
   "cell_type": "code",
   "execution_count": 100,
   "metadata": {
    "collapsed": false
   },
   "outputs": [],
   "source": [
    "#df.iplot([Box(y = np.random.randn(50), showlegend=False) for i in range(10)], show_link=False)"
   ]
  },
  {
   "cell_type": "code",
   "execution_count": 169,
   "metadata": {
    "collapsed": false
   },
   "outputs": [],
   "source": [
    "# for i, group in df.groupby('airline'):\n",
    "#     plt.figure()\n",
    "#     #group.plot(x='prob', y='followers_count')\n",
    "#     group.hist('prob')"
   ]
  },
  {
   "cell_type": "code",
   "execution_count": 168,
   "metadata": {
    "collapsed": false
   },
   "outputs": [
    {
     "data": {
      "text/html": [
       "<div>\n",
       "<table border=\"1\" class=\"dataframe\">\n",
       "  <thead>\n",
       "    <tr style=\"text-align: right;\">\n",
       "      <th></th>\n",
       "      <th>alaskaair</th>\n",
       "      <th>AmericanAir</th>\n",
       "      <th>delta</th>\n",
       "      <th>flyfrontier</th>\n",
       "      <th>hawaiianair</th>\n",
       "      <th>jetblue</th>\n",
       "      <th>southwest</th>\n",
       "      <th>spiritairlines</th>\n",
       "      <th>united</th>\n",
       "      <th>virginamerica</th>\n",
       "    </tr>\n",
       "  </thead>\n",
       "  <tbody>\n",
       "    <tr>\n",
       "      <th>0</th>\n",
       "      <td>0.993208</td>\n",
       "      <td>0.873072</td>\n",
       "      <td>0.987388</td>\n",
       "      <td>0.997226</td>\n",
       "      <td>0.931447</td>\n",
       "      <td>0.952768</td>\n",
       "      <td>0.996007</td>\n",
       "      <td>0.959401</td>\n",
       "      <td>0.886928</td>\n",
       "      <td>0.797083</td>\n",
       "    </tr>\n",
       "    <tr>\n",
       "      <th>1</th>\n",
       "      <td>0.965431</td>\n",
       "      <td>0.955934</td>\n",
       "      <td>0.830840</td>\n",
       "      <td>0.998100</td>\n",
       "      <td>0.805865</td>\n",
       "      <td>0.959188</td>\n",
       "      <td>0.591763</td>\n",
       "      <td>0.753549</td>\n",
       "      <td>0.999895</td>\n",
       "      <td>0.797083</td>\n",
       "    </tr>\n",
       "    <tr>\n",
       "      <th>2</th>\n",
       "      <td>0.712421</td>\n",
       "      <td>0.926986</td>\n",
       "      <td>0.729272</td>\n",
       "      <td>0.976348</td>\n",
       "      <td>0.374371</td>\n",
       "      <td>0.801286</td>\n",
       "      <td>0.966923</td>\n",
       "      <td>0.989527</td>\n",
       "      <td>0.998912</td>\n",
       "      <td>0.921270</td>\n",
       "    </tr>\n",
       "    <tr>\n",
       "      <th>3</th>\n",
       "      <td>0.758827</td>\n",
       "      <td>0.878757</td>\n",
       "      <td>0.986554</td>\n",
       "      <td>0.967824</td>\n",
       "      <td>0.712421</td>\n",
       "      <td>0.958959</td>\n",
       "      <td>0.957541</td>\n",
       "      <td>0.874128</td>\n",
       "      <td>0.992084</td>\n",
       "      <td>0.597163</td>\n",
       "    </tr>\n",
       "    <tr>\n",
       "      <th>4</th>\n",
       "      <td>0.996239</td>\n",
       "      <td>0.953406</td>\n",
       "      <td>0.986554</td>\n",
       "      <td>0.954536</td>\n",
       "      <td>0.798882</td>\n",
       "      <td>0.984909</td>\n",
       "      <td>0.872952</td>\n",
       "      <td>0.962676</td>\n",
       "      <td>0.999378</td>\n",
       "      <td>0.597163</td>\n",
       "    </tr>\n",
       "  </tbody>\n",
       "</table>\n",
       "</div>"
      ],
      "text/plain": [
       "   alaskaair  AmericanAir     delta  flyfrontier  hawaiianair   jetblue  southwest  spiritairlines    united  virginamerica\n",
       "0   0.993208     0.873072  0.987388     0.997226     0.931447  0.952768   0.996007        0.959401  0.886928       0.797083\n",
       "1   0.965431     0.955934  0.830840     0.998100     0.805865  0.959188   0.591763        0.753549  0.999895       0.797083\n",
       "2   0.712421     0.926986  0.729272     0.976348     0.374371  0.801286   0.966923        0.989527  0.998912       0.921270\n",
       "3   0.758827     0.878757  0.986554     0.967824     0.712421  0.958959   0.957541        0.874128  0.992084       0.597163\n",
       "4   0.996239     0.953406  0.986554     0.954536     0.798882  0.984909   0.872952        0.962676  0.999378       0.597163"
      ]
     },
     "execution_count": 168,
     "metadata": {},
     "output_type": "execute_result"
    }
   ],
   "source": [
    "dfgroupby = pd.read_csv(\"outputgroupby.csv\")\n",
    "dfgroupby.head()"
   ]
  },
  {
   "cell_type": "code",
   "execution_count": 174,
   "metadata": {
    "collapsed": false
   },
   "outputs": [
    {
     "data": {
      "text/html": [
       "<iframe id=\"igraph\" scrolling=\"no\" style=\"border:none;\"seamless=\"seamless\" src=\"https://plot.ly/~ayinmv/78.embed\" height=\"525\" width=\"100%\"></iframe>"
      ],
      "text/plain": [
       "<plotly.tools.PlotlyDisplay object>"
      ]
     },
     "execution_count": 174,
     "metadata": {},
     "output_type": "execute_result"
    }
   ],
   "source": [
    "dfgroupby.iplot(kind='box', title='Score Quantiles')\n",
    "\n",
    "tls.embed('https://plot.ly/~ayinmv/78')"
   ]
  }
 ],
 "metadata": {
  "kernelspec": {
   "display_name": "Python 2",
   "language": "python",
   "name": "python2"
  },
  "language_info": {
   "codemirror_mode": {
    "name": "ipython",
    "version": 2
   },
   "file_extension": ".py",
   "mimetype": "text/x-python",
   "name": "python",
   "nbconvert_exporter": "python",
   "pygments_lexer": "ipython2",
   "version": "2.7.10"
  }
 },
 "nbformat": 4,
 "nbformat_minor": 0
}
