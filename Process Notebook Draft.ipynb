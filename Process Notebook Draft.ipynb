{
 "cells": [
  {
   "cell_type": "markdown",
   "metadata": {},
   "source": [
    "# Sentiment Analysis of Twitter Feeds to Find Your Favorite Airline"
   ]
  },
  {
   "cell_type": "markdown",
   "metadata": {},
   "source": [
    "Process the raw data and created a final Pandas DataFrame to pass to the Spark application -"
   ]
  },
  {
   "cell_type": "code",
   "execution_count": 1,
   "metadata": {
    "collapsed": true
   },
   "outputs": [],
   "source": [
    "import json\n",
    "import pandas as pd\n",
    "%matplotlib inline\n",
    "import matplotlib.pyplot as plt"
   ]
  },
  {
   "cell_type": "code",
   "execution_count": 2,
   "metadata": {
    "collapsed": false
   },
   "outputs": [
    {
     "name": "stdout",
     "output_type": "stream",
     "text": [
      "Number of raw data rows -  103653\n"
     ]
    }
   ],
   "source": [
    "#create a file to contain the 'raw data' from the twitter streaming api\n",
    "raw_data_path = '../tweets_all@#_103653.json'\n",
    "\n",
    "#create a list to hold the tweets\n",
    "raw_data = []\n",
    "\n",
    "#create and open the new file\n",
    "tweets_file = open(raw_data_path, \"r\")\n",
    "\n",
    "#append to the tweets list from the raw data file\n",
    "for line in tweets_file:\n",
    "    try:\n",
    "        tweet = json.loads(line)\n",
    "        raw_data.append(tweet)\n",
    "    except:\n",
    "        continue       \n",
    "print \"Number of raw data rows - \", len(raw_data)"
   ]
  },
  {
   "cell_type": "code",
   "execution_count": 3,
   "metadata": {
    "collapsed": true
   },
   "outputs": [],
   "source": [
    "tweets = pd.DataFrame()"
   ]
  },
  {
   "cell_type": "code",
   "execution_count": 4,
   "metadata": {
    "collapsed": false
   },
   "outputs": [],
   "source": [
    "#removed u'possibly_sensitive', at the moment since not all rows have it\n",
    "#it goes between place and retweet_count in the below list\n",
    "twitter_fields = [u'contributors', u'coordinates', u'created_at', u'entities', \n",
    "                  u'favorite_count', u'favorited', u'filter_level', u'geo', u'id',\n",
    "                  u'id_str', u'in_reply_to_screen_name', u'in_reply_to_status_id', \n",
    "                  u'in_reply_to_status_id_str', u'in_reply_to_user_id', u'in_reply_to_user_id_str', \n",
    "                  u'lang', u'place',   u'retweet_count', u'retweeted', u'source', \n",
    "                  u'text', u'timestamp_ms', u'truncated', u'user']\n",
    "\n",
    "#set the columns in the dataframe to match the json fields of the twitter streaming api\n",
    "for t in twitter_fields:\n",
    "    tweets[t] = map(lambda tweet: tweet[t] if tweet[t] else 'None', raw_data)\n",
    "tweets['followers_count'] = map(lambda tweet: tweet['user']['followers_count'] if tweet['user'] != None else None, raw_data)\n",
    "tweets['country'] = map(lambda tweet: tweet['place']['country'] if tweet['place'] != None else None, raw_data)"
   ]
  },
  {
   "cell_type": "code",
   "execution_count": 5,
   "metadata": {
    "collapsed": false
   },
   "outputs": [
    {
     "data": {
      "text/plain": [
       "0                      #United States Football Tickets News https://t.co/82wIUcjYt6 https://t.co/cyGk7msfUQ\n",
       "1    In fact I have rarely in my entire life (if ever?) felt more bamboozled by an airline. @SpiritAirlines\n",
       "2                      #United States Football Tickets News https://t.co/USYm8mOueG https://t.co/35eZEfycvB\n",
       "3                      #United States Football Tickets News https://t.co/SFVIa6D9dg https://t.co/owpvznBCrA\n",
       "4                                       Complimentary #Citrix CTP WiFi on @Delta flight, always a pleasure!\n",
       "Name: text, dtype: object"
      ]
     },
     "execution_count": 5,
     "metadata": {},
     "output_type": "execute_result"
    }
   ],
   "source": [
    "#View the first 5 tweets of the dataset\n",
    "pd.set_option('max_colwidth', 200)\n",
    "tweets['text'].head(5)"
   ]
  },
  {
   "cell_type": "code",
   "execution_count": 6,
   "metadata": {
    "collapsed": false
   },
   "outputs": [
    {
     "data": {
      "text/plain": [
       "<matplotlib.axes._subplots.AxesSubplot at 0x189fb5dd0>"
      ]
     },
     "execution_count": 6,
     "metadata": {},
     "output_type": "execute_result"
    },
    {
     "data": {
      "image/png": "[encoded data removed]",
      "text/plain": [
       "<matplotlib.figure.Figure at 0x189fb5150>"
      ]
     },
     "metadata": {},
     "output_type": "display_data"
    }
   ],
   "source": [
    "#view the top 5 languages present in the dataset\n",
    "tweets_by_lang = tweets['lang'].value_counts()\n",
    "fig, ax = plt.subplots()\n",
    "ax.tick_params(axis='x', labelsize=15)\n",
    "ax.tick_params(axis='y', labelsize=10)\n",
    "ax.set_xlabel('Languages', fontsize=15)\n",
    "ax.set_ylabel('Number of tweets' , fontsize=15)\n",
    "ax.set_title('Top 5 languages', fontsize=15, fontweight='bold')\n",
    "tweets_by_lang[:5].plot(ax=ax, kind='bar', color='red')"
   ]
  },
  {
   "cell_type": "code",
   "execution_count": 7,
   "metadata": {
    "collapsed": false
   },
   "outputs": [
    {
     "data": {
      "text/plain": [
       "<matplotlib.axes._subplots.AxesSubplot at 0x18ba1a210>"
      ]
     },
     "execution_count": 7,
     "metadata": {},
     "output_type": "execute_result"
    },
    {
     "data": {
      "image/png": "[encoded data removed]",
      "text/plain": [
       "<matplotlib.figure.Figure at 0x189fb5ed0>"
      ]
     },
     "metadata": {},
     "output_type": "display_data"
    }
   ],
   "source": [
    "#view the top 5 countries in the dataset\n",
    "tweets_by_country = tweets['country'].value_counts()\n",
    "fig, ax = plt.subplots()\n",
    "ax.tick_params(axis='x', labelsize=15)\n",
    "ax.tick_params(axis='y', labelsize=10)\n",
    "ax.set_xlabel('Countries', fontsize=15)\n",
    "ax.set_ylabel('Number of tweets' , fontsize=15)\n",
    "ax.set_title('Top 5 countries', fontsize=15, fontweight='bold')\n",
    "tweets_by_country[:5].plot(ax=ax, kind='bar', color='blue')"
   ]
  },
  {
   "cell_type": "code",
   "execution_count": 8,
   "metadata": {
    "collapsed": true
   },
   "outputs": [],
   "source": [
    "import re\n",
    "#create a function to find the word in the tweet text field\n",
    "def word_in_text(word, text):\n",
    "    word = word.lower()\n",
    "    text = text.lower()\n",
    "    match = re.search(word, text)\n",
    "    if match:\n",
    "        return True\n",
    "    return False"
   ]
  },
  {
   "cell_type": "code",
   "execution_count": 9,
   "metadata": {
    "collapsed": true
   },
   "outputs": [],
   "source": [
    "#get the words in the text\n",
    "airlines = ['southwest', 'delta', 'jetblue', 'united', 'flyfrontier', 'hawaiianair', 'virginamerica', 'alaskaair','spiritairlines', 'AmericanAir']\n",
    "\n",
    "#create columns for each airline and set a boolean value to use for the below visualization of tweet count \n",
    "#for each airline\n",
    "for a in airlines:\n",
    "    if (tweets['text'].apply(lambda tweet: word_in_text(a, tweet))).count() > 0:\n",
    "        tweets[a] = tweets['text'].apply(lambda tweet: word_in_text(a, tweet))"
   ]
  },
  {
   "cell_type": "code",
   "execution_count": 10,
   "metadata": {
    "collapsed": false
   },
   "outputs": [
    {
     "data": {
      "image/png": "[encoded data removed]",
      "text/plain": [
       "<matplotlib.figure.Figure at 0x18bb1cbd0>"
      ]
     },
     "metadata": {},
     "output_type": "display_data"
    }
   ],
   "source": [
    "#view the amount of tweets per airline\n",
    "tweets_by_airlines = [len(tweets.loc[tweets['southwest'] == True]), \n",
    " len(tweets.loc[tweets['delta'] == True]), len(tweets.loc[tweets['jetblue'] == True]),\n",
    "         len(tweets.loc[tweets['united'] == True]), len(tweets.loc[tweets['flyfrontier'] == True]),\n",
    "                     len(tweets.loc[tweets['hawaiianair'] == True]),len(tweets.loc[tweets['virginamerica'] == True]),\n",
    "                     len(tweets.loc[tweets['alaskaair'] == True]),len(tweets.loc[tweets['spiritairlines'] == True]),\n",
    "                     len(tweets.loc[tweets['AmericanAir'] == True])]\n",
    "\n",
    "airlines = ['southwest', 'delta', 'jetblue', 'united', 'flyfrontier', 'hawaiianair', 'virginamerica', 'alaskaair','spiritairlines', 'AmericanAir']\n",
    "\n",
    "x_pos = list(range(len(airlines)))\n",
    "width = 0.3\n",
    "fig, ax = plt.subplots(figsize=(16,8))\n",
    "plt.bar(x_pos, tweets_by_airlines, width, alpha=1, color='g')\n",
    "# Setting axis labels and ticks\n",
    "ax.set_ylabel('Number of tweets', fontsize=15)\n",
    "ax.set_title('Ranking: Airlines (Raw data)', fontsize=10, fontweight='bold')\n",
    "ax.set_xticks([p + 0.9 * width for p in x_pos])\n",
    "ax.set_xticklabels(airlines)\n",
    "plt.grid()"
   ]
  },
  {
   "cell_type": "code",
   "execution_count": 11,
   "metadata": {
    "collapsed": false
   },
   "outputs": [
    {
     "name": "stdout",
     "output_type": "stream",
     "text": [
      "The Processed Data File contains 93737 tweets.\n"
     ]
    }
   ],
   "source": [
    "#create a dataframe called 'processed_data' with extra column 'airline'\n",
    "\n",
    "#a function to set the airline name where the column value is True\n",
    "def setAirlineName(row):   \n",
    "    x = None\n",
    "    for a in airlines:\n",
    "        if row[a] is True:\n",
    "            x = a\n",
    "    if x is not None:\n",
    "        return x\n",
    "    else: \n",
    "        return\n",
    "\n",
    "# set a column in the tweets dataframe for each airline name with a boolean value\n",
    "for a in airlines:\n",
    "    if (tweets['text'].apply(lambda tweet: word_in_text(a, tweet))).count() > 0:\n",
    "        tweets[a] = tweets['text'].apply(lambda tweet: word_in_text(a, tweet))\n",
    "\n",
    "#add the airline column with the airline name as the value \n",
    "tweets['airline'] = tweets.apply(lambda row: setAirlineName(row), axis=1)  \n",
    "\n",
    "#remove the temp. columns for each airline\n",
    "for a in airlines:\n",
    "    tweets = tweets.drop(a, 1)\n",
    "\n",
    "#filter to just English-language tweets, since all our language processing is English-specific\n",
    "processed_data = tweets[tweets['lang'] == 'en']\n",
    "\n",
    "#processed_data['airline'] values are - 'southwest', 'delta', 'jetblue', 'united', 'flyfrontier', \n",
    "# 'hawaiianair', 'virginamerica', 'alaskaair','spiritairlines', 'AmericanAir'\n",
    "print 'The Processed Data File contains', len(processed_data), 'tweets.'"
   ]
  },
  {
   "cell_type": "code",
   "execution_count": 12,
   "metadata": {
    "collapsed": true
   },
   "outputs": [],
   "source": [
    "#create a json file from the processed_data pandas dataframe\n",
    "#it has the extra airline field that will be used for spark processing\n",
    "\n",
    "#This is commented out since we are using the processed_data dataframe for the spark processing\n",
    "# with open('processed_data.json', 'w') as outfile:  \n",
    "#     for index, row in processed_data.iterrows():\n",
    "#         outfile.write(row.to_json())\n",
    "#         outfile.write('\\n')"
   ]
  },
  {
   "cell_type": "markdown",
   "metadata": {},
   "source": [
    "# Pass the data with airlines to Spark for text processing"
   ]
  },
  {
   "cell_type": "code",
   "execution_count": 12,
   "metadata": {
    "collapsed": false
   },
   "outputs": [],
   "source": [
    "from pattern.en import parse\n",
    "from pattern.en import pprint\n",
    "from pattern.vector import stem, PORTER, LEMMA\n",
    "from sklearn.feature_extraction import text\n",
    "from gensim import corpora "
   ]
  },
  {
   "cell_type": "code",
   "execution_count": 13,
   "metadata": {
    "collapsed": false
   },
   "outputs": [
    {
     "name": "stdout",
     "output_type": "stream",
     "text": [
      "/usr/local/opt/apache-spark/libexec\n"
     ]
    }
   ],
   "source": [
    "import findspark\n",
    "findspark.init()\n",
    "print findspark.find()"
   ]
  },
  {
   "cell_type": "code",
   "execution_count": 14,
   "metadata": {
    "collapsed": true
   },
   "outputs": [],
   "source": [
    "import pyspark"
   ]
  },
  {
   "cell_type": "code",
   "execution_count": 15,
   "metadata": {
    "collapsed": true
   },
   "outputs": [],
   "source": [
    "# adapted from HW5\n",
    "def get_parts(thetext, punc='.,;:!?()[]{}`''\\\"@#$^&*+-|=~_'):\n",
    "    # generate stopwords list & regexes for 2+ periods or 2+ dashes\n",
    "    stop = text.ENGLISH_STOP_WORDS\n",
    "    regex1=re.compile(r\"\\.{2,}\")\n",
    "    regex2=re.compile(r\"\\-{2,}\")\n",
    "    thetext=re.sub(regex1, ' ', thetext)\n",
    "    thetext=re.sub(regex2, ' ', thetext)\n",
    "    punctuation = list(punc)\n",
    "    nouns=[]\n",
    "    descriptives=[]\n",
    "    for i,sentence in enumerate(parse(thetext, tokenize=True, lemmata=True).split()):\n",
    "        nouns.append([])\n",
    "        descriptives.append([])\n",
    "        for token in sentence:\n",
    "            if len(token[4]) >0:\n",
    "                if token[1] in ['JJ', 'JJR', 'JJS']:\n",
    "                    if token[4] in stop or token[4][0] in punctuation or token[4][-1] in punctuation or len(token[4])==1:\n",
    "                        continue\n",
    "                    descriptives[i].append(token[4])\n",
    "                elif token[1] in ['NN', 'NNS']:\n",
    "                    if token[4] in stop or token[4][0] in punctuation or token[4][-1] in punctuation or len(token[4])==1:\n",
    "                        continue\n",
    "                    nouns[i].append(token[4])\n",
    "    out=zip(nouns, descriptives)\n",
    "    nouns2=[]\n",
    "    descriptives2=[]\n",
    "    for n,d in out:\n",
    "        if len(n)!=0 and len(d)!=0:\n",
    "            nouns2.append(n)\n",
    "            descriptives2.append(d)\n",
    "    return nouns2, descriptives2"
   ]
  },
  {
   "cell_type": "code",
   "execution_count": 16,
   "metadata": {
    "collapsed": false
   },
   "outputs": [],
   "source": [
    "# initialize Spark context\n",
    "conf = pyspark.SparkConf().setAppName(\"Twitter_Airline\").setMaster(\"local[*]\")\n",
    "sc = pyspark.SparkContext(conf=conf)"
   ]
  },
  {
   "cell_type": "markdown",
   "metadata": {},
   "source": [
    "We read all the tweets from the dataframe into Spark, assigning each tweet a unique ID so we can track it through our sentiment analysis and LDA topic modeling."
   ]
  },
  {
   "cell_type": "code",
   "execution_count": 17,
   "metadata": {
    "collapsed": false
   },
   "outputs": [
    {
     "data": {
      "text/plain": [
       "[((0, 'united'),\n",
       "  u'#United States Football Tickets\\xa0News https://t.co/82wIUcjYt6 https://t.co/cyGk7msfUQ'),\n",
       " ((1, 'spiritairlines'),\n",
       "  u'In fact I have rarely in my entire life (if ever?) felt more bamboozled by an airline. @SpiritAirlines'),\n",
       " ((2, 'united'),\n",
       "  u'#United States Football Tickets\\xa0News https://t.co/USYm8mOueG https://t.co/35eZEfycvB'),\n",
       " ((3, 'united'),\n",
       "  u'#United States Football Tickets\\xa0News https://t.co/SFVIa6D9dg https://t.co/owpvznBCrA'),\n",
       " ((4, 'delta'),\n",
       "  u'Complimentary #Citrix CTP WiFi on @Delta flight, always a pleasure!')]"
      ]
     },
     "execution_count": 17,
     "metadata": {},
     "output_type": "execute_result"
    }
   ],
   "source": [
    "# read tweets & associated airlines into Spark\n",
    "tweets_text = sc.parallelize([(row['airline'], row['text']) for index, row in processed_data.iterrows()]).zipWithIndex().map(lambda ((air, txt), idx): ((idx, air), txt))\n",
    "tweets_text.take(5)"
   ]
  },
  {
   "cell_type": "markdown",
   "metadata": {},
   "source": [
    "### Sentiment of a sentence based on log probs in a word list"
   ]
  },
  {
   "cell_type": "markdown",
   "metadata": {},
   "source": [
    "Function to read the word list file:"
   ]
  },
  {
   "cell_type": "code",
   "execution_count": 18,
   "metadata": {
    "collapsed": true
   },
   "outputs": [],
   "source": [
    "import numpy as np\n",
    "# read the word list\n",
    "def readSentimentList(file_name):\n",
    "    ifile = open(file_name, 'r')\n",
    "    happy_log_probs = {}\n",
    "    sad_log_probs = {}\n",
    "    ifile.readline() #Ignore title row\n",
    "    # splitting the csv\n",
    "    for line in ifile:\n",
    "        tokens = line[:-1].split(',')\n",
    "        happy_log_probs[tokens[0]] = float(tokens[1])\n",
    "        sad_log_probs[tokens[0]] = float(tokens[2])\n",
    "\n",
    "    return happy_log_probs, sad_log_probs"
   ]
  },
  {
   "cell_type": "markdown",
   "metadata": {},
   "source": [
    "Using Naive Bayes rule:"
   ]
  },
  {
   "cell_type": "code",
   "execution_count": 19,
   "metadata": {
    "collapsed": true
   },
   "outputs": [],
   "source": [
    "def classifySentiment(words, happy_log_probs, sad_log_probs):\n",
    "    # get the log-probability of each word under each sentiment\n",
    "    happy_probs = [happy_log_probs[word] for word in words if word in happy_log_probs]\n",
    "    sad_probs = [sad_log_probs[word] for word in words if word in sad_log_probs]\n",
    "\n",
    "    # sum all the log-probabilities for each sentiment to get a log-probability for the whole tweet\n",
    "    tweet_happy_log_prob = np.sum(happy_probs)\n",
    "    tweet_sad_log_prob = np.sum(sad_probs)\n",
    "\n",
    "    # calculate the probability of the tweet belonging to each sentiment\n",
    "    prob_happy = np.reciprocal(np.exp(tweet_sad_log_prob - tweet_happy_log_prob) + 1)\n",
    "    prob_sad = 1 - prob_happy\n",
    "\n",
    "    return prob_happy, prob_sad"
   ]
  },
  {
   "cell_type": "markdown",
   "metadata": {},
   "source": [
    "Load the word list:"
   ]
  },
  {
   "cell_type": "code",
   "execution_count": 20,
   "metadata": {
    "collapsed": true
   },
   "outputs": [],
   "source": [
    "# load list of words and log probs\n",
    "happy_log_probs, sad_log_probs = readSentimentList('wordlist.csv')"
   ]
  },
  {
   "cell_type": "markdown",
   "metadata": {},
   "source": [
    "Reading in the tweet:"
   ]
  },
  {
   "cell_type": "code",
   "execution_count": 21,
   "metadata": {
    "collapsed": false
   },
   "outputs": [
    {
     "name": "stdout",
     "output_type": "stream",
     "text": [
      "['my', 'hate', 'southwest']\n",
      "happy probability:  0.280105168408\n",
      "sad probability: 0.719894831592\n"
     ]
    }
   ],
   "source": [
    "# read tweet\n",
    "tweet1 = ['my', 'hate', 'southwest']\n",
    "\n",
    "# calculate the probability\n",
    "tweet1_happy_prob, tweet1_sad_prob = classifySentiment(tweet1, happy_log_probs, sad_log_probs)\n",
    "\n",
    "print tweet1 \n",
    "print \"happy probability: \" , tweet1_happy_prob \n",
    "print \"sad probability:\", tweet1_sad_prob"
   ]
  },
  {
   "cell_type": "code",
   "execution_count": 22,
   "metadata": {
    "collapsed": false
   },
   "outputs": [],
   "source": [
    "# get words out for sentiment analysis\n",
    "puncs = '.,;:!?()[]{}`''\\\"@#$^&*+-|=~_'\n",
    "sentiment_words = tweets_text.mapValues(lambda t: t.strip(puncs).split())\n",
    "\n",
    "# classify sentiment of tweet\n",
    "tweets_probs = sentiment_words.mapValues(lambda ws: classifySentiment(ws, happy_log_probs, sad_log_probs))\n",
    "happy_probs = tweets_probs.mapValues(lambda (hprob, sprob): (hprob, 1))\n",
    "sad_probs = tweets_probs.mapValues(lambda (hprob, sprob): (sprob, 1))\n"
   ]
  },
  {
   "cell_type": "markdown",
   "metadata": {},
   "source": [
    "Create an output.csv file to use for visualization "
   ]
  },
  {
   "cell_type": "code",
   "execution_count": 23,
   "metadata": {
    "collapsed": false
   },
   "outputs": [],
   "source": [
    "#collect the happy probabilities from the above mapValues call\n",
    "listOfHappyProbs = happy_probs.collect()\n",
    "\n",
    "#create an empty list to contain the just the probability portion of happy_probs\n",
    "HappyProbsList = []\n",
    "for x in range(len(listOfHappyProbs)):\n",
    "    HappyProbsList.append(listOfHappyProbs[x][1][0])\n",
    "\n",
    "#create the following dataframe containing columns of data for visualization\n",
    "# text, airline, positive, prob, created_at, favorite_count, retweet_count, followers_count\n",
    "df_data_visualization = pd.DataFrame()\n",
    "df_data_visualization['created_at'] = processed_data['created_at']\n",
    "df_data_visualization['favorite_count'] = processed_data['favorite_count']\n",
    "df_data_visualization['retweet_count'] = processed_data['retweet_count']\n",
    "df_data_visualization['followers_count'] = processed_data['followers_count']\n",
    "# df_data_visualization['text'] = processed_data['text']\n",
    "df_data_visualization['airline'] = processed_data['airline']\n",
    "df_data_visualization['prob'] = HappyProbsList\n",
    "\n",
    "#a function to set a 1 if the happy probability is greater than .5 otherwise set it to 0\n",
    "#we will use this for the visualization aspect\n",
    "def setPositiveValues(row):\n",
    "    if row['prob'] > 0.5:\n",
    "        return 1\n",
    "    else:\n",
    "        return 0\n",
    "\n",
    "#run the function on the prob column to create the positive column to determine if a tweet is positive or negative\n",
    "#from the happy probability\n",
    "df_data_visualization['positive'] = df_data_visualization.apply(setPositiveValues, axis=1)\n",
    "\n",
    "#create the text column, remove the newlines from the text to resolve an issue with row creation in the .to_csv call\n",
    "df_data_visualization['text'] = processed_data['text'].str.replace('\\n',\"\")\n",
    "\n",
    "#create a .csv file to use for visualization \n",
    "df_data_visualization.to_csv('output.csv', encoding='utf-8', index=False)"
   ]
  },
  {
   "cell_type": "markdown",
   "metadata": {},
   "source": [
    "## Visualization"
   ]
  },
  {
   "cell_type": "markdown",
   "metadata": {},
   "source": [
    "reading hte output file"
   ]
  },
  {
   "cell_type": "code",
   "execution_count": 24,
   "metadata": {
    "collapsed": false
   },
   "outputs": [
    {
     "data": {
      "text/html": [
       "<div>\n",
       "<table border=\"1\" class=\"dataframe\">\n",
       "  <thead>\n",
       "    <tr style=\"text-align: right;\">\n",
       "      <th></th>\n",
       "      <th>created_at</th>\n",
       "      <th>favorite_count</th>\n",
       "      <th>retweet_count</th>\n",
       "      <th>followers_count</th>\n",
       "      <th>airline</th>\n",
       "      <th>prob</th>\n",
       "      <th>positive</th>\n",
       "      <th>text</th>\n",
       "    </tr>\n",
       "  </thead>\n",
       "  <tbody>\n",
       "    <tr>\n",
       "      <th>1</th>\n",
       "      <td>Mon Nov 30 12:59:18 +0000 2015</td>\n",
       "      <td>None</td>\n",
       "      <td>None</td>\n",
       "      <td>2234</td>\n",
       "      <td>spiritairlines</td>\n",
       "      <td>0.959401</td>\n",
       "      <td>1</td>\n",
       "      <td>In fact I have rarely in my entire life (if ever?) felt more bamboozled by an airline. @SpiritAirlines</td>\n",
       "    </tr>\n",
       "    <tr>\n",
       "      <th>4</th>\n",
       "      <td>Mon Nov 30 12:59:49 +0000 2015</td>\n",
       "      <td>None</td>\n",
       "      <td>None</td>\n",
       "      <td>1672</td>\n",
       "      <td>delta</td>\n",
       "      <td>0.987388</td>\n",
       "      <td>1</td>\n",
       "      <td>Complimentary #Citrix CTP WiFi on @Delta flight, always a pleasure!</td>\n",
       "    </tr>\n",
       "    <tr>\n",
       "      <th>5</th>\n",
       "      <td>Mon Nov 30 13:00:02 +0000 2015</td>\n",
       "      <td>None</td>\n",
       "      <td>None</td>\n",
       "      <td>189</td>\n",
       "      <td>AmericanAir</td>\n",
       "      <td>0.873072</td>\n",
       "      <td>1</td>\n",
       "      <td>@judsonabts @AmericanAir the thing about it is they were my carry ons...</td>\n",
       "    </tr>\n",
       "    <tr>\n",
       "      <th>10</th>\n",
       "      <td>Mon Nov 30 13:00:37 +0000 2015</td>\n",
       "      <td>None</td>\n",
       "      <td>None</td>\n",
       "      <td>16720</td>\n",
       "      <td>virginamerica</td>\n",
       "      <td>0.797083</td>\n",
       "      <td>1</td>\n",
       "      <td>.@United responds to @VirginAmerica entering #Denver - San Francisco market https://t.co/P47FlIPWXy https://t.co/et2OeZSZCe</td>\n",
       "    </tr>\n",
       "    <tr>\n",
       "      <th>11</th>\n",
       "      <td>Mon Nov 30 13:00:40 +0000 2015</td>\n",
       "      <td>None</td>\n",
       "      <td>None</td>\n",
       "      <td>16</td>\n",
       "      <td>AmericanAir</td>\n",
       "      <td>0.955934</td>\n",
       "      <td>1</td>\n",
       "      <td>@AmericanAir another flight with American and again a super cramped seat. It's not an airplane it's a Sardine Can it seems like it.</td>\n",
       "    </tr>\n",
       "  </tbody>\n",
       "</table>\n",
       "</div>"
      ],
      "text/plain": [
       "                        created_at favorite_count retweet_count  \\\n",
       "1   Mon Nov 30 12:59:18 +0000 2015           None          None   \n",
       "4   Mon Nov 30 12:59:49 +0000 2015           None          None   \n",
       "5   Mon Nov 30 13:00:02 +0000 2015           None          None   \n",
       "10  Mon Nov 30 13:00:37 +0000 2015           None          None   \n",
       "11  Mon Nov 30 13:00:40 +0000 2015           None          None   \n",
       "\n",
       "    followers_count         airline      prob  positive  \\\n",
       "1              2234  spiritairlines  0.959401         1   \n",
       "4              1672           delta  0.987388         1   \n",
       "5               189     AmericanAir  0.873072         1   \n",
       "10            16720   virginamerica  0.797083         1   \n",
       "11               16     AmericanAir  0.955934         1   \n",
       "\n",
       "                                                                                                                                   text  \n",
       "1                                In fact I have rarely in my entire life (if ever?) felt more bamboozled by an airline. @SpiritAirlines  \n",
       "4                                                                   Complimentary #Citrix CTP WiFi on @Delta flight, always a pleasure!  \n",
       "5                                                              @judsonabts @AmericanAir the thing about it is they were my carry ons...  \n",
       "10          .@United responds to @VirginAmerica entering #Denver - San Francisco market https://t.co/P47FlIPWXy https://t.co/et2OeZSZCe  \n",
       "11  @AmericanAir another flight with American and again a super cramped seat. It's not an airplane it's a Sardine Can it seems like it.  "
      ]
     },
     "execution_count": 24,
     "metadata": {},
     "output_type": "execute_result"
    }
   ],
   "source": [
    "df = pd.read_csv(\"output.csv\")\n",
    "#df.to_csv(\"output.csv\", date_format='%Y%m%d')\n",
    "#getting rid of undecided tweets\n",
    "df = df[(df.prob <> .5)]\n",
    "df.head()"
   ]
  },
  {
   "cell_type": "markdown",
   "metadata": {},
   "source": [
    "Running Plotly"
   ]
  },
  {
   "cell_type": "code",
   "execution_count": 25,
   "metadata": {
    "collapsed": false
   },
   "outputs": [
    {
     "name": "stdout",
     "output_type": "stream",
     "text": [
      "0.7.1\n"
     ]
    }
   ],
   "source": [
    "#run these using your username and key\n",
    "import plotly.tools as tls\n",
    "tls.set_credentials_file(username='ayinmv', api_key='rq66z3hqx8')\n",
    "\n",
    "import plotly.plotly as py\n",
    "from plotly.graph_objs import *\n",
    "\n",
    "#install cufflink package\n",
    "import cufflinks as cf\n",
    "print cf.__version__"
   ]
  },
  {
   "cell_type": "markdown",
   "metadata": {},
   "source": [
    "Number of Tweets"
   ]
  },
  {
   "cell_type": "code",
   "execution_count": 26,
   "metadata": {
    "collapsed": false
   },
   "outputs": [
    {
     "data": {
      "text/html": [
       "<iframe id=\"igraph\" scrolling=\"no\" style=\"border:none;\"seamless=\"seamless\" src=\"https://plot.ly/~ayinmv/33.embed\" height=\"525\" width=\"100%\"></iframe>"
      ],
      "text/plain": [
       "<plotly.tools.PlotlyDisplay object>"
      ]
     },
     "execution_count": 26,
     "metadata": {},
     "output_type": "execute_result"
    }
   ],
   "source": [
    "airline_count = df.groupby(['airline']).count().prob.sort_values(axis=0, ascending=False, inplace=False)\n",
    "airline_count.iplot(kind='bar', yTitle='Number of Tweets', title='Number of Tweets')\n",
    "\n",
    "tls.embed('https://plot.ly/~ayinmv/33')"
   ]
  },
  {
   "cell_type": "markdown",
   "metadata": {},
   "source": [
    "Score of the airlines based on the average of their positive scores"
   ]
  },
  {
   "cell_type": "code",
   "execution_count": 27,
   "metadata": {
    "collapsed": false
   },
   "outputs": [
    {
     "data": {
      "text/html": [
       "<iframe id=\"igraph\" scrolling=\"no\" style=\"border:none;\"seamless=\"seamless\" src=\"https://plot.ly/~ayinmv/63.embed\" height=\"525\" width=\"100%\"></iframe>"
      ],
      "text/plain": [
       "<plotly.tools.PlotlyDisplay object>"
      ]
     },
     "execution_count": 27,
     "metadata": {},
     "output_type": "execute_result"
    }
   ],
   "source": [
    "airline_count = df.groupby(['airline']).mean().prob.sort_values(axis=0, ascending=False, inplace=False)\n",
    "airline_count.iplot(kind='bar', yTitle='Average Score', title='Average Score')\n",
    "\n",
    "tls.embed('https://plot.ly/~ayinmv/63')"
   ]
  },
  {
   "cell_type": "markdown",
   "metadata": {},
   "source": [
    "Most important tweets"
   ]
  },
  {
   "cell_type": "code",
   "execution_count": 28,
   "metadata": {
    "collapsed": false
   },
   "outputs": [
    {
     "data": {
      "text/html": [
       "<div>\n",
       "<table border=\"1\" class=\"dataframe\">\n",
       "  <thead>\n",
       "    <tr style=\"text-align: right;\">\n",
       "      <th></th>\n",
       "      <th>followers_count</th>\n",
       "      <th>text</th>\n",
       "      <th>prob</th>\n",
       "      <th>created_at</th>\n",
       "    </tr>\n",
       "  </thead>\n",
       "  <tbody>\n",
       "    <tr>\n",
       "      <th>80284</th>\n",
       "      <td>9561279</td>\n",
       "      <td>@beauflynn @VirginAmerica Yea baby! Fav airline to fly outta FLL. Safe travels bro great seeing you</td>\n",
       "      <td>0.999871</td>\n",
       "      <td>Sun Nov 29 02:58:52 +0000 2015</td>\n",
       "    </tr>\n",
       "    <tr>\n",
       "      <th>26101</th>\n",
       "      <td>4546595</td>\n",
       "      <td>A couple teammates took in a different form of elite training during the off-day in Atlanta at @Delta​ HQ: https://t.co/pDpWK0aeKc</td>\n",
       "      <td>0.993440</td>\n",
       "      <td>Thu Dec 03 23:39:13 +0000 2015</td>\n",
       "    </tr>\n",
       "    <tr>\n",
       "      <th>30012</th>\n",
       "      <td>3313970</td>\n",
       "      <td>@AmericanAir thank you for the concierge key this year! hope i get renewed for 2016!</td>\n",
       "      <td>0.998328</td>\n",
       "      <td>Fri Dec 04 08:55:41 +0000 2015</td>\n",
       "    </tr>\n",
       "    <tr>\n",
       "      <th>29971</th>\n",
       "      <td>3313940</td>\n",
       "      <td>me &amp;amp; @R3HAB waited until our row fell asleep then made a lil banger here on @americanair studios.</td>\n",
       "      <td>0.960900</td>\n",
       "      <td>Fri Dec 04 08:46:26 +0000 2015</td>\n",
       "    </tr>\n",
       "    <tr>\n",
       "      <th>27211</th>\n",
       "      <td>3068510</td>\n",
       "      <td>Had the best time spreading cheer today @delta's Holiday in the Hangar event! Check out this winter wonderland! #DeltaLAX #DeltaGreaterGood</td>\n",
       "      <td>0.997183</td>\n",
       "      <td>Fri Dec 04 01:39:24 +0000 2015</td>\n",
       "    </tr>\n",
       "    <tr>\n",
       "      <th>84167</th>\n",
       "      <td>2042736</td>\n",
       "      <td>Apparently \" sully \" the service dog who weighs at least 50 pounds is having trouble getting comfortable in business class @Delta</td>\n",
       "      <td>0.998998</td>\n",
       "      <td>Sun Nov 29 16:43:22 +0000 2015</td>\n",
       "    </tr>\n",
       "    <tr>\n",
       "      <th>68221</th>\n",
       "      <td>1974653</td>\n",
       "      <td>@kristina_vash @VirginAmerica So sorry to hear it! As mentioned, the seats are under airport control. We appreciate you working with us.</td>\n",
       "      <td>0.993639</td>\n",
       "      <td>Tue Dec 08 23:19:05 +0000 2015</td>\n",
       "    </tr>\n",
       "    <tr>\n",
       "      <th>68158</th>\n",
       "      <td>1974652</td>\n",
       "      <td>@kristina_vash @VirginAmerica This has happened before, Kristina?</td>\n",
       "      <td>0.387029</td>\n",
       "      <td>Tue Dec 08 23:11:16 +0000 2015</td>\n",
       "    </tr>\n",
       "    <tr>\n",
       "      <th>66893</th>\n",
       "      <td>1974645</td>\n",
       "      <td>Tag @JetBlue &amp;amp; #IChipInSweepstakes for a chance to win $1K for your charity of choice.+Terms https://t.co/gRnM9IVJhs https://t.co/AglRia4LWb</td>\n",
       "      <td>0.986362</td>\n",
       "      <td>Tue Dec 08 21:30:07 +0000 2015</td>\n",
       "    </tr>\n",
       "    <tr>\n",
       "      <th>65810</th>\n",
       "      <td>1974642</td>\n",
       "      <td>@JoJensen Her best source for info is the JFK Baggage Service Office. Ph: 1-347-545-3900 Email: jfklostandfound@jetblue.com</td>\n",
       "      <td>0.994583</td>\n",
       "      <td>Tue Dec 08 20:15:55 +0000 2015</td>\n",
       "    </tr>\n",
       "    <tr>\n",
       "      <th>52058</th>\n",
       "      <td>1974474</td>\n",
       "      <td>@ThatJackR @NYPD110Pct @Delta Sorry, we can't accept hoverboards as their lithium batteries are prohibited.</td>\n",
       "      <td>0.778899</td>\n",
       "      <td>Mon Dec 07 00:55:30 +0000 2015</td>\n",
       "    </tr>\n",
       "    <tr>\n",
       "      <th>34089</th>\n",
       "      <td>1974275</td>\n",
       "      <td>@alyswonderland_ @united @Delta @AlaskaAir @AmericanAir @SouthwestAir @BoeingAirplanes We have a 13th row onboard! 🌙🔮✨</td>\n",
       "      <td>0.711730</td>\n",
       "      <td>Fri Dec 04 20:10:24 +0000 2015</td>\n",
       "    </tr>\n",
       "    <tr>\n",
       "      <th>25828</th>\n",
       "      <td>1974196</td>\n",
       "      <td>@FateWillTell @AmericanAir @Delta @FlyFrontier @LaGuardiaAir Sorry, forgot to mention FLL is the closest we've got!</td>\n",
       "      <td>0.904682</td>\n",
       "      <td>Thu Dec 03 22:15:29 +0000 2015</td>\n",
       "    </tr>\n",
       "    <tr>\n",
       "      <th>25725</th>\n",
       "      <td>1974194</td>\n",
       "      <td>@FateWillTell @AmericanAir @Delta @FlyFrontier @LaGuardiaAir Sorry to hear this! So you don't have a booking with us, correct?</td>\n",
       "      <td>0.975038</td>\n",
       "      <td>Thu Dec 03 22:04:21 +0000 2015</td>\n",
       "    </tr>\n",
       "    <tr>\n",
       "      <th>25696</th>\n",
       "      <td>1974194</td>\n",
       "      <td>@FateWillTell @AmericanAir @Delta @FlyFrontier @LaGuardiaAir Trying to get to Miami from LGA?</td>\n",
       "      <td>0.688497</td>\n",
       "      <td>Thu Dec 03 22:01:29 +0000 2015</td>\n",
       "    </tr>\n",
       "    <tr>\n",
       "      <th>25765</th>\n",
       "      <td>1974194</td>\n",
       "      <td>@FateWillTell @AmericanAir @Delta @FlyFrontier @LaGuardiaAir Have you checked our website? That's your best bet for a last minute flight.</td>\n",
       "      <td>0.997828</td>\n",
       "      <td>Thu Dec 03 22:08:08 +0000 2015</td>\n",
       "    </tr>\n",
       "    <tr>\n",
       "      <th>20234</th>\n",
       "      <td>1974053</td>\n",
       "      <td>@seo_hanna We can be reached via email at DearJetBlue@JetBlue.com</td>\n",
       "      <td>0.974323</td>\n",
       "      <td>Thu Dec 03 01:45:44 +0000 2015</td>\n",
       "    </tr>\n",
       "    <tr>\n",
       "      <th>7240</th>\n",
       "      <td>1933419</td>\n",
       "      <td>Thanks #NYC! And @Matt_Morrison and @febreze_fresh and #12Stinks and @VirginAmerica for getting me to and fro. https://t.co/Iw2c6DIWw9</td>\n",
       "      <td>0.683220</td>\n",
       "      <td>Tue Dec 01 17:55:20 +0000 2015</td>\n",
       "    </tr>\n",
       "    <tr>\n",
       "      <th>50433</th>\n",
       "      <td>1927827</td>\n",
       "      <td>@matthewnorwood But lets be serious here, he's thinking \"Hey @SouthwestAir. Matthew is on my BNA-DAL flight.\" ^AC</td>\n",
       "      <td>0.970249</td>\n",
       "      <td>Sun Dec 06 15:08:14 +0000 2015</td>\n",
       "    </tr>\n",
       "    <tr>\n",
       "      <th>19270</th>\n",
       "      <td>1927006</td>\n",
       "      <td>@shawnrstewart Great takeaway, Shawn! How'd you enjoy Ginger? #SouthwestAir ^DH</td>\n",
       "      <td>0.916005</td>\n",
       "      <td>Wed Dec 02 20:56:04 +0000 2015</td>\n",
       "    </tr>\n",
       "  </tbody>\n",
       "</table>\n",
       "</div>"
      ],
      "text/plain": [
       "       followers_count  \\\n",
       "80284          9561279   \n",
       "26101          4546595   \n",
       "30012          3313970   \n",
       "29971          3313940   \n",
       "27211          3068510   \n",
       "84167          2042736   \n",
       "68221          1974653   \n",
       "68158          1974652   \n",
       "66893          1974645   \n",
       "65810          1974642   \n",
       "52058          1974474   \n",
       "34089          1974275   \n",
       "25828          1974196   \n",
       "25725          1974194   \n",
       "25696          1974194   \n",
       "25765          1974194   \n",
       "20234          1974053   \n",
       "7240           1933419   \n",
       "50433          1927827   \n",
       "19270          1927006   \n",
       "\n",
       "                                                                                                                                                   text  \\\n",
       "80284                                               @beauflynn @VirginAmerica Yea baby! Fav airline to fly outta FLL. Safe travels bro great seeing you   \n",
       "26101                A couple teammates took in a different form of elite training during the off-day in Atlanta at @Delta​ HQ: https://t.co/pDpWK0aeKc   \n",
       "30012                                                              @AmericanAir thank you for the concierge key this year! hope i get renewed for 2016!   \n",
       "29971                                             me &amp; @R3HAB waited until our row fell asleep then made a lil banger here on @americanair studios.   \n",
       "27211       Had the best time spreading cheer today @delta's Holiday in the Hangar event! Check out this winter wonderland! #DeltaLAX #DeltaGreaterGood   \n",
       "84167                 Apparently \" sully \" the service dog who weighs at least 50 pounds is having trouble getting comfortable in business class @Delta   \n",
       "68221          @kristina_vash @VirginAmerica So sorry to hear it! As mentioned, the seats are under airport control. We appreciate you working with us.   \n",
       "68158                                                                                 @kristina_vash @VirginAmerica This has happened before, Kristina?   \n",
       "66893  Tag @JetBlue &amp; #IChipInSweepstakes for a chance to win $1K for your charity of choice.+Terms https://t.co/gRnM9IVJhs https://t.co/AglRia4LWb   \n",
       "65810                       @JoJensen Her best source for info is the JFK Baggage Service Office. Ph: 1-347-545-3900 Email: jfklostandfound@jetblue.com   \n",
       "52058                                       @ThatJackR @NYPD110Pct @Delta Sorry, we can't accept hoverboards as their lithium batteries are prohibited.   \n",
       "34089                          @alyswonderland_ @united @Delta @AlaskaAir @AmericanAir @SouthwestAir @BoeingAirplanes We have a 13th row onboard! 🌙🔮✨   \n",
       "25828                               @FateWillTell @AmericanAir @Delta @FlyFrontier @LaGuardiaAir Sorry, forgot to mention FLL is the closest we've got!   \n",
       "25725                    @FateWillTell @AmericanAir @Delta @FlyFrontier @LaGuardiaAir Sorry to hear this! So you don't have a booking with us, correct?   \n",
       "25696                                                     @FateWillTell @AmericanAir @Delta @FlyFrontier @LaGuardiaAir Trying to get to Miami from LGA?   \n",
       "25765         @FateWillTell @AmericanAir @Delta @FlyFrontier @LaGuardiaAir Have you checked our website? That's your best bet for a last minute flight.   \n",
       "20234                                                                                 @seo_hanna We can be reached via email at DearJetBlue@JetBlue.com   \n",
       "7240             Thanks #NYC! And @Matt_Morrison and @febreze_fresh and #12Stinks and @VirginAmerica for getting me to and fro. https://t.co/Iw2c6DIWw9   \n",
       "50433                                 @matthewnorwood But lets be serious here, he's thinking \"Hey @SouthwestAir. Matthew is on my BNA-DAL flight.\" ^AC   \n",
       "19270                                                                   @shawnrstewart Great takeaway, Shawn! How'd you enjoy Ginger? #SouthwestAir ^DH   \n",
       "\n",
       "           prob                      created_at  \n",
       "80284  0.999871  Sun Nov 29 02:58:52 +0000 2015  \n",
       "26101  0.993440  Thu Dec 03 23:39:13 +0000 2015  \n",
       "30012  0.998328  Fri Dec 04 08:55:41 +0000 2015  \n",
       "29971  0.960900  Fri Dec 04 08:46:26 +0000 2015  \n",
       "27211  0.997183  Fri Dec 04 01:39:24 +0000 2015  \n",
       "84167  0.998998  Sun Nov 29 16:43:22 +0000 2015  \n",
       "68221  0.993639  Tue Dec 08 23:19:05 +0000 2015  \n",
       "68158  0.387029  Tue Dec 08 23:11:16 +0000 2015  \n",
       "66893  0.986362  Tue Dec 08 21:30:07 +0000 2015  \n",
       "65810  0.994583  Tue Dec 08 20:15:55 +0000 2015  \n",
       "52058  0.778899  Mon Dec 07 00:55:30 +0000 2015  \n",
       "34089  0.711730  Fri Dec 04 20:10:24 +0000 2015  \n",
       "25828  0.904682  Thu Dec 03 22:15:29 +0000 2015  \n",
       "25725  0.975038  Thu Dec 03 22:04:21 +0000 2015  \n",
       "25696  0.688497  Thu Dec 03 22:01:29 +0000 2015  \n",
       "25765  0.997828  Thu Dec 03 22:08:08 +0000 2015  \n",
       "20234  0.974323  Thu Dec 03 01:45:44 +0000 2015  \n",
       "7240   0.683220  Tue Dec 01 17:55:20 +0000 2015  \n",
       "50433  0.970249  Sun Dec 06 15:08:14 +0000 2015  \n",
       "19270  0.916005  Wed Dec 02 20:56:04 +0000 2015  "
      ]
     },
     "execution_count": 28,
     "metadata": {},
     "output_type": "execute_result"
    }
   ],
   "source": [
    "pd.set_option('max_colwidth', 200)\n",
    "\n",
    "df.sort_values(by=['followers_count'], ascending=[False])[['followers_count','text', 'prob', 'created_at']].head(20)"
   ]
  },
  {
   "cell_type": "markdown",
   "metadata": {},
   "source": [
    "Pulling groupby airline output"
   ]
  },
  {
   "cell_type": "code",
   "execution_count": 29,
   "metadata": {
    "collapsed": false
   },
   "outputs": [
    {
     "data": {
      "text/html": [
       "<div>\n",
       "<table border=\"1\" class=\"dataframe\">\n",
       "  <thead>\n",
       "    <tr style=\"text-align: right;\">\n",
       "      <th></th>\n",
       "      <th>alaskaair</th>\n",
       "      <th>AmericanAir</th>\n",
       "      <th>delta</th>\n",
       "      <th>flyfrontier</th>\n",
       "      <th>hawaiianair</th>\n",
       "      <th>jetblue</th>\n",
       "      <th>southwest</th>\n",
       "      <th>spiritairlines</th>\n",
       "      <th>united</th>\n",
       "      <th>virginamerica</th>\n",
       "    </tr>\n",
       "  </thead>\n",
       "  <tbody>\n",
       "    <tr>\n",
       "      <th>0</th>\n",
       "      <td>0.993208</td>\n",
       "      <td>0.873072</td>\n",
       "      <td>0.987388</td>\n",
       "      <td>0.997226</td>\n",
       "      <td>0.931447</td>\n",
       "      <td>0.952768</td>\n",
       "      <td>0.996007</td>\n",
       "      <td>0.959401</td>\n",
       "      <td>0.886928</td>\n",
       "      <td>0.797083</td>\n",
       "    </tr>\n",
       "    <tr>\n",
       "      <th>1</th>\n",
       "      <td>0.965431</td>\n",
       "      <td>0.955934</td>\n",
       "      <td>0.830840</td>\n",
       "      <td>0.998100</td>\n",
       "      <td>0.805865</td>\n",
       "      <td>0.959188</td>\n",
       "      <td>0.591763</td>\n",
       "      <td>0.753549</td>\n",
       "      <td>0.999895</td>\n",
       "      <td>0.797083</td>\n",
       "    </tr>\n",
       "    <tr>\n",
       "      <th>2</th>\n",
       "      <td>0.712421</td>\n",
       "      <td>0.926986</td>\n",
       "      <td>0.729272</td>\n",
       "      <td>0.976348</td>\n",
       "      <td>0.374371</td>\n",
       "      <td>0.801286</td>\n",
       "      <td>0.966923</td>\n",
       "      <td>0.989527</td>\n",
       "      <td>0.998912</td>\n",
       "      <td>0.921270</td>\n",
       "    </tr>\n",
       "    <tr>\n",
       "      <th>3</th>\n",
       "      <td>0.758827</td>\n",
       "      <td>0.878757</td>\n",
       "      <td>0.986554</td>\n",
       "      <td>0.967824</td>\n",
       "      <td>0.712421</td>\n",
       "      <td>0.958959</td>\n",
       "      <td>0.957541</td>\n",
       "      <td>0.874128</td>\n",
       "      <td>0.992084</td>\n",
       "      <td>0.597163</td>\n",
       "    </tr>\n",
       "    <tr>\n",
       "      <th>4</th>\n",
       "      <td>0.996239</td>\n",
       "      <td>0.953406</td>\n",
       "      <td>0.986554</td>\n",
       "      <td>0.954536</td>\n",
       "      <td>0.798882</td>\n",
       "      <td>0.984909</td>\n",
       "      <td>0.872952</td>\n",
       "      <td>0.962676</td>\n",
       "      <td>0.999378</td>\n",
       "      <td>0.597163</td>\n",
       "    </tr>\n",
       "  </tbody>\n",
       "</table>\n",
       "</div>"
      ],
      "text/plain": [
       "   alaskaair  AmericanAir     delta  flyfrontier  hawaiianair   jetblue  \\\n",
       "0   0.993208     0.873072  0.987388     0.997226     0.931447  0.952768   \n",
       "1   0.965431     0.955934  0.830840     0.998100     0.805865  0.959188   \n",
       "2   0.712421     0.926986  0.729272     0.976348     0.374371  0.801286   \n",
       "3   0.758827     0.878757  0.986554     0.967824     0.712421  0.958959   \n",
       "4   0.996239     0.953406  0.986554     0.954536     0.798882  0.984909   \n",
       "\n",
       "   southwest  spiritairlines    united  virginamerica  \n",
       "0   0.996007        0.959401  0.886928       0.797083  \n",
       "1   0.591763        0.753549  0.999895       0.797083  \n",
       "2   0.966923        0.989527  0.998912       0.921270  \n",
       "3   0.957541        0.874128  0.992084       0.597163  \n",
       "4   0.872952        0.962676  0.999378       0.597163  "
      ]
     },
     "execution_count": 29,
     "metadata": {},
     "output_type": "execute_result"
    }
   ],
   "source": [
    "dfgroupby = pd.read_csv(\"outputgroupby.csv\")\n",
    "dfgroupby.head()"
   ]
  },
  {
   "cell_type": "markdown",
   "metadata": {},
   "source": [
    "Quantile plot"
   ]
  },
  {
   "cell_type": "code",
   "execution_count": 30,
   "metadata": {
    "collapsed": false
   },
   "outputs": [
    {
     "data": {
      "text/html": [
       "<iframe id=\"igraph\" scrolling=\"no\" style=\"border:none;\"seamless=\"seamless\" src=\"https://plot.ly/~ayinmv/78.embed\" height=\"525\" width=\"100%\"></iframe>"
      ],
      "text/plain": [
       "<plotly.tools.PlotlyDisplay object>"
      ]
     },
     "execution_count": 30,
     "metadata": {},
     "output_type": "execute_result"
    }
   ],
   "source": [
    "dfgroupby.iplot(kind='box', title='Score Quantiles')\n",
    "\n",
    "tls.embed('https://plot.ly/~ayinmv/78')"
   ]
  },
  {
   "cell_type": "markdown",
   "metadata": {},
   "source": [
    "We can aggregate all the happy & sad probabilities for individual tweets about each airline into an average probability that users are happy or sad about that airline:"
   ]
  },
  {
   "cell_type": "code",
   "execution_count": 31,
   "metadata": {
    "collapsed": false
   },
   "outputs": [
    {
     "name": "stdout",
     "output_type": "stream",
     "text": [
      "Happy probabilities: [('alaskaair', 0.84730711830993755), (None, 0.8068260437527468), ('hawaiianair', 0.85420674663501239), ('united', 0.7957213123058936), ('spiritairlines', 0.81506629154611132)]\n",
      "Sad probabilities: [('alaskaair', 0.15269288169006007), (None, 0.19317395624725334), ('hawaiianair', 0.14579325336498758), ('united', 0.20427868769411134), ('spiritairlines', 0.18493370845388871)]\n"
     ]
    }
   ],
   "source": [
    "airline_happy_probs = happy_probs.map(lambda ((idx, air), probs): (air, probs)).reduceByKey(lambda (p1,num1),(p2,num2): ((num1*p1 + num2*p2)/(num1 + num2), num1 + num2)).mapValues(lambda (p, n): p) \n",
    "airline_sad_probs = sad_probs.map(lambda ((idx, air), probs): (air, probs)).reduceByKey(lambda (p1,num1),(p2,num2): ((num1*p1 + num2*p2)/(num1 + num2), num1 + num2)).mapValues(lambda (p, n): p) \n",
    "print \"Happy probabilities:\", airline_happy_probs.take(5)\n",
    "print \"Sad probabilities:\", airline_sad_probs.take(5)"
   ]
  },
  {
   "cell_type": "markdown",
   "metadata": {},
   "source": [
    "### LDA on nouns for topic analysis"
   ]
  },
  {
   "cell_type": "markdown",
   "metadata": {},
   "source": [
    "We separate out the nouns from each tweet to feed into our LDA model, and create a gensim dictionary of all the nouns."
   ]
  },
  {
   "cell_type": "code",
   "execution_count": 32,
   "metadata": {
    "collapsed": true
   },
   "outputs": [],
   "source": [
    "from operator import add"
   ]
  },
  {
   "cell_type": "code",
   "execution_count": 33,
   "metadata": {
    "collapsed": false
   },
   "outputs": [
    {
     "name": "stdout",
     "output_type": "stream",
     "text": [
      "[((0, 'united'), []), ((1, 'spiritairlines'), [[u'fact', u'life']]), ((2, 'united'), []), ((3, 'united'), []), ((4, 'delta'), [[u'flight', u'pleasure']])]\n"
     ]
    }
   ],
   "source": [
    "# parse nouns out of tweets\n",
    "tweets_n_a = tweets_text.mapValues(get_parts)\n",
    "tweets_nouns = tweets_n_a.mapValues(lambda (n, adj): n)\n",
    "print tweets_nouns.take(5)\n",
    "all_nouns = tweets_nouns.flatMapValues(lambda l: l).values().toLocalIterator()\n",
    "\n",
    "# feed nouns into gensim\n",
    "dictionary = corpora.Dictionary(all_nouns)\n",
    "dictionary.filter_extremes()\n",
    "dictionary.compactify()"
   ]
  },
  {
   "cell_type": "markdown",
   "metadata": {},
   "source": [
    "We then vectorize the nouns in each tweet (the first map is just to get our input in the form that gensim's doc2bow function wants, while the filter removes tweets that didn't contain any identifiable nouns)."
   ]
  },
  {
   "cell_type": "code",
   "execution_count": 34,
   "metadata": {
    "collapsed": false
   },
   "outputs": [],
   "source": [
    "doc_vecs = tweets_nouns.mapValues(lambda n: reduce(add, n, [])).filter(lambda (k, v): v).mapValues(dictionary.doc2bow)\n",
    "corpus = doc_vecs.values().collect()"
   ]
  },
  {
   "cell_type": "code",
   "execution_count": 35,
   "metadata": {
    "collapsed": true
   },
   "outputs": [],
   "source": [
    "NUM_TOPICS = 100"
   ]
  },
  {
   "cell_type": "markdown",
   "metadata": {},
   "source": [
    "We use Latent Dirichlet Allocation (LDA) from gensim to find latent topics within our tweets."
   ]
  },
  {
   "cell_type": "code",
   "execution_count": 36,
   "metadata": {
    "collapsed": true
   },
   "outputs": [],
   "source": [
    "from gensim.models.ldamodel import LdaModel"
   ]
  },
  {
   "cell_type": "code",
   "execution_count": 37,
   "metadata": {
    "collapsed": false
   },
   "outputs": [],
   "source": [
    "lda = LdaModel(corpus=corpus, num_topics=NUM_TOPICS, id2word=dictionary, passes=5)"
   ]
  },
  {
   "cell_type": "markdown",
   "metadata": {},
   "source": [
    "Printing the top topics, we can see the top terms associated with each topic and the \"coherence score\" of the topic, a measure of how closely related the terms in each topic are. \n",
    "\n",
    "The coherence score is calculated as:\n",
    "$$C(t; V^{(t)}) = \\sum_{m=2}^{M} \\sum_{l=1}^{m-1} log \\frac {D\\left(v^{(t)}_m, v^{(t)}_l\\right) + 1} {D\\left(v^{(t)}_l\\right)}$$\n",
    "where $V^{(t)} = \\left(v^{(t)}_1, ..., v^{(t)}_M\\right)$ is a list of the $M$ most probable words for topic $t$, $D(v)$ is the document frequency of the word v, and $D(v, v')$ is the _co-document frequency_ of the words $v$ and $v'$, i.e., the number of documents in which both words appear (see [the original paper](http://people.cs.umass.edu/~wallach/publications/mimno11optimizing.pdf) for more details).\n",
    "\n",
    "The coherence score thus measures roughly how likely it is that the words associated with a given topic are actually conceptually related to each other. The absolute score isn't terribly useful on its own, since the range of this function depends on the size of the corpus, length of documents, etc., but it's a useful way of ranking topics relative to each other on how likely they are to be informative. We thus take the top topics by coherence score to perform further analysis on."
   ]
  },
  {
   "cell_type": "code",
   "execution_count": 39,
   "metadata": {
    "collapsed": false
   },
   "outputs": [
    {
     "name": "stdout",
     "output_type": "stream",
     "text": [
      "Topic 0 :\n",
      "    score: -927.543893407\n",
      "    terms: [(0.46312689085720438, u'night'), (0.15584094653982428, u'help'), (0.1097053959336008, u'ilyagermanyuk'), (0.077316154594368122, u'onboard'), (0.030539976996454474, u'\\U0001f629'), (0.017314786816393861, u'receipt'), (0.014448436977987979, u'steward'), (0.014383880525496199, u'speech'), (0.011946048737589584, u'asshole'), (0.0095689173267495802, u'thur')]\n",
      "Topic 1 :\n",
      "    score: -928.010660596\n",
      "    terms: [(0.3692436342303449, u'response'), (0.33126568890645447, u'family'), (0.047383378577603129, u'result'), (0.041097700600808022, u'law'), (0.037309867558770055, u'effort'), (0.022765901667476343, u'representative'), (0.01773612324923924, u'hawaiianair'), (0.01627365548487299, u'distance'), (0.013170049005973739, u'cancer'), (0.010147316892408904, u'father')]\n",
      "Topic 2 :\n",
      "    score: -929.007479874\n",
      "    terms: [(0.26762633983605472, u'airfarewatchdog'), (0.13546576849890724, u'bro'), (0.065549032358394196, u'knee'), (0.059405529325819134, u'sorry'), (0.0552930081182312, u'comfort'), (0.050319123251926653, u'song'), (0.038478897706248641, u'travels'), (0.027005441154779368, u'notice'), (0.023713143692989314, u'rocking'), (0.018751426836221725, u'talent')]\n",
      "Topic 3 :\n",
      "    score: -931.961375477\n",
      "    terms: [(0.28154576690328154, u'month'), (0.21971858483575002, u'hrs'), (0.096119579125132568, u'thanksgiving'), (0.067904423605163841, u'answer'), (0.064578695767015803, u'state'), (0.061668435218469715, u'bathroom'), (0.028594353153066535, u'ac'), (0.020298204074036433, u'ebook'), (0.01647335365605308, u'nail'), (0.014288582937488203, u'island')]\n",
      "Topic 4 :\n",
      "    score: -934.36360758\n",
      "    terms: [(0.31351250194701052, u'terminal'), (0.13042011163394293, u'loyalty'), (0.075014881840982886, u'shaymitch'), (0.059179309717057989, u'bunch'), (0.055117285920180517, u'action'), (0.041804776544217125, u'flightdelay'), (0.032591543047677585, u'testimony'), (0.031497072853564366, u'admiral'), (0.028168842187411069, u'philippian'), (0.025056361493503477, u'vintage')]\n",
      "Topic 5 :\n",
      "    score: -935.791518518\n",
      "    terms: [(0.33570087791153225, u'business'), (0.11727384535744209, u'yr'), (0.096166865785319022, u'flt'), (0.077492548759646521, u'bit'), (0.061644291777254133, u'party'), (0.037603673292754859, u'mountain'), (0.033725970718301433, u'cart'), (0.029230484856407078, u'sabokitty'), (0.02700875510710311, u'taxiway'), (0.023592232481242259, u'time,water')]\n",
      "Topic 6 :\n",
      "    score: -937.908904654\n",
      "    terms: [(0.13233564312231799, u'brandonsblog'), (0.10419344001651461, u'basket'), (0.094500320046758735, u'alaskamuseum'), (0.094500320046758735, u'thc1972'), (0.085100491054174263, u'note'), (0.081162938520297906, u'inning'), (0.051610395643743742, u'bonus'), (0.044634788603575615, u'quality'), (0.030190307585662646, u'concierge'), (0.0275308947573971, u'shite')]\n",
      "Topic 7 :\n",
      "    score: -939.587752323\n",
      "    terms: [(0.66451183364005428, u'way'), (0.12858932270429016, u'care'), (0.038422086655045463, u'student'), (0.029782995503481999, u'computer'), (0.018368189732449847, u'chip'), (0.018309003754434446, u'machine'), (0.011164127462987537, u'conference'), (0.010888283028306137, u'rudeness'), (0.010785329705971116, u'recline'), (0.0083594271567796197, u'calendar')]\n",
      "Topic 8 :\n",
      "    score: -943.956904533\n",
      "    terms: [(0.16004509845615791, u'snack'), (0.1367534975806706, u'school'), (0.082939544171959423, u'it\\u2026'), (0.081126816808105781, u'win'), (0.064801342709226828, u'town'), (0.051289203244129257, u'fine'), (0.04585926877566749, u'dbubasketball'), (0.03655119724606861, u'spin'), (0.022452031262243422, u'collection'), (0.022092901638952743, u'maddoxradio')]\n",
      "Topic 9 :\n",
      "    score: -947.324198565\n",
      "    terms: [(0.19365072662799315, u'heritage'), (0.17615531285042474, u'jet'), (0.11360789474866298, u'livery'), (0.092225930058781908, u'account'), (0.062666639659837861, u'face'), (0.046380551933579241, u'vice'), (0.04619067874718287, u'versa'), (0.031625912288925764, u'roll'), (0.027874282397639595, u'btwn'), (0.025315653636362959, u'curbside')]\n",
      "Topic 10 :\n",
      "    score: -949.334273069\n",
      "    terms: [(0.70655928695963466, u'guy'), (0.038469092983899965, u'letter'), (0.037622737411585401, u'benefit'), (0.026351283190699175, u'badservice'), (0.023076023984548326, u'super'), (0.02230662990970891, u'handling'), (0.015441856854478939, u'press'), (0.013386529032971143, u'tweeting'), (0.012430863587754528, u'driver'), (0.011789122948307633, u'mother')]\n",
      "Topic 11 :\n",
      "    score: -951.233065425\n",
      "    terms: [(0.15319962295732781, u'read'), (0.13286866796152472, u'lounge'), (0.11850159030958844, u'bus'), (0.062853197678184022, u'ad'), (0.055298879258431369, u'standard'), (0.048080352459675152, u'caption'), (0.043637881271463314, u'petition'), (0.038952613600630751, u'travelskill'), (0.037231422569100454, u'traveltip'), (0.0358337181358701, u'shower')]\n",
      "Topic 12 :\n",
      "    score: -953.611270834\n",
      "    terms: [(0.31052756982250768, u'point'), (0.16952031550807681, u'mins'), (0.080021523629781321, u'traveldiary'), (0.077720880841386272, u'fitnessjourney'), (0.059912034801561952, u'loss'), (0.045144687272240538, u'culture'), (0.029098397260639383, u'ceo'), (0.026308060855355982, u'cert'), (0.024695444152893983, u'defender'), (0.024511102015724932, u'weight')]\n",
      "Topic 13 :\n",
      "    score: -955.388640485\n",
      "    terms: [(0.20986361101959231, u'price'), (0.16667153171692375, u'sale'), (0.14964186061501825, u'country'), (0.14853719667943019, u'tweet'), (0.079547319580610162, u'rate'), (0.038939680395082096, u'niece'), (0.038116101806115514, u'cross'), (0.027962385521791464, u'typing'), (0.023173979873450917, u'age'), (0.021272570755295452, u'sleeping')]\n",
      "Topic 14 :\n",
      "    score: -956.996340237\n",
      "    terms: [(0.1768443300774592, u'flypdx'), (0.14550060631923384, u'fuel'), (0.11812637541041103, u'cup'), (0.11795075988687566, u'fact'), (0.11005972523697641, u'airfare'), (0.081751373076496381, u'retweet'), (0.046315092497569363, u'belt'), (0.01988778977620052, u'\\U0001f615'), (0.018723442492807479, u'fro\\u2026'), (0.016785816680925655, u'dnb')]\n"
     ]
    }
   ],
   "source": [
    "best_topics = lda.top_topics(corpus)[:15]\n",
    "for idx, tpc in enumerate(best_topics):\n",
    "    print \"Topic\", idx, \":\"\n",
    "    print \"    score:\", tpc[1]\n",
    "    print \"    terms:\", tpc[0][:10]"
   ]
  },
  {
   "cell_type": "markdown",
   "metadata": {},
   "source": [
    "Even after sorting by coherence score, many of these topics do not obviously correspond to a particular human-identifiable concept. However, we do have Topic 8, which includes \"bag\", \"suitcase\", and \"carousel\" among its highest-probability terms, and Topic 7, which includes \"cancellation\" and \"weather\" [ADJUST FOR TOPICS ON FULL DATASET]. These give some indication of possible topics we might be interested in."
   ]
  },
  {
   "cell_type": "markdown",
   "metadata": {},
   "source": [
    "These ranks for the topics based on coherence score aren't the internal topic ids that gensim uses, though, so we have to find these internal ids for each of the topics in question."
   ]
  },
  {
   "cell_type": "code",
   "execution_count": 40,
   "metadata": {
    "collapsed": true
   },
   "outputs": [],
   "source": [
    "all_topics = lda.show_topics(NUM_TOPICS, formatted=False)"
   ]
  },
  {
   "cell_type": "code",
   "execution_count": 41,
   "metadata": {
    "collapsed": false
   },
   "outputs": [],
   "source": [
    "def get_topic_id(topic, all_topics):\n",
    "    \"\"\"\n",
    "    Matches the topics returned by top_topics to their ids in the LDA model\n",
    "    by checking for term overlap.\n",
    "    \"\"\"\n",
    "    for tpc in all_topics:\n",
    "        if len(set([t[0] for t in tpc[1]]) & set([t[1] for t in topic[0]])) == 10:\n",
    "            return tpc[0]"
   ]
  },
  {
   "cell_type": "code",
   "execution_count": 42,
   "metadata": {
    "collapsed": false
   },
   "outputs": [
    {
     "data": {
      "text/plain": [
       "[65, 9, 3, 26, 43, 76, 71, 17, 28, 33, 74, 14, 7, 35, 72]"
      ]
     },
     "execution_count": 42,
     "metadata": {},
     "output_type": "execute_result"
    }
   ],
   "source": [
    "best_topics_ids = [get_topic_id(topic, all_topics) for topic in best_topics]\n",
    "best_topics_ids"
   ]
  },
  {
   "cell_type": "markdown",
   "metadata": {},
   "source": [
    "Now that we have a bunch of topics and we've assigned each tweet a probability of being \"happy\" or \"sad\" (i.e., expressing positive or negative sentiment), we can calculate what topics are most associated with positive or negative tweets.\n",
    "\n",
    "We start by determining how likely each tweet is to be associated with each of our best topics."
   ]
  },
  {
   "cell_type": "code",
   "execution_count": 43,
   "metadata": {
    "collapsed": true
   },
   "outputs": [],
   "source": [
    "def get_best_topics(bow):\n",
    "    my_topics = lda.get_document_topics(bow)\n",
    "    my_best_topics = [tpc for tpc in my_topics if tpc[0] in best_topics_ids]\n",
    "    return my_best_topics"
   ]
  },
  {
   "cell_type": "markdown",
   "metadata": {},
   "source": [
    "We only keep tweets that have a non-negligible likelihood of belonging to one of our top topics (using the filter statement below)."
   ]
  },
  {
   "cell_type": "code",
   "execution_count": 44,
   "metadata": {
    "collapsed": false
   },
   "outputs": [
    {
     "data": {
      "text/plain": [
       "[((1, 'spiritairlines'), [(72, 0.33666666666666695)]),\n",
       " ((4, 'delta'), [(3, 0.3366666666666675)]),\n",
       " ((18, 'AmericanAir'), [(74, 0.33666666666666722)]),\n",
       " ((33, 'delta'), [(43, 0.25250000000000072)]),\n",
       " ((59, 'southwest'), [(3, 0.25250000000000111)])]"
      ]
     },
     "execution_count": 44,
     "metadata": {},
     "output_type": "execute_result"
    }
   ],
   "source": [
    "tweets_topics = doc_vecs.mapValues(get_best_topics).filter(lambda (k,v): v)\n",
    "tweets_topics.take(5)"
   ]
  },
  {
   "cell_type": "markdown",
   "metadata": {},
   "source": [
    "We can pull out the correlation scores of each tweet to each topic and then plot a histogram for each topic showing its distribution of correlation scores."
   ]
  },
  {
   "cell_type": "code",
   "execution_count": 45,
   "metadata": {
    "collapsed": false
   },
   "outputs": [],
   "source": [
    "# Get a list of all the tweets' correlation scores to each of our topics\n",
    "scores_per_topic = tweets_topics.values().flatMap(lambda v: v).mapValues(lambda v: [v]).reduceByKey(add)\n",
    "# Store it as a dict, keyed by the topic ID\n",
    "hist_input = scores_per_topic.collectAsMap()"
   ]
  },
  {
   "cell_type": "code",
   "execution_count": 46,
   "metadata": {
    "collapsed": false
   },
   "outputs": [
    {
     "data": {
      "image/png": "[encoded data removed]",
      "text/plain": [
       "<matplotlib.figure.Figure at 0x191117850>"
      ]
     },
     "metadata": {},
     "output_type": "display_data"
    }
   ],
   "source": [
    "fig, axes = plt.subplots(5,3, sharex=True)\n",
    "fig.set_size_inches(16, 12)\n",
    "for idx, ax in enumerate(axes.ravel()):\n",
    "    ax.hist(hist_input[best_topics_ids[idx]], 20, range=[0,1])\n",
    "    ax.set_title('Topic {} (id {}): {} total tweets'.format(idx, best_topics_ids[idx], len(hist_input[best_topics_ids[idx]])))"
   ]
  },
  {
   "cell_type": "markdown",
   "metadata": {},
   "source": [
    "For most topics, there are many tweets that are a little bit related to the topic, and fewer that the model says are very closely related to the topic. There also appears to be a disproportionate concentration of correlation scores in the 0.5 bin, particularly compared to the bins immediately surrounding it. This is likely due to a mathematical quirk of LDA, which is particularly visible because tweets are very short documents.\n",
    "\n",
    "In general, the LDA topic model is not hugely confident in its assignment of individual tweets to topics. This is not surprising, because an individual tweet contains very few words (and even fewer nouns recognizable by the part-of-speech tagger, particularly given that tweets do not always follow standard grammatical structure), so there is not very much basis on which to assign a tweet to one topic or another. One way to improve this would be to use a part-of-speech tagger trained on a Twitter corpus, so that more information could be extracted from each tweet. However, 140 characters is never going to contain a huge number of words for the LDA model to base its topic assignment on, so automatic topic assignments of tweets are inherently going to be less certain than automatic topic assignments of longer documents."
   ]
  },
  {
   "cell_type": "markdown",
   "metadata": {
    "collapsed": true
   },
   "source": [
    "Next, we combine our topic RDD with our sentiment RDD to convert the topics and sentiment scores associated with each tweet into sentiment scores associated with each topic, and with each topic-airline combination. We will weight a tweet's contribution to each topic's sentiment score by its correlation score to that topic."
   ]
  },
  {
   "cell_type": "code",
   "execution_count": 47,
   "metadata": {
    "collapsed": false
   },
   "outputs": [
    {
     "data": {
      "text/plain": [
       "[((61427, 'delta'),\n",
       "  ([(65, 0.25267512119619923)], (0.99993794826303162, 6.205173696838262e-05))),\n",
       " ((43903, 'united'),\n",
       "  ([(3, 0.5025000000000025)], (0.95717728750125242, 0.042822712498747584))),\n",
       " ((6729, 'AmericanAir'),\n",
       "  ([(35, 0.25250000000000083)], (0.73027140441318139, 0.26972859558681861))),\n",
       " ((77739, 'flyfrontier'),\n",
       "  ([(76, 0.12625000000000033)], (0.99748970111432333, 0.002510298885676665))),\n",
       " ((57033, 'AmericanAir'),\n",
       "  ([(65, 0.50250000000000083)], (0.64469711626802717, 0.35530288373197283)))]"
      ]
     },
     "execution_count": 47,
     "metadata": {},
     "output_type": "execute_result"
    }
   ],
   "source": [
    "# Join topics and sentiment probabilities by key\n",
    "combined = tweets_topics.join(tweets_probs)\n",
    "combined.take(5)"
   ]
  },
  {
   "cell_type": "code",
   "execution_count": 48,
   "metadata": {
    "collapsed": true
   },
   "outputs": [],
   "source": [
    "def regroup_by_topic(topics_probs, happy_prob, sad_prob):\n",
    "    topic_sentiments = []\n",
    "    for topic, prob in topics_probs:\n",
    "        topic_sentiments.append((topic, (prob, happy_prob, sad_prob)))\n",
    "    return topic_sentiments"
   ]
  },
  {
   "cell_type": "code",
   "execution_count": 49,
   "metadata": {
    "collapsed": false
   },
   "outputs": [
    {
     "data": {
      "text/plain": [
       "[((61427, 'delta'),\n",
       "  (65, (0.25267512119619923, 0.99993794826303162, 6.205173696838262e-05))),\n",
       " ((43903, 'united'),\n",
       "  (3, (0.5025000000000025, 0.95717728750125242, 0.042822712498747584))),\n",
       " ((6729, 'AmericanAir'),\n",
       "  (35, (0.25250000000000083, 0.73027140441318139, 0.26972859558681861))),\n",
       " ((77739, 'flyfrontier'),\n",
       "  (76, (0.12625000000000033, 0.99748970111432333, 0.002510298885676665))),\n",
       " ((57033, 'AmericanAir'),\n",
       "  (65, (0.50250000000000083, 0.64469711626802717, 0.35530288373197283)))]"
      ]
     },
     "execution_count": 49,
     "metadata": {},
     "output_type": "execute_result"
    }
   ],
   "source": [
    "weighted = combined.mapValues(lambda (tps, (hp, sp)): regroup_by_topic(tps, hp, sp)).flatMapValues(lambda v: v)\n",
    "weighted.take(5)"
   ]
  },
  {
   "cell_type": "markdown",
   "metadata": {},
   "source": [
    "Now we combine the probabilities per topic to find out what airline-related topics people on Twitter are most positive or negative about."
   ]
  },
  {
   "cell_type": "code",
   "execution_count": 52,
   "metadata": {
    "collapsed": false
   },
   "outputs": [
    {
     "name": "stdout",
     "output_type": "stream",
     "text": [
      "[(65, (0.94996933506369219, 0.050030664936307652)), (17, (0.94689337507671956, 0.053106624923280547)), (33, (0.87683901346727411, 0.12316098653272591)), (35, (0.89292548073406575, 0.10707451926593452)), (3, (0.86806014737084181, 0.13193985262915797))]\n"
     ]
    }
   ],
   "source": [
    "topics_sentiments = weighted.values().reduceByKey(lambda (p1, hp1, sp1), (p2, hp2, sp2): (p1 + p2, (p1*hp1 + p2*hp2)/(p1 + p2), (p1*sp1 + p2*sp2)/(p1 + p2))).mapValues(lambda (p, hp, sp): (hp, sp))\n",
    "print topics_sentiments.take(5)\n",
    "topic_sent_dict = topics_sentiments.collectAsMap()"
   ]
  },
  {
   "cell_type": "code",
   "execution_count": 77,
   "metadata": {
    "collapsed": false
   },
   "outputs": [
    {
     "data": {
      "image/png": "[encoded data removed]",
      "text/plain": [
       "<matplotlib.figure.Figure at 0x19e13bb50>"
      ]
     },
     "metadata": {},
     "output_type": "display_data"
    }
   ],
   "source": [
    "index = np.arange(len(best_topics_ids))\n",
    "happy_probs_by_topic = np.array([topic_sent_dict[idx][0] for idx in best_topics_ids])\n",
    "order = np.argsort(happy_probs_by_topic)[::-1]\n",
    "width = 0.5\n",
    "fig, ax = plt.subplots(figsize=(16,8))\n",
    "plt.bar(index, happy_probs_by_topic[order], width, alpha=1, color='violet')\n",
    "# Setting axis labels and ticks\n",
    "ax.set_xlim((-width, len(best_topics_ids)))\n",
    "ax.set_ylabel('Happy Probability', fontsize=15)\n",
    "ax.set_xlabel('Topic ID', fontsize=15)\n",
    "ax.set_title('Twitter Happiness by Topic', fontsize=15, fontweight='bold')\n",
    "ax.set_xticks([i + 0.5 * width for i in index])\n",
    "ax.set_xticklabels(np.array(best_topics_ids)[order])\n",
    "plt.grid()\n",
    "plt.show()"
   ]
  },
  {
   "cell_type": "code",
   "execution_count": null,
   "metadata": {
    "collapsed": true
   },
   "outputs": [],
   "source": []
  }
 ],
 "metadata": {
  "kernelspec": {
   "display_name": "Python 2",
   "language": "python",
   "name": "python2"
  },
  "language_info": {
   "codemirror_mode": {
    "name": "ipython",
    "version": 2
   },
   "file_extension": ".py",
   "mimetype": "text/x-python",
   "name": "python",
   "nbconvert_exporter": "python",
   "pygments_lexer": "ipython2",
   "version": "2.7.10"
  }
 },
 "nbformat": 4,
 "nbformat_minor": 0
}
