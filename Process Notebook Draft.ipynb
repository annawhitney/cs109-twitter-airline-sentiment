{
 "cells": [
  {
   "cell_type": "markdown",
   "metadata": {},
   "source": [
    "# Sentiment Analysis of Twitter Feeds to Find Your Favorite Airline"
   ]
  },
  {
   "cell_type": "markdown",
   "metadata": {},
   "source": [
    "Process the raw data and created a final Pandas DataFrame to pass to the Spark application -"
   ]
  },
  {
   "cell_type": "code",
   "execution_count": 1,
   "metadata": {
    "collapsed": false
   },
   "outputs": [
    {
     "name": "stdout",
     "output_type": "stream",
     "text": [
      "Number of raw data rows -  7591\n"
     ]
    }
   ],
   "source": [
    "import json\n",
    "import pandas as pd\n",
    "%matplotlib inline\n",
    "import matplotlib.pyplot as plt\n",
    "\n",
    "#create a file to contain the 'raw data' from the twitter streaming api\n",
    "raw_data_path = 'tweets_all@#_7591.json'\n",
    "\n",
    "#create a list to hold the tweets\n",
    "raw_data = []\n",
    "\n",
    "#create and open the new file\n",
    "tweets_file = open(raw_data_path, \"r\")\n",
    "\n",
    "#append to the tweets list from the raw data file\n",
    "for line in tweets_file:\n",
    "    try:\n",
    "        tweet = json.loads(line)\n",
    "        raw_data.append(tweet)\n",
    "    except:\n",
    "        continue       \n",
    "print \"Number of raw data rows - \", len(raw_data)"
   ]
  },
  {
   "cell_type": "code",
   "execution_count": 2,
   "metadata": {
    "collapsed": true
   },
   "outputs": [],
   "source": [
    "tweets = pd.DataFrame()"
   ]
  },
  {
   "cell_type": "code",
   "execution_count": 3,
   "metadata": {
    "collapsed": true
   },
   "outputs": [],
   "source": [
    "#removed u'possibly_sensitive', at the moment since not all rows have it\n",
    "#it goes between place and retweet_count in the below list\n",
    "twitter_fields = [u'contributors', u'coordinates', u'created_at', u'entities', \n",
    "                  u'favorite_count', u'favorited', u'filter_level', u'geo', u'id', \n",
    "                  u'id_str', u'in_reply_to_screen_name', u'in_reply_to_status_id', \n",
    "                  u'in_reply_to_status_id_str', u'in_reply_to_user_id', u'in_reply_to_user_id_str', \n",
    "                  u'lang', u'place',   u'retweet_count', u'retweeted', u'source', \n",
    "                  u'text', u'timestamp_ms', u'truncated', u'user']\n",
    "\n",
    "#set the columns in the dataframe to match the json fields of the twitter streaming api\n",
    "for t in twitter_fields:\n",
    "    tweets[t] = map(lambda tweet: tweet[t] if tweet[t] else 'None', raw_data)\n",
    "tweets['country'] = map(lambda tweet: tweet['place']['country'] if tweet['place'] != None else None, raw_data)"
   ]
  },
  {
   "cell_type": "code",
   "execution_count": 4,
   "metadata": {
    "collapsed": false
   },
   "outputs": [
    {
     "data": {
      "text/plain": [
       "0                                                                 I just earned the 'Memorial Day' badge! #TrueBlueBadges https://t.co/QNHxJztYr0\n",
       "1                    RT @kwilesjrphoto: PHOTO: @BostonFire Marine 1, @BostonLogan ATC tower, and @SouthwestAir taking off https://t.co/k9pNLvHMXy\n",
       "2    RT PhoebeMONAD Legere JetBlue Media showing baggage handlers playing games with checked bags and cargo! #JetBlue please don't treat #musici…\n",
       "3                           @delta  Hello it looks like I will not be getting upgraded I keep getting pushed down the list by last minute adds to\n",
       "4                                                               I just earned the 'Washington, DC' badge! #TrueBlueBadges https://t.co/3eK91cctYJ\n",
       "Name: text, dtype: object"
      ]
     },
     "execution_count": 4,
     "metadata": {},
     "output_type": "execute_result"
    }
   ],
   "source": [
    "#View the first 5 tweets of the dataset\n",
    "pd.set_option('max_colwidth', 200)\n",
    "tweets['text'].head(5)"
   ]
  },
  {
   "cell_type": "code",
   "execution_count": 5,
   "metadata": {
    "collapsed": false
   },
   "outputs": [
    {
     "data": {
      "text/plain": [
       "<matplotlib.axes._subplots.AxesSubplot at 0x1169634d0>"
      ]
     },
     "execution_count": 5,
     "metadata": {},
     "output_type": "execute_result"
    },
    {
     "data": {
      "image/png": "[encoded data removed]",
      "text/plain": [
       "<matplotlib.figure.Figure at 0x106285710>"
      ]
     },
     "metadata": {},
     "output_type": "display_data"
    }
   ],
   "source": [
    "#view the top 5 languages present in the dataset\n",
    "tweets_by_lang = tweets['lang'].value_counts()\n",
    "fig, ax = plt.subplots()\n",
    "ax.tick_params(axis='x', labelsize=15)\n",
    "ax.tick_params(axis='y', labelsize=10)\n",
    "ax.set_xlabel('Languages', fontsize=15)\n",
    "ax.set_ylabel('Number of tweets' , fontsize=15)\n",
    "ax.set_title('Top 5 languages', fontsize=15, fontweight='bold')\n",
    "tweets_by_lang[:5].plot(ax=ax, kind='bar', color='red')"
   ]
  },
  {
   "cell_type": "code",
   "execution_count": 6,
   "metadata": {
    "collapsed": false
   },
   "outputs": [
    {
     "data": {
      "text/plain": [
       "<matplotlib.axes._subplots.AxesSubplot at 0x1169ac790>"
      ]
     },
     "execution_count": 6,
     "metadata": {},
     "output_type": "execute_result"
    },
    {
     "data": {
      "image/png": "[encoded data removed]",
      "text/plain": [
       "<matplotlib.figure.Figure at 0x1169c5a10>"
      ]
     },
     "metadata": {},
     "output_type": "display_data"
    }
   ],
   "source": [
    "#view the top 5 countries in the dataset\n",
    "tweets_by_country = tweets['country'].value_counts()\n",
    "fig, ax = plt.subplots()\n",
    "ax.tick_params(axis='x', labelsize=15)\n",
    "ax.tick_params(axis='y', labelsize=10)\n",
    "ax.set_xlabel('Countries', fontsize=15)\n",
    "ax.set_ylabel('Number of tweets' , fontsize=15)\n",
    "ax.set_title('Top 5 countries', fontsize=15, fontweight='bold')\n",
    "tweets_by_country[:5].plot(ax=ax, kind='bar', color='blue')"
   ]
  },
  {
   "cell_type": "code",
   "execution_count": 7,
   "metadata": {
    "collapsed": true
   },
   "outputs": [],
   "source": [
    "import re\n",
    "#create a function to find the word in the tweet text field\n",
    "def word_in_text(word, text):\n",
    "    word = word.lower()\n",
    "    text = text.lower()\n",
    "    match = re.search(word, text)\n",
    "    if match:\n",
    "        return True\n",
    "    return False"
   ]
  },
  {
   "cell_type": "code",
   "execution_count": 8,
   "metadata": {
    "collapsed": true
   },
   "outputs": [],
   "source": [
    "#get the words in the text\n",
    "airlines = ['southwest', 'delta', 'jetblue', 'united', 'flyfrontier', 'hawaiianair', 'virginamerica', 'alaskaair','spiritairlines', 'AmericanAir']\n",
    "\n",
    "#create columns for each airline and set a boolean value to use for the below visualization of tweet count \n",
    "#for each airline\n",
    "for a in airlines:\n",
    "    if (tweets['text'].apply(lambda tweet: word_in_text(a, tweet))).count() > 0:\n",
    "        tweets[a] = tweets['text'].apply(lambda tweet: word_in_text(a, tweet))"
   ]
  },
  {
   "cell_type": "code",
   "execution_count": 9,
   "metadata": {
    "collapsed": false
   },
   "outputs": [
    {
     "data": {
      "image/png": "[encoded data removed]",
      "text/plain": [
       "<matplotlib.figure.Figure at 0x116b5e0d0>"
      ]
     },
     "metadata": {},
     "output_type": "display_data"
    }
   ],
   "source": [
    "#view the amount of tweets per airline\n",
    "tweets_by_airlines = [len(tweets.loc[tweets['southwest'] == True]), \n",
    " len(tweets.loc[tweets['delta'] == True]), len(tweets.loc[tweets['jetblue'] == True]),\n",
    "         len(tweets.loc[tweets['united'] == True]), len(tweets.loc[tweets['flyfrontier'] == True]),\n",
    "                     len(tweets.loc[tweets['hawaiianair'] == True]),len(tweets.loc[tweets['virginamerica'] == True]),\n",
    "                     len(tweets.loc[tweets['alaskaair'] == True]),len(tweets.loc[tweets['spiritairlines'] == True]),\n",
    "                     len(tweets.loc[tweets['AmericanAir'] == True])]\n",
    "\n",
    "airlines = ['southwest', 'delta', 'jetblue', 'united', 'flyfrontier', 'hawaiianair', 'virginamerica', 'alaskaair','spiritairlines', 'AmericanAir']\n",
    "\n",
    "x_pos = list(range(len(airlines)))\n",
    "width = 0.3\n",
    "fig, ax = plt.subplots(figsize=(16,8))\n",
    "plt.bar(x_pos, tweets_by_airlines, width, alpha=1, color='g')\n",
    "# Setting axis labels and ticks\n",
    "ax.set_ylabel('Number of tweets', fontsize=15)\n",
    "ax.set_title('Ranking: Airlines (Raw data)', fontsize=10, fontweight='bold')\n",
    "ax.set_xticks([p + 0.9 * width for p in x_pos])\n",
    "ax.set_xticklabels(airlines)\n",
    "plt.grid()"
   ]
  },
  {
   "cell_type": "code",
   "execution_count": 10,
   "metadata": {
    "collapsed": false
   },
   "outputs": [
    {
     "name": "stdout",
     "output_type": "stream",
     "text": [
      "The Processed Data File contains 7591 tweets.\n"
     ]
    }
   ],
   "source": [
    "#create a dataframe called 'processed_data' with extra column 'airline'\n",
    "\n",
    "#a function to set the airline name where the column value is True\n",
    "def setAirlineName(row):   \n",
    "    x = None\n",
    "    for a in airlines:\n",
    "        if row[a] is True:\n",
    "            x = a\n",
    "    if x is not None:\n",
    "        return x\n",
    "    else: \n",
    "        return\n",
    "\n",
    "# set a column in the tweets dataframe for each airline name with a boolean value\n",
    "for a in airlines:\n",
    "    if (tweets['text'].apply(lambda tweet: word_in_text(a, tweet))).count() > 0:\n",
    "        tweets[a] = tweets['text'].apply(lambda tweet: word_in_text(a, tweet))\n",
    "\n",
    "#add the airline column with the airline name as the value \n",
    "tweets['airline'] = tweets.apply(lambda row: setAirlineName(row), axis=1)  \n",
    "\n",
    "#remove the temp. columns for each airline\n",
    "for a in airlines:\n",
    "    tweets = tweets.drop(a, 1)\n",
    "\n",
    "#set the final variable to be passed to the spark process\n",
    "processed_data = tweets\n",
    "\n",
    "#processed_data['airline'] values are - 'southwest', 'delta', 'jetblue', 'united', 'flyfrontier', \n",
    "# 'hawaiianair', 'virginamerica', 'alaskaair','spiritairlines', 'AmericanAir'\n",
    "print 'The Processed Data File contains', len(processed_data), 'tweets.'"
   ]
  },
  {
   "cell_type": "markdown",
   "metadata": {},
   "source": [
    "# Pass the proccessed data to spark"
   ]
  },
  {
   "cell_type": "code",
   "execution_count": 12,
   "metadata": {
    "collapsed": false
   },
   "outputs": [],
   "source": [
    "import json\n",
    "\n",
    "import re\n",
    "from pattern.en import parse\n",
    "from pattern.en import pprint\n",
    "from pattern.vector import stem, PORTER, LEMMA\n",
    "from sklearn.feature_extraction import text\n",
    "from gensim import corpora "
   ]
  },
  {
   "cell_type": "code",
   "execution_count": 13,
   "metadata": {
    "collapsed": false
   },
   "outputs": [
    {
     "name": "stdout",
     "output_type": "stream",
     "text": [
      "/usr/local/Cellar/apache-spark/1.5.2/libexec/\n"
     ]
    }
   ],
   "source": [
    "import findspark\n",
    "findspark.init()\n",
    "print findspark.find()"
   ]
  },
  {
   "cell_type": "code",
   "execution_count": 14,
   "metadata": {
    "collapsed": true
   },
   "outputs": [],
   "source": [
    "import pyspark"
   ]
  },
  {
   "cell_type": "code",
   "execution_count": 15,
   "metadata": {
    "collapsed": true
   },
   "outputs": [],
   "source": [
    "# adapted from HW5\n",
    "def get_parts(thetext, punctuation):\n",
    "    # generate stopwords list & regexes for 2+ periods or 2+ dashes\n",
    "    stop = text.ENGLISH_STOP_WORDS\n",
    "    regex1=re.compile(r\"\\.{2,}\")\n",
    "    regex2=re.compile(r\"\\-{2,}\")\n",
    "    thetext=re.sub(regex1, ' ', thetext)\n",
    "    thetext=re.sub(regex2, ' ', thetext)\n",
    "    nouns=[]\n",
    "    descriptives=[]\n",
    "    for i,sentence in enumerate(parse(thetext, tokenize=True, lemmata=True).split()):\n",
    "        nouns.append([])\n",
    "        descriptives.append([])\n",
    "        for token in sentence:\n",
    "            if len(token[4]) >0:\n",
    "                if token[1] in ['JJ', 'JJR', 'JJS']:\n",
    "                    if token[4] in stop or token[4][0] in punctuation or token[4][-1] in punctuation or len(token[4])==1:\n",
    "                        continue\n",
    "                    descriptives[i].append(token[4])\n",
    "                elif token[1] in ['NN', 'NNS']:\n",
    "                    if token[4] in stop or token[4][0] in punctuation or token[4][-1] in punctuation or len(token[4])==1:\n",
    "                        continue\n",
    "                    nouns[i].append(token[4])\n",
    "    out=zip(nouns, descriptives)\n",
    "    nouns2=[]\n",
    "    descriptives2=[]\n",
    "    for n,d in out:\n",
    "        if len(n)!=0 and len(d)!=0:\n",
    "            nouns2.append(n)\n",
    "            descriptives2.append(d)\n",
    "    return nouns2, descriptives2"
   ]
  },
  {
   "cell_type": "code",
   "execution_count": 16,
   "metadata": {
    "collapsed": false
   },
   "outputs": [],
   "source": [
    "# initialize Spark context\n",
    "conf = pyspark.SparkConf().setAppName(\"Twitter_Airline\").setMaster(\"local[*]\")\n",
    "sc = pyspark.SparkContext(conf=conf)\n",
    "\n",
    "# get tweets from text file\n",
    "# using sample tweets for now\n",
    "#text_lines = sc.textFile('tweets_all@#_7591.json')\n",
    "#tweets = text_lines.map(json.loads)\n",
    "#tweets_text = tweets.map(lambda t: t['text'])\n",
    "tweets_text = sc.parallelize([row['airline'], row['text'] for row in processed_data.iterrows()])\n",
    "\n"
   ]
  },
  {
   "cell_type": "markdown",
   "metadata": {},
   "source": [
    "### Sentiment of a sentence based on log probs in a word list"
   ]
  },
  {
   "cell_type": "markdown",
   "metadata": {},
   "source": [
    "Function to read the word list file:"
   ]
  },
  {
   "cell_type": "code",
   "execution_count": 17,
   "metadata": {
    "collapsed": true
   },
   "outputs": [],
   "source": [
    "import numpy as np\n",
    "# read the word list\n",
    "def readSentimentList(file_name):\n",
    "    ifile = open(file_name, 'r')\n",
    "    happy_log_probs = {}\n",
    "    sad_log_probs = {}\n",
    "    ifile.readline() #Ignore title row\n",
    "    # splitting the csv\n",
    "    for line in ifile:\n",
    "        tokens = line[:-1].split(',')\n",
    "        happy_log_probs[tokens[0]] = float(tokens[1])\n",
    "        sad_log_probs[tokens[0]] = float(tokens[2])\n",
    "\n",
    "    return happy_log_probs, sad_log_probs"
   ]
  },
  {
   "cell_type": "markdown",
   "metadata": {},
   "source": [
    "Using Naive Bayes rule:"
   ]
  },
  {
   "cell_type": "code",
   "execution_count": 18,
   "metadata": {
    "collapsed": true
   },
   "outputs": [],
   "source": [
    "def classifySentiment(words, happy_log_probs, sad_log_probs):\n",
    "    # get the log-probability of each word under each sentiment\n",
    "    happy_probs = [happy_log_probs[word] for word in words if word in happy_log_probs]\n",
    "    sad_probs = [sad_log_probs[word] for word in words if word in sad_log_probs]\n",
    "\n",
    "    # sum all the log-probabilities for each sentiment to get a log-probability for the whole tweet\n",
    "    tweet_happy_log_prob = np.sum(happy_probs)\n",
    "    tweet_sad_log_prob = np.sum(sad_probs)\n",
    "\n",
    "    # calculate the probability of the tweet belonging to each sentiment\n",
    "    prob_happy = np.reciprocal(np.exp(tweet_sad_log_prob - tweet_happy_log_prob) + 1)\n",
    "    prob_sad = 1 - prob_happy\n",
    "\n",
    "    return prob_happy, prob_sad"
   ]
  },
  {
   "cell_type": "markdown",
   "metadata": {},
   "source": [
    "Load the word list:"
   ]
  },
  {
   "cell_type": "code",
   "execution_count": 19,
   "metadata": {
    "collapsed": true
   },
   "outputs": [],
   "source": [
    "# load list of words and log probs\n",
    "happy_log_probs, sad_log_probs = readSentimentList('wordlist.csv')"
   ]
  },
  {
   "cell_type": "markdown",
   "metadata": {},
   "source": [
    "Reading in the tweet:"
   ]
  },
  {
   "cell_type": "code",
   "execution_count": 20,
   "metadata": {
    "collapsed": false
   },
   "outputs": [
    {
     "name": "stdout",
     "output_type": "stream",
     "text": [
      "['my', 'hate', 'southwest']\n",
      "happy probability:  0.280105168408\n",
      "sad probability: 0.719894831592\n"
     ]
    }
   ],
   "source": [
    "# read tweet\n",
    "tweet1 = ['my', 'hate', 'southwest']\n",
    "\n",
    "# calculate the probability\n",
    "tweet1_happy_prob, tweet1_sad_prob = classifySentiment(tweet1, happy_log_probs, sad_log_probs)\n",
    "\n",
    "print tweet1 \n",
    "print \"happy probability: \" , tweet1_happy_prob \n",
    "print \"sad probability:\", tweet1_sad_prob"
   ]
  },
  {
   "cell_type": "code",
   "execution_count": 21,
   "metadata": {
    "collapsed": true
   },
   "outputs": [],
   "source": [
    "# get words out for sentiment analysis\n",
    "punc = list('.,;:!?()[]{}`''\\\"@#$^&*+-|=~_')\n",
    "sentiment_words = tweets_text.mapValues(lambda t: t.strip(punc).split())\n",
    "\n",
    "# classify sentiment of tweet\n",
    "tweets_probs = sentiment_words.mapValues(lambda ws: classifySentiment(ws, happy_log_probs, sad_log_probs))\n",
    "happy_probs = tweets_probs.mapValues(lambda (hprob, sprob): hprob)\n",
    "sad_probs = tweets_probs.mapValues(lambda (hprob, sprob): sprob)\n"
   ]
  },
  {
   "cell_type": "markdown",
   "metadata": {},
   "source": [
    "### LDA on nouns for topic analysis"
   ]
  },
  {
   "cell_type": "code",
   "execution_count": 22,
   "metadata": {
    "collapsed": false
   },
   "outputs": [],
   "source": [
    "# parse tweets to nouns & adjectives\n",
    "tweets_n_a = tweets_text.map(lambda a,t: get_parts(t, punc))\n",
    "tweets_nouns = tweets_n_a.keys()\n",
    "all_nouns = tweets_nouns.flatMap(lambda l: l).toLocalIterator()\n",
    "tweets_adjs = tweets_n_a.values()\n",
    "\n",
    "# feed nouns into gensim\n",
    "dictionary = corpora.Dictionary(all_nouns)"
   ]
  }
 ],
 "metadata": {
  "kernelspec": {
   "display_name": "Python 2",
   "language": "python",
   "name": "python2"
  },
  "language_info": {
   "codemirror_mode": {
    "name": "ipython",
    "version": 2
   },
   "file_extension": ".py",
   "mimetype": "text/x-python",
   "name": "python",
   "nbconvert_exporter": "python",
   "pygments_lexer": "ipython2",
   "version": "2.7.10"
  }
 },
 "nbformat": 4,
 "nbformat_minor": 0
}
