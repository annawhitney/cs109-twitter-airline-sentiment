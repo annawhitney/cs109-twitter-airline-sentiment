{
 "cells": [
  {
   "cell_type": "markdown",
   "metadata": {},
   "source": [
    "# Sentiment Analysis of Twitter Feeds to Find Your Favorite Airline\n",
    "CS109 Final Project:\n",
    "Nicholas Ruta, Ayin Mokrivala, and Anna Whitney"
   ]
  },
  {
   "cell_type": "markdown",
   "metadata": {},
   "source": [
    "We created a Python script to collect raw data from the Twitter Streaming API:"
   ]
  },
  {
   "cell_type": "code",
   "execution_count": 5,
   "metadata": {
    "collapsed": true
   },
   "outputs": [],
   "source": [
    "#MUST ADD YOUR TWITTER DEVELOPER CREDENTIALS FIRST\n",
    "#you can rename this cell as get_twitter.py and run from the command line using this command - \n",
    "# python get_twitter.py > twitter_data.txt\n",
    "\n",
    "#Import the necessary methods from the tweepy library\n",
    "from tweepy.streaming import StreamListener\n",
    "from tweepy import OAuthHandler\n",
    "from tweepy import Stream\n",
    "\n",
    "#Set the twitter developer credentials to access the Twitter Streaming API\n",
    "access_token = \"\"\n",
    "access_token_secret = \"\"\n",
    "consumer_key = \"\"\n",
    "consumer_secret = \"\"\n",
    "\n",
    "#This is a basic listener that prints received tweets to stdout.\n",
    "class StdOutListener(StreamListener):\n",
    "\n",
    "    def on_data(self, data):\n",
    "        print data\n",
    "        return True\n",
    "\n",
    "    def on_error(self, status):\n",
    "        print status\n",
    "\n",
    "        \n",
    "#THIS SECTION IS COMMENTED OUT SINCE THE DEVELOPER CREDENTIALS ARE NOT IN PLACE ABOVE\n",
    "# if __name__ == '__main__':\n",
    "\n",
    "    #This handles Twitter authetification and the connection to Twitter Streaming API\n",
    "#     l = StdOutListener()\n",
    "#     auth = OAuthHandler(consumer_key, consumer_secret)\n",
    "#     auth.set_access_token(access_token, access_token_secret)\n",
    "#     stream = Stream(auth, l)\n",
    "\n",
    "    #Use the filter to capture data from the stream by keywords -\n",
    "#     stream.filter(track=['@united', '@AlaskaAir', '@FlyFrontier', '@HawaiianAir', '@VirginAmerica','@SouthwestAir','@Delta','@JetBlue','@SpiritAirlines','@AmericanAir','#united', '#AlaskaAir', '#FlyFrontier', '#HawaiianAir', '#VirginAmerica','#SouthwestAir','#Delta','#Jetblue','#SpiritAirlines','#AmericanAir'], async=True)"
   ]
  },
  {
   "cell_type": "markdown",
   "metadata": {},
   "source": [
    "We combined all of the .txt files of raw data created from the above script into one clean and final .json file:"
   ]
  },
  {
   "cell_type": "code",
   "execution_count": 6,
   "metadata": {
    "collapsed": true
   },
   "outputs": [],
   "source": [
    "# #Uncomment if you want to combine .txt files from the above twitter streaming api process. \n",
    "\n",
    "# #take in the combined/entire dataset of json rows \n",
    "# #remove blank lines and only write the row to the 'cleanfile.json' file if it is valid JSON\n",
    "\n",
    "# import json\n",
    "# import fileinput\n",
    "# import glob\n",
    "\n",
    "# a function to verify that a row in the raw data file is valid JSON. We noticed that the Twitter Streaming API \n",
    "# did occasionally return data in error and had to take this step to clean the dataset\n",
    "# def is_json(myjson):\n",
    "#   try:\n",
    "#     json_object = json.loads(myjson)\n",
    "#   except ValueError, e:\n",
    "#     return False\n",
    "#   return True\n",
    "\n",
    "# the glob library makes it easy to grab all of the text files we placed in a tweets folder\n",
    "# these were the entire collection of raw data we brought in from the Twitter Streaming API over the Nov-Dec 2015 \n",
    "# timeframe. \n",
    "# file_list = glob.glob(\"tweets/*.txt\")\n",
    "# combined_file_name = 'combined_result.json'\n",
    "\n",
    "\n",
    "# with open(combined_file_name, 'w') as file:\n",
    "#     input_lines = fileinput.input(file_list)\n",
    "#     file.writelines(input_lines)\n",
    "    \n",
    "\n",
    "# f = open('clean_final_file.json','w')\n",
    "# for line in open(combined_file_name):\n",
    "#   line = line.rstrip()\n",
    "#   if line != '':\n",
    "#         if is_json(line) is True:      \n",
    "#             f.write(line + \"\\n\") # python will convert \\n to os.linesep\n",
    "# f.close() # you can omit in most cases as the destructor will call it"
   ]
  },
  {
   "cell_type": "markdown",
   "metadata": {},
   "source": [
    "Our project focuses on analyzing the text of over 100,000 tweets about airlines using sentiment analysis and LDA to determine which airline receives the most positive or negative attention on Twitter, and what topics people are happy or sad about with regards to each airline."
   ]
  },
  {
   "cell_type": "markdown",
   "metadata": {},
   "source": [
    "We start by importing the modules we need."
   ]
  },
  {
   "cell_type": "code",
   "execution_count": 1,
   "metadata": {
    "collapsed": true
   },
   "outputs": [],
   "source": [
    "import json\n",
    "import pandas as pd\n",
    "%matplotlib inline\n",
    "import matplotlib.pyplot as plt"
   ]
  },
  {
   "cell_type": "markdown",
   "metadata": {},
   "source": [
    "The Twitter Streaming API returns JSON objects. We took the resulting JSON and used the Python libraries json and pandas to create a list of 'raw_data' to be used in our text processing and visualizations. Our data can be downloaded from [Dropbox](https://www.dropbox.com/s/02gcmy6ftezmt23/tweets_all%40%23_103653.json?dl=0), and the below assumes that the JSON file containing the data is placed in the directory above the directory containing this notebook."
   ]
  },
  {
   "cell_type": "code",
   "execution_count": 2,
   "metadata": {
    "collapsed": false
   },
   "outputs": [
    {
     "name": "stdout",
     "output_type": "stream",
     "text": [
      "Number of raw data rows -  103653\n",
      "\n",
      "\n",
      "Here is what a JSON row in the raw data from the Twitter Streaming API looks like - \n",
      "\n",
      "\n",
      "{u'contributors': None, u'truncated': False, u'text': u'#United States Football Tickets\\xa0News https://t.co/82wIUcjYt6 https://t.co/cyGk7msfUQ', u'is_quote_status': False, u'in_reply_to_status_id': None, u'id': 671312538764599296, u'favorite_count': 0, u'source': u'<a href=\"http://publicize.wp.com/\" rel=\"nofollow\">WordPress.com</a>', u'retweeted': False, u'coordinates': None, u'timestamp_ms': u'1448888356282', u'entities': {u'user_mentions': [], u'symbols': [], u'hashtags': [{u'indices': [0, 7], u'text': u'United'}], u'urls': [{u'url': u'https://t.co/82wIUcjYt6', u'indices': [37, 60], u'expanded_url': u'http://buyfootballtickets.xyz/index.php/2015/11/30/united-states-football-tickets-news-37/', u'display_url': u'buyfootballtickets.xyz/index.php/2015\\u2026'}], u'media': [{u'expanded_url': u'http://twitter.com/rvtkq_t/status/671312538764599296/photo/1', u'display_url': u'pic.twitter.com/cyGk7msfUQ', u'url': u'https://t.co/cyGk7msfUQ', u'media_url_https': u'https://pbs.twimg.com/media/CVD7Mj9UAAEGQvd.jpg', u'id_str': u'671312537707610113', u'sizes': {u'large': {u'h': 252, u'resize': u'fit', u'w': 500}, u'small': {u'h': 171, u'resize': u'fit', u'w': 340}, u'medium': {u'h': 252, u'resize': u'fit', u'w': 500}, u'thumb': {u'h': 150, u'resize': u'crop', u'w': 150}}, u'indices': [61, 84], u'type': u'photo', u'id': 671312537707610113, u'media_url': u'http://pbs.twimg.com/media/CVD7Mj9UAAEGQvd.jpg'}]}, u'in_reply_to_screen_name': None, u'id_str': u'671312538764599296', u'retweet_count': 0, u'in_reply_to_user_id': None, u'favorited': False, u'user': {u'follow_request_sent': None, u'profile_use_background_image': True, u'default_profile_image': False, u'id': 3776628253, u'verified': False, u'profile_image_url_https': u'https://pbs.twimg.com/profile_images/650503531057692672/kiexw52X_normal.jpg', u'profile_sidebar_fill_color': u'DDEEF6', u'profile_text_color': u'333333', u'followers_count': 48, u'profile_sidebar_border_color': u'C0DEED', u'id_str': u'3776628253', u'profile_background_color': u'C0DEED', u'listed_count': 4, u'profile_background_image_url_https': u'https://abs.twimg.com/images/themes/theme1/bg.png', u'utc_offset': None, u'statuses_count': 4505, u'description': None, u'friends_count': 121, u'location': None, u'profile_link_color': u'0084B4', u'profile_image_url': u'http://pbs.twimg.com/profile_images/650503531057692672/kiexw52X_normal.jpg', u'following': None, u'geo_enabled': False, u'profile_background_image_url': u'http://abs.twimg.com/images/themes/theme1/bg.png', u'name': u'Jerri T. Johnson', u'lang': u'vi', u'profile_background_tile': False, u'favourites_count': 23, u'screen_name': u'rvtkq_t', u'notifications': None, u'url': None, u'created_at': u'Sun Oct 04 02:51:16 +0000 2015', u'contributors_enabled': False, u'time_zone': None, u'protected': False, u'default_profile': True, u'is_translator': False}, u'geo': None, u'in_reply_to_user_id_str': None, u'possibly_sensitive': False, u'lang': u'en', u'created_at': u'Mon Nov 30 12:59:16 +0000 2015', u'filter_level': u'low', u'in_reply_to_status_id_str': None, u'place': None, u'extended_entities': {u'media': [{u'expanded_url': u'http://twitter.com/rvtkq_t/status/671312538764599296/photo/1', u'display_url': u'pic.twitter.com/cyGk7msfUQ', u'url': u'https://t.co/cyGk7msfUQ', u'media_url_https': u'https://pbs.twimg.com/media/CVD7Mj9UAAEGQvd.jpg', u'id_str': u'671312537707610113', u'sizes': {u'large': {u'h': 252, u'resize': u'fit', u'w': 500}, u'small': {u'h': 171, u'resize': u'fit', u'w': 340}, u'medium': {u'h': 252, u'resize': u'fit', u'w': 500}, u'thumb': {u'h': 150, u'resize': u'crop', u'w': 150}}, u'indices': [61, 84], u'type': u'photo', u'id': 671312537707610113, u'media_url': u'http://pbs.twimg.com/media/CVD7Mj9UAAEGQvd.jpg'}]}}\n"
     ]
    }
   ],
   "source": [
    "#create a file to contain the 'raw data' from the twitter streaming api\n",
    "raw_data_path = '../tweets_all@#_103653.json'\n",
    "\n",
    "#create a list to hold the tweets\n",
    "raw_data = []\n",
    "\n",
    "#create and open the new file\n",
    "tweets_file = open(raw_data_path, \"r\")\n",
    "\n",
    "#append to the tweets list from the raw data file\n",
    "for line in tweets_file:\n",
    "    try:\n",
    "        tweet = json.loads(line)\n",
    "        raw_data.append(tweet)\n",
    "    except:\n",
    "        continue       \n",
    "print \"Number of raw data rows - \", len(raw_data)\n",
    "print \"\\n\"\n",
    "print \"Here is what a JSON row in the raw data from the Twitter Streaming API looks like - \"\n",
    "print \"\\n\"\n",
    "print raw_data[0]"
   ]
  },
  {
   "cell_type": "code",
   "execution_count": 3,
   "metadata": {
    "collapsed": true
   },
   "outputs": [],
   "source": [
    "tweets = pd.DataFrame()"
   ]
  },
  {
   "cell_type": "markdown",
   "metadata": {},
   "source": [
    "We took the raw data from the Twitter Streaming API and placed it in a Pandas Dataframe. There are many fields provided by the Twitter API, we used the Python library map function with a lambda to set pandas df columns for each of the fields of potential interest. To maintain a clean df, we set the value to 'None' in places where there is no value returned by the Twitter Streaming API:"
   ]
  },
  {
   "cell_type": "code",
   "execution_count": 4,
   "metadata": {
    "collapsed": false
   },
   "outputs": [],
   "source": [
    "#removed u'possibly_sensitive', at the moment since not all rows have it\n",
    "#it goes between place and retweet_count in the below list\n",
    "twitter_fields = [u'contributors', u'coordinates', u'created_at', u'entities', \n",
    "                  u'favorite_count', u'favorited', u'filter_level', u'geo', u'id',\n",
    "                  u'id_str', u'in_reply_to_screen_name', u'in_reply_to_status_id', \n",
    "                  u'in_reply_to_status_id_str', u'in_reply_to_user_id', u'in_reply_to_user_id_str', \n",
    "                  u'lang', u'place',   u'retweet_count', u'retweeted', u'source', \n",
    "                  u'text', u'timestamp_ms', u'truncated', u'user']\n",
    "\n",
    "#set the columns in the dataframe to match the json fields of the twitter streaming api\n",
    "for t in twitter_fields:\n",
    "    tweets[t] = map(lambda tweet: tweet[t] if tweet[t] else 'None', raw_data)\n",
    "tweets['followers_count'] = map(lambda tweet: tweet['user']['followers_count'] if tweet['user'] != None else None, raw_data)\n",
    "tweets['country'] = map(lambda tweet: tweet['place']['country'] if tweet['place'] != None else None, raw_data)"
   ]
  },
  {
   "cell_type": "markdown",
   "metadata": {},
   "source": [
    "We will use many of these fields to do our analysis, draw interesting conclusions and visualize. For example, we are interested to find out how positive the sentiment of tweets from twitter users with the highest follower_counts is. We wondered if the top twitter users are paid to be positive and we wanted to see if the data reflects this possibility: "
   ]
  },
  {
   "cell_type": "code",
   "execution_count": 5,
   "metadata": {
    "collapsed": false
   },
   "outputs": [
    {
     "name": "stdout",
     "output_type": "stream",
     "text": [
      "We can see the how many people are following the user of each tweet in the dataset - \n",
      "0      48\n",
      "1    2234\n",
      "2      16\n",
      "3      35\n",
      "4    1672\n",
      "Name: followers_count, dtype: int64\n",
      "\n",
      "\n",
      "And it will be important to verify that the majority of the data is in American English since that is what we will be basing our sentiment analysis on -\n",
      "0    en\n",
      "1    en\n",
      "2    en\n",
      "3    en\n",
      "4    en\n",
      "Name: lang, dtype: object\n"
     ]
    }
   ],
   "source": [
    "print \"We can see the how many people are following the user of each tweet in the dataset - \"\n",
    "print tweets['followers_count'].head()\n",
    "\n",
    "print \"\\n\"\n",
    "\n",
    "print \"And it will be important to verify that the majority of the data is in American English since that is what we will be basing our sentiment analysis on -\"\n",
    "print tweets['lang'].head()"
   ]
  },
  {
   "cell_type": "markdown",
   "metadata": {},
   "source": [
    "Now that we have collected the raw data and placed it in a pandas dataframe, let's take a look at some of the tweets text specifically:"
   ]
  },
  {
   "cell_type": "code",
   "execution_count": 6,
   "metadata": {
    "collapsed": false
   },
   "outputs": [
    {
     "data": {
      "text/plain": [
       "0                      #United States Football Tickets News https://t.co/82wIUcjYt6 https://t.co/cyGk7msfUQ\n",
       "1    In fact I have rarely in my entire life (if ever?) felt more bamboozled by an airline. @SpiritAirlines\n",
       "2                      #United States Football Tickets News https://t.co/USYm8mOueG https://t.co/35eZEfycvB\n",
       "3                      #United States Football Tickets News https://t.co/SFVIa6D9dg https://t.co/owpvznBCrA\n",
       "4                                       Complimentary #Citrix CTP WiFi on @Delta flight, always a pleasure!\n",
       "Name: text, dtype: object"
      ]
     },
     "execution_count": 6,
     "metadata": {},
     "output_type": "execute_result"
    }
   ],
   "source": [
    "#View the first 5 tweets of the dataset\n",
    "pd.set_option('max_colwidth', 200)\n",
    "tweets['text'].head(5)"
   ]
  },
  {
   "cell_type": "markdown",
   "metadata": {},
   "source": [
    "It is important to verify that the majority of the tweets are in American English since the sentiment analysis will depend on it. We are using a word list that weighs certain key nouns/adjectives based on the sentiment associated with them. It assumes American English is passed to it."
   ]
  },
  {
   "cell_type": "markdown",
   "metadata": {},
   "source": [
    "We used a histogram to verify the top language as English: "
   ]
  },
  {
   "cell_type": "code",
   "execution_count": 7,
   "metadata": {
    "collapsed": false
   },
   "outputs": [
    {
     "data": {
      "text/plain": [
       "<matplotlib.axes._subplots.AxesSubplot at 0x18efc4bd0>"
      ]
     },
     "execution_count": 7,
     "metadata": {},
     "output_type": "execute_result"
    },
    {
     "data": {
      "image/png": "[encoded data removed]",
      "text/plain": [
       "<matplotlib.figure.Figure at 0x18efc4390>"
      ]
     },
     "metadata": {},
     "output_type": "display_data"
    }
   ],
   "source": [
    "#view the top 5 languages present in the dataset\n",
    "tweets_by_lang = tweets['lang'].value_counts()\n",
    "fig, ax = plt.subplots()\n",
    "ax.tick_params(axis='x', labelsize=15)\n",
    "ax.tick_params(axis='y', labelsize=10)\n",
    "ax.set_xlabel('Languages', fontsize=15)\n",
    "ax.set_ylabel('Number of tweets' , fontsize=15)\n",
    "ax.set_title('Top 5 languages', fontsize=15, fontweight='bold')\n",
    "tweets_by_lang[:5].plot(ax=ax, kind='bar', color='red')"
   ]
  },
  {
   "cell_type": "markdown",
   "metadata": {},
   "source": [
    "and another histogram to verify that the tweets are mostly from the USA:"
   ]
  },
  {
   "cell_type": "code",
   "execution_count": 8,
   "metadata": {
    "collapsed": false
   },
   "outputs": [
    {
     "data": {
      "text/plain": [
       "<matplotlib.axes._subplots.AxesSubplot at 0x190a26310>"
      ]
     },
     "execution_count": 8,
     "metadata": {},
     "output_type": "execute_result"
    },
    {
     "data": {
      "image/png": "[encoded data removed]",
      "text/plain": [
       "<matplotlib.figure.Figure at 0x18efc4cd0>"
      ]
     },
     "metadata": {},
     "output_type": "display_data"
    }
   ],
   "source": [
    "#view the top 5 countries in the dataset\n",
    "tweets_by_country = tweets['country'].value_counts()\n",
    "fig, ax = plt.subplots()\n",
    "ax.tick_params(axis='x', labelsize=15)\n",
    "ax.tick_params(axis='y', labelsize=10)\n",
    "ax.set_xlabel('Countries', fontsize=15)\n",
    "ax.set_ylabel('Number of tweets' , fontsize=15)\n",
    "ax.set_title('Top 5 countries', fontsize=15, fontweight='bold')\n",
    "tweets_by_country[:5].plot(ax=ax, kind='bar', color='blue')"
   ]
  },
  {
   "cell_type": "markdown",
   "metadata": {},
   "source": [
    "We wanted to see how many tweets were about each of the top ten that we selected for the project. First, we create a function to find a word in the tweet text column of the pandas dataframe we created:"
   ]
  },
  {
   "cell_type": "code",
   "execution_count": 9,
   "metadata": {
    "collapsed": true
   },
   "outputs": [],
   "source": [
    "import re\n",
    "#create a function to find the word in the tweet text field\n",
    "def word_in_text(word, text):\n",
    "    word = word.lower()\n",
    "    text = text.lower()\n",
    "    match = re.search(word, text)\n",
    "    if match:\n",
    "        return True\n",
    "    return False"
   ]
  },
  {
   "cell_type": "markdown",
   "metadata": {},
   "source": [
    "and then we used that function, word_in_text, to create new columns for each airline and include the total count for each:"
   ]
  },
  {
   "cell_type": "code",
   "execution_count": 10,
   "metadata": {
    "collapsed": true
   },
   "outputs": [],
   "source": [
    "#get the words in the text\n",
    "airlines = ['southwest', 'delta', 'jetblue', 'united', 'flyfrontier', 'hawaiianair', 'virginamerica', 'alaskaair','spiritairlines', 'AmericanAir']\n",
    "\n",
    "#create columns for each airline and set a boolean value to use for the below visualization of tweet count \n",
    "#for each airline\n",
    "for a in airlines:\n",
    "    if (tweets['text'].apply(lambda tweet: word_in_text(a, tweet))).count() > 0:\n",
    "        tweets[a] = tweets['text'].apply(lambda tweet: word_in_text(a, tweet))"
   ]
  },
  {
   "cell_type": "markdown",
   "metadata": {},
   "source": [
    "We can get the total count by adding up all of the rows, for a particular airline column of the dataframe, that have a True value. For example, here is the total count for Southwest Airline:"
   ]
  },
  {
   "cell_type": "code",
   "execution_count": 11,
   "metadata": {
    "collapsed": false
   },
   "outputs": [
    {
     "name": "stdout",
     "output_type": "stream",
     "text": [
      "11204\n"
     ]
    }
   ],
   "source": [
    "print len(tweets.loc[tweets['southwest'] == True])"
   ]
  },
  {
   "cell_type": "markdown",
   "metadata": {},
   "source": [
    "We get those counts for all of those airlines and plot to see the comparison:"
   ]
  },
  {
   "cell_type": "code",
   "execution_count": 12,
   "metadata": {
    "collapsed": false
   },
   "outputs": [
    {
     "data": {
      "image/png": "[encoded data removed]",
      "text/plain": [
       "<matplotlib.figure.Figure at 0x190a26fd0>"
      ]
     },
     "metadata": {},
     "output_type": "display_data"
    }
   ],
   "source": [
    "#view the amount of tweets per airline\n",
    "tweets_by_airlines = [len(tweets.loc[tweets['southwest'] == True]), \n",
    " len(tweets.loc[tweets['delta'] == True]), len(tweets.loc[tweets['jetblue'] == True]),\n",
    "         len(tweets.loc[tweets['united'] == True]), len(tweets.loc[tweets['flyfrontier'] == True]),\n",
    "                     len(tweets.loc[tweets['hawaiianair'] == True]),len(tweets.loc[tweets['virginamerica'] == True]),\n",
    "                     len(tweets.loc[tweets['alaskaair'] == True]),len(tweets.loc[tweets['spiritairlines'] == True]),\n",
    "                     len(tweets.loc[tweets['AmericanAir'] == True])]\n",
    "\n",
    "airlines = ['southwest', 'delta', 'jetblue', 'united', 'flyfrontier', 'hawaiianair', 'virginamerica', 'alaskaair','spiritairlines', 'AmericanAir']\n",
    "\n",
    "x_pos = list(range(len(airlines)))\n",
    "width = 0.3\n",
    "fig, ax = plt.subplots(figsize=(16,8))\n",
    "plt.bar(x_pos, tweets_by_airlines, width, alpha=1, color='g')\n",
    "# Setting axis labels and ticks\n",
    "ax.set_ylabel('Number of tweets', fontsize=15)\n",
    "ax.set_title('Ranking: Airlines (Raw data)', fontsize=10, fontweight='bold')\n",
    "ax.set_xticks([p + 0.9 * width for p in x_pos])\n",
    "ax.set_xticklabels(airlines)\n",
    "plt.grid()"
   ]
  },
  {
   "cell_type": "markdown",
   "metadata": {},
   "source": [
    "We will need a new column for the dataframe called 'airline'. We created this for our spark text processing and LDA Topic modelling in addition to the visualizations we will create:"
   ]
  },
  {
   "cell_type": "code",
   "execution_count": 13,
   "metadata": {
    "collapsed": false
   },
   "outputs": [
    {
     "name": "stdout",
     "output_type": "stream",
     "text": [
      "The Processed Data File contains 93737 tweets.\n"
     ]
    }
   ],
   "source": [
    "#create a dataframe called 'processed_data' with extra column 'airline'\n",
    "\n",
    "#a function to set the airline name where the column value is True\n",
    "def setAirlineName(row):   \n",
    "    x = None\n",
    "    for a in airlines:\n",
    "        if row[a] is True:\n",
    "            x = a\n",
    "    if x is not None:\n",
    "        return x\n",
    "    else: \n",
    "        return\n",
    "\n",
    "# set a column in the tweets dataframe for each airline name with a boolean value\n",
    "for a in airlines:\n",
    "    if (tweets['text'].apply(lambda tweet: word_in_text(a, tweet))).count() > 0:\n",
    "        tweets[a] = tweets['text'].apply(lambda tweet: word_in_text(a, tweet))\n",
    "\n",
    "#add the airline column with the airline name as the value \n",
    "tweets['airline'] = tweets.apply(lambda row: setAirlineName(row), axis=1)  \n",
    "\n",
    "#remove the temp. columns for each airline\n",
    "for a in airlines:\n",
    "    tweets = tweets.drop(a, 1)\n",
    "\n",
    "#filter to just English-language tweets, since all our language processing is English-specific\n",
    "processed_data = tweets[tweets['lang'] == 'en']\n",
    "\n",
    "#processed_data['airline'] values are - 'southwest', 'delta', 'jetblue', 'united', 'flyfrontier', \n",
    "# 'hawaiianair', 'virginamerica', 'alaskaair','spiritairlines', 'AmericanAir'\n",
    "print 'The Processed Data File contains', len(processed_data), 'tweets.'"
   ]
  },
  {
   "cell_type": "markdown",
   "metadata": {},
   "source": [
    "This new dataframe contains the 'airline' column we need:"
   ]
  },
  {
   "cell_type": "code",
   "execution_count": 14,
   "metadata": {
    "collapsed": false
   },
   "outputs": [
    {
     "data": {
      "text/plain": [
       "0            united\n",
       "1    spiritairlines\n",
       "2            united\n",
       "3            united\n",
       "4             delta\n",
       "Name: airline, dtype: object"
      ]
     },
     "execution_count": 14,
     "metadata": {},
     "output_type": "execute_result"
    }
   ],
   "source": [
    "processed_data['airline'].head()"
   ]
  },
  {
   "cell_type": "markdown",
   "metadata": {},
   "source": [
    "At one point, we thought it would be necessary to have a JSON file created from this new dataframe. We created a script to do that but eventually decided to use the dataframe directly in the Spark text processing application:"
   ]
  },
  {
   "cell_type": "code",
   "execution_count": 12,
   "metadata": {
    "collapsed": true
   },
   "outputs": [],
   "source": [
    "#create a json file from the processed_data pandas dataframe\n",
    "#it has the extra airline field that will be used for spark processing\n",
    "\n",
    "#This is commented out since we are using the processed_data dataframe for the spark processing\n",
    "# with open('processed_data.json', 'w') as outfile:  \n",
    "#     for index, row in processed_data.iterrows():\n",
    "#         outfile.write(row.to_json())\n",
    "#         outfile.write('\\n')"
   ]
  },
  {
   "cell_type": "markdown",
   "metadata": {},
   "source": [
    "# Pass the data with airlines to Spark for text processing"
   ]
  },
  {
   "cell_type": "code",
   "execution_count": 15,
   "metadata": {
    "collapsed": false
   },
   "outputs": [],
   "source": [
    "from pattern.en import parse\n",
    "from pattern.en import pprint\n",
    "from pattern.vector import stem, PORTER, LEMMA\n",
    "from sklearn.feature_extraction import text\n",
    "from gensim import corpora "
   ]
  },
  {
   "cell_type": "code",
   "execution_count": 16,
   "metadata": {
    "collapsed": false
   },
   "outputs": [
    {
     "name": "stdout",
     "output_type": "stream",
     "text": [
      "/usr/local/opt/apache-spark/libexec\n"
     ]
    }
   ],
   "source": [
    "import findspark\n",
    "findspark.init()\n",
    "print findspark.find()"
   ]
  },
  {
   "cell_type": "code",
   "execution_count": 17,
   "metadata": {
    "collapsed": true
   },
   "outputs": [],
   "source": [
    "import pyspark"
   ]
  },
  {
   "cell_type": "code",
   "execution_count": 18,
   "metadata": {
    "collapsed": true
   },
   "outputs": [],
   "source": [
    "# adapted from HW5\n",
    "def get_parts(thetext, punc='.,;:!?()[]{}`''\\\"@#$^&*+-|=~_'):\n",
    "    # generate stopwords list & regexes for 2+ periods or 2+ dashes\n",
    "    stop = text.ENGLISH_STOP_WORDS\n",
    "    regex1=re.compile(r\"\\.{2,}\")\n",
    "    regex2=re.compile(r\"\\-{2,}\")\n",
    "    thetext=re.sub(regex1, ' ', thetext)\n",
    "    thetext=re.sub(regex2, ' ', thetext)\n",
    "    punctuation = list(punc)\n",
    "    nouns=[]\n",
    "    descriptives=[]\n",
    "    for i,sentence in enumerate(parse(thetext, tokenize=True, lemmata=True).split()):\n",
    "        nouns.append([])\n",
    "        descriptives.append([])\n",
    "        for token in sentence:\n",
    "            if len(token[4]) >0:\n",
    "                if token[1] in ['JJ', 'JJR', 'JJS']:\n",
    "                    if token[4] in stop or token[4][0] in punctuation or token[4][-1] in punctuation or len(token[4])==1:\n",
    "                        continue\n",
    "                    descriptives[i].append(token[4])\n",
    "                elif token[1] in ['NN', 'NNS']:\n",
    "                    if token[4] in stop or token[4][0] in punctuation or token[4][-1] in punctuation or len(token[4])==1:\n",
    "                        continue\n",
    "                    nouns[i].append(token[4])\n",
    "    out=zip(nouns, descriptives)\n",
    "    nouns2=[]\n",
    "    descriptives2=[]\n",
    "    for n,d in out:\n",
    "        if len(n)!=0 and len(d)!=0:\n",
    "            nouns2.append(n)\n",
    "            descriptives2.append(d)\n",
    "    return nouns2, descriptives2"
   ]
  },
  {
   "cell_type": "code",
   "execution_count": 19,
   "metadata": {
    "collapsed": false
   },
   "outputs": [],
   "source": [
    "# initialize Spark context\n",
    "conf = pyspark.SparkConf().setAppName(\"Twitter_Airline\").setMaster(\"local[*]\")\n",
    "sc = pyspark.SparkContext(conf=conf)"
   ]
  },
  {
   "cell_type": "markdown",
   "metadata": {},
   "source": [
    "We read all the tweets from the dataframe into Spark, assigning each tweet a unique ID so we can track it through our sentiment analysis and LDA topic modeling."
   ]
  },
  {
   "cell_type": "code",
   "execution_count": 20,
   "metadata": {
    "collapsed": false
   },
   "outputs": [
    {
     "data": {
      "text/plain": [
       "[((0, 'united'),\n",
       "  u'#United States Football Tickets\\xa0News https://t.co/82wIUcjYt6 https://t.co/cyGk7msfUQ'),\n",
       " ((1, 'spiritairlines'),\n",
       "  u'In fact I have rarely in my entire life (if ever?) felt more bamboozled by an airline. @SpiritAirlines'),\n",
       " ((2, 'united'),\n",
       "  u'#United States Football Tickets\\xa0News https://t.co/USYm8mOueG https://t.co/35eZEfycvB'),\n",
       " ((3, 'united'),\n",
       "  u'#United States Football Tickets\\xa0News https://t.co/SFVIa6D9dg https://t.co/owpvznBCrA'),\n",
       " ((4, 'delta'),\n",
       "  u'Complimentary #Citrix CTP WiFi on @Delta flight, always a pleasure!')]"
      ]
     },
     "execution_count": 20,
     "metadata": {},
     "output_type": "execute_result"
    }
   ],
   "source": [
    "# read tweets & associated airlines into Spark\n",
    "tweets_text = sc.parallelize([(row['airline'], row['text']) for index, row in processed_data.iterrows()]).zipWithIndex().map(lambda ((air, txt), idx): ((idx, air), txt))\n",
    "tweets_text.take(5)"
   ]
  },
  {
   "cell_type": "markdown",
   "metadata": {},
   "source": [
    "### Sentiment of a sentence based on log probs in a word list"
   ]
  },
  {
   "cell_type": "markdown",
   "metadata": {},
   "source": [
    "Function to read the word list file:"
   ]
  },
  {
   "cell_type": "code",
   "execution_count": 21,
   "metadata": {
    "collapsed": true
   },
   "outputs": [],
   "source": [
    "import numpy as np\n",
    "# read the word list\n",
    "def readSentimentList(file_name):\n",
    "    ifile = open(file_name, 'r')\n",
    "    happy_log_probs = {}\n",
    "    sad_log_probs = {}\n",
    "    ifile.readline() #Ignore title row\n",
    "    # splitting the csv\n",
    "    for line in ifile:\n",
    "        tokens = line[:-1].split(',')\n",
    "        happy_log_probs[tokens[0]] = float(tokens[1])\n",
    "        sad_log_probs[tokens[0]] = float(tokens[2])\n",
    "\n",
    "    return happy_log_probs, sad_log_probs"
   ]
  },
  {
   "cell_type": "markdown",
   "metadata": {},
   "source": [
    "Using Naive Bayes rule:"
   ]
  },
  {
   "cell_type": "code",
   "execution_count": 22,
   "metadata": {
    "collapsed": true
   },
   "outputs": [],
   "source": [
    "def classifySentiment(words, happy_log_probs, sad_log_probs):\n",
    "    # get the log-probability of each word under each sentiment\n",
    "    happy_probs = [happy_log_probs[word] for word in words if word in happy_log_probs]\n",
    "    sad_probs = [sad_log_probs[word] for word in words if word in sad_log_probs]\n",
    "\n",
    "    # sum all the log-probabilities for each sentiment to get a log-probability for the whole tweet\n",
    "    tweet_happy_log_prob = np.sum(happy_probs)\n",
    "    tweet_sad_log_prob = np.sum(sad_probs)\n",
    "\n",
    "    # calculate the probability of the tweet belonging to each sentiment\n",
    "    prob_happy = np.reciprocal(np.exp(tweet_sad_log_prob - tweet_happy_log_prob) + 1)\n",
    "    prob_sad = 1 - prob_happy\n",
    "\n",
    "    return prob_happy, prob_sad"
   ]
  },
  {
   "cell_type": "markdown",
   "metadata": {},
   "source": [
    "Load the word list:"
   ]
  },
  {
   "cell_type": "code",
   "execution_count": 23,
   "metadata": {
    "collapsed": true
   },
   "outputs": [],
   "source": [
    "# load list of words and log probs\n",
    "happy_log_probs, sad_log_probs = readSentimentList('wordlist.csv')"
   ]
  },
  {
   "cell_type": "markdown",
   "metadata": {},
   "source": [
    "Reading in the tweet:"
   ]
  },
  {
   "cell_type": "code",
   "execution_count": 24,
   "metadata": {
    "collapsed": false
   },
   "outputs": [
    {
     "name": "stdout",
     "output_type": "stream",
     "text": [
      "['my', 'hate', 'southwest']\n",
      "happy probability:  0.280105168408\n",
      "sad probability: 0.719894831592\n"
     ]
    }
   ],
   "source": [
    "# read tweet\n",
    "tweet1 = ['my', 'hate', 'southwest']\n",
    "\n",
    "# calculate the probability\n",
    "tweet1_happy_prob, tweet1_sad_prob = classifySentiment(tweet1, happy_log_probs, sad_log_probs)\n",
    "\n",
    "print tweet1 \n",
    "print \"happy probability: \" , tweet1_happy_prob \n",
    "print \"sad probability:\", tweet1_sad_prob"
   ]
  },
  {
   "cell_type": "code",
   "execution_count": 25,
   "metadata": {
    "collapsed": false
   },
   "outputs": [],
   "source": [
    "# get words out for sentiment analysis\n",
    "puncs = '.,;:!?()[]{}`''\\\"@#$^&*+-|=~_'\n",
    "sentiment_words = tweets_text.mapValues(lambda t: t.strip(puncs).split())\n",
    "\n",
    "# classify sentiment of tweet\n",
    "tweets_probs = sentiment_words.mapValues(lambda ws: classifySentiment(ws, happy_log_probs, sad_log_probs))\n",
    "happy_probs = tweets_probs.mapValues(lambda (hprob, sprob): (hprob, 1))\n",
    "sad_probs = tweets_probs.mapValues(lambda (hprob, sprob): (sprob, 1))\n"
   ]
  },
  {
   "cell_type": "markdown",
   "metadata": {},
   "source": [
    "Create an output.csv file to use for visualization "
   ]
  },
  {
   "cell_type": "code",
   "execution_count": 26,
   "metadata": {
    "collapsed": false
   },
   "outputs": [],
   "source": [
    "#collect the happy probabilities from the above mapValues call\n",
    "listOfHappyProbs = happy_probs.collect()\n",
    "\n",
    "#create an empty list to contain the just the probability portion of happy_probs\n",
    "HappyProbsList = []\n",
    "for x in range(len(listOfHappyProbs)):\n",
    "    HappyProbsList.append(listOfHappyProbs[x][1][0])\n",
    "\n",
    "#create the following dataframe containing columns of data for visualization\n",
    "# text, airline, positive, prob, created_at, favorite_count, retweet_count, followers_count\n",
    "df_data_visualization = pd.DataFrame()\n",
    "df_data_visualization['created_at'] = processed_data['created_at']\n",
    "df_data_visualization['favorite_count'] = processed_data['favorite_count']\n",
    "df_data_visualization['retweet_count'] = processed_data['retweet_count']\n",
    "df_data_visualization['followers_count'] = processed_data['followers_count']\n",
    "# df_data_visualization['text'] = processed_data['text']\n",
    "df_data_visualization['airline'] = processed_data['airline']\n",
    "df_data_visualization['prob'] = HappyProbsList\n",
    "\n",
    "#a function to set a 1 if the happy probability is greater than .5 otherwise set it to 0\n",
    "#we will use this for the visualization aspect\n",
    "def setPositiveValues(row):\n",
    "    if row['prob'] > 0.5:\n",
    "        return 1\n",
    "    else:\n",
    "        return 0\n",
    "\n",
    "#run the function on the prob column to create the positive column to determine if a tweet is positive or negative\n",
    "#from the happy probability\n",
    "df_data_visualization['positive'] = df_data_visualization.apply(setPositiveValues, axis=1)\n",
    "\n",
    "#create the text column, remove the newlines from the text to resolve an issue with row creation in the .to_csv call\n",
    "df_data_visualization['text'] = processed_data['text'].str.replace('\\n',\"\")\n",
    "\n",
    "#create a .csv file to use for visualization \n",
    "df_data_visualization.to_csv('output.csv', encoding='utf-8', index=False)"
   ]
  },
  {
   "cell_type": "markdown",
   "metadata": {},
   "source": [
    "## Visualization"
   ]
  },
  {
   "cell_type": "markdown",
   "metadata": {},
   "source": [
    "reading hte output file"
   ]
  },
  {
   "cell_type": "code",
   "execution_count": 27,
   "metadata": {
    "collapsed": false
   },
   "outputs": [
    {
     "data": {
      "text/html": [
       "<div>\n",
       "<table border=\"1\" class=\"dataframe\">\n",
       "  <thead>\n",
       "    <tr style=\"text-align: right;\">\n",
       "      <th></th>\n",
       "      <th>created_at</th>\n",
       "      <th>favorite_count</th>\n",
       "      <th>retweet_count</th>\n",
       "      <th>followers_count</th>\n",
       "      <th>airline</th>\n",
       "      <th>prob</th>\n",
       "      <th>positive</th>\n",
       "      <th>text</th>\n",
       "    </tr>\n",
       "  </thead>\n",
       "  <tbody>\n",
       "    <tr>\n",
       "      <th>1</th>\n",
       "      <td>Mon Nov 30 12:59:18 +0000 2015</td>\n",
       "      <td>None</td>\n",
       "      <td>None</td>\n",
       "      <td>2234</td>\n",
       "      <td>spiritairlines</td>\n",
       "      <td>0.959401</td>\n",
       "      <td>1</td>\n",
       "      <td>In fact I have rarely in my entire life (if ever?) felt more bamboozled by an airline. @SpiritAirlines</td>\n",
       "    </tr>\n",
       "    <tr>\n",
       "      <th>4</th>\n",
       "      <td>Mon Nov 30 12:59:49 +0000 2015</td>\n",
       "      <td>None</td>\n",
       "      <td>None</td>\n",
       "      <td>1672</td>\n",
       "      <td>delta</td>\n",
       "      <td>0.987388</td>\n",
       "      <td>1</td>\n",
       "      <td>Complimentary #Citrix CTP WiFi on @Delta flight, always a pleasure!</td>\n",
       "    </tr>\n",
       "    <tr>\n",
       "      <th>5</th>\n",
       "      <td>Mon Nov 30 13:00:02 +0000 2015</td>\n",
       "      <td>None</td>\n",
       "      <td>None</td>\n",
       "      <td>189</td>\n",
       "      <td>AmericanAir</td>\n",
       "      <td>0.873072</td>\n",
       "      <td>1</td>\n",
       "      <td>@judsonabts @AmericanAir the thing about it is they were my carry ons...</td>\n",
       "    </tr>\n",
       "    <tr>\n",
       "      <th>10</th>\n",
       "      <td>Mon Nov 30 13:00:37 +0000 2015</td>\n",
       "      <td>None</td>\n",
       "      <td>None</td>\n",
       "      <td>16720</td>\n",
       "      <td>virginamerica</td>\n",
       "      <td>0.797083</td>\n",
       "      <td>1</td>\n",
       "      <td>.@United responds to @VirginAmerica entering #Denver - San Francisco market https://t.co/P47FlIPWXy https://t.co/et2OeZSZCe</td>\n",
       "    </tr>\n",
       "    <tr>\n",
       "      <th>11</th>\n",
       "      <td>Mon Nov 30 13:00:40 +0000 2015</td>\n",
       "      <td>None</td>\n",
       "      <td>None</td>\n",
       "      <td>16</td>\n",
       "      <td>AmericanAir</td>\n",
       "      <td>0.955934</td>\n",
       "      <td>1</td>\n",
       "      <td>@AmericanAir another flight with American and again a super cramped seat. It's not an airplane it's a Sardine Can it seems like it.</td>\n",
       "    </tr>\n",
       "  </tbody>\n",
       "</table>\n",
       "</div>"
      ],
      "text/plain": [
       "                        created_at favorite_count retweet_count  \\\n",
       "1   Mon Nov 30 12:59:18 +0000 2015           None          None   \n",
       "4   Mon Nov 30 12:59:49 +0000 2015           None          None   \n",
       "5   Mon Nov 30 13:00:02 +0000 2015           None          None   \n",
       "10  Mon Nov 30 13:00:37 +0000 2015           None          None   \n",
       "11  Mon Nov 30 13:00:40 +0000 2015           None          None   \n",
       "\n",
       "    followers_count         airline      prob  positive  \\\n",
       "1              2234  spiritairlines  0.959401         1   \n",
       "4              1672           delta  0.987388         1   \n",
       "5               189     AmericanAir  0.873072         1   \n",
       "10            16720   virginamerica  0.797083         1   \n",
       "11               16     AmericanAir  0.955934         1   \n",
       "\n",
       "                                                                                                                                   text  \n",
       "1                                In fact I have rarely in my entire life (if ever?) felt more bamboozled by an airline. @SpiritAirlines  \n",
       "4                                                                   Complimentary #Citrix CTP WiFi on @Delta flight, always a pleasure!  \n",
       "5                                                              @judsonabts @AmericanAir the thing about it is they were my carry ons...  \n",
       "10          .@United responds to @VirginAmerica entering #Denver - San Francisco market https://t.co/P47FlIPWXy https://t.co/et2OeZSZCe  \n",
       "11  @AmericanAir another flight with American and again a super cramped seat. It's not an airplane it's a Sardine Can it seems like it.  "
      ]
     },
     "execution_count": 27,
     "metadata": {},
     "output_type": "execute_result"
    }
   ],
   "source": [
    "df = pd.read_csv(\"output.csv\")\n",
    "#df.to_csv(\"output.csv\", date_format='%Y%m%d')\n",
    "#getting rid of undecided tweets\n",
    "df = df[(df.prob <> .5)]\n",
    "df.head()"
   ]
  },
  {
   "cell_type": "markdown",
   "metadata": {},
   "source": [
    "Running Plotly"
   ]
  },
  {
   "cell_type": "code",
   "execution_count": 28,
   "metadata": {
    "collapsed": false
   },
   "outputs": [
    {
     "name": "stdout",
     "output_type": "stream",
     "text": [
      "0.7.1\n"
     ]
    }
   ],
   "source": [
    "#run these using your username and key\n",
    "import plotly.tools as tls\n",
    "tls.set_credentials_file(username='ayinmv', api_key='rq66z3hqx8')\n",
    "\n",
    "import plotly.plotly as py\n",
    "from plotly.graph_objs import *\n",
    "\n",
    "#install cufflink package\n",
    "import cufflinks as cf\n",
    "print cf.__version__"
   ]
  },
  {
   "cell_type": "markdown",
   "metadata": {},
   "source": [
    "Number of Tweets"
   ]
  },
  {
   "cell_type": "code",
   "execution_count": 29,
   "metadata": {
    "collapsed": false
   },
   "outputs": [
    {
     "data": {
      "text/html": [
       "<iframe id=\"igraph\" scrolling=\"no\" style=\"border:none;\"seamless=\"seamless\" src=\"https://plot.ly/~ayinmv/33.embed\" height=\"525\" width=\"100%\"></iframe>"
      ],
      "text/plain": [
       "<plotly.tools.PlotlyDisplay object>"
      ]
     },
     "execution_count": 29,
     "metadata": {},
     "output_type": "execute_result"
    }
   ],
   "source": [
    "airline_count = df.groupby(['airline']).count().prob.sort_values(axis=0, ascending=False, inplace=False)\n",
    "airline_count.iplot(kind='bar', yTitle='Number of Tweets', title='Number of Tweets')\n",
    "\n",
    "tls.embed('https://plot.ly/~ayinmv/33')"
   ]
  },
  {
   "cell_type": "markdown",
   "metadata": {},
   "source": [
    "Score of the airlines based on the average of their positive scores"
   ]
  },
  {
   "cell_type": "code",
   "execution_count": 30,
   "metadata": {
    "collapsed": false
   },
   "outputs": [
    {
     "data": {
      "text/html": [
       "<iframe id=\"igraph\" scrolling=\"no\" style=\"border:none;\"seamless=\"seamless\" src=\"https://plot.ly/~ayinmv/63.embed\" height=\"525\" width=\"100%\"></iframe>"
      ],
      "text/plain": [
       "<plotly.tools.PlotlyDisplay object>"
      ]
     },
     "execution_count": 30,
     "metadata": {},
     "output_type": "execute_result"
    }
   ],
   "source": [
    "airline_count = df.groupby(['airline']).mean().prob.sort_values(axis=0, ascending=False, inplace=False)\n",
    "airline_count.iplot(kind='bar', yTitle='Average Score', title='Average Score')\n",
    "\n",
    "tls.embed('https://plot.ly/~ayinmv/63')"
   ]
  },
  {
   "cell_type": "markdown",
   "metadata": {},
   "source": [
    "Most important tweets"
   ]
  },
  {
   "cell_type": "code",
   "execution_count": 31,
   "metadata": {
    "collapsed": false
   },
   "outputs": [
    {
     "data": {
      "text/html": [
       "<div>\n",
       "<table border=\"1\" class=\"dataframe\">\n",
       "  <thead>\n",
       "    <tr style=\"text-align: right;\">\n",
       "      <th></th>\n",
       "      <th>followers_count</th>\n",
       "      <th>text</th>\n",
       "      <th>prob</th>\n",
       "      <th>created_at</th>\n",
       "    </tr>\n",
       "  </thead>\n",
       "  <tbody>\n",
       "    <tr>\n",
       "      <th>80284</th>\n",
       "      <td>9561279</td>\n",
       "      <td>@beauflynn @VirginAmerica Yea baby! Fav airline to fly outta FLL. Safe travels bro great seeing you</td>\n",
       "      <td>0.999871</td>\n",
       "      <td>Sun Nov 29 02:58:52 +0000 2015</td>\n",
       "    </tr>\n",
       "    <tr>\n",
       "      <th>26101</th>\n",
       "      <td>4546595</td>\n",
       "      <td>A couple teammates took in a different form of elite training during the off-day in Atlanta at @Delta​ HQ: https://t.co/pDpWK0aeKc</td>\n",
       "      <td>0.993440</td>\n",
       "      <td>Thu Dec 03 23:39:13 +0000 2015</td>\n",
       "    </tr>\n",
       "    <tr>\n",
       "      <th>30012</th>\n",
       "      <td>3313970</td>\n",
       "      <td>@AmericanAir thank you for the concierge key this year! hope i get renewed for 2016!</td>\n",
       "      <td>0.998328</td>\n",
       "      <td>Fri Dec 04 08:55:41 +0000 2015</td>\n",
       "    </tr>\n",
       "    <tr>\n",
       "      <th>29971</th>\n",
       "      <td>3313940</td>\n",
       "      <td>me &amp;amp; @R3HAB waited until our row fell asleep then made a lil banger here on @americanair studios.</td>\n",
       "      <td>0.960900</td>\n",
       "      <td>Fri Dec 04 08:46:26 +0000 2015</td>\n",
       "    </tr>\n",
       "    <tr>\n",
       "      <th>27211</th>\n",
       "      <td>3068510</td>\n",
       "      <td>Had the best time spreading cheer today @delta's Holiday in the Hangar event! Check out this winter wonderland! #DeltaLAX #DeltaGreaterGood</td>\n",
       "      <td>0.997183</td>\n",
       "      <td>Fri Dec 04 01:39:24 +0000 2015</td>\n",
       "    </tr>\n",
       "    <tr>\n",
       "      <th>84167</th>\n",
       "      <td>2042736</td>\n",
       "      <td>Apparently \" sully \" the service dog who weighs at least 50 pounds is having trouble getting comfortable in business class @Delta</td>\n",
       "      <td>0.998998</td>\n",
       "      <td>Sun Nov 29 16:43:22 +0000 2015</td>\n",
       "    </tr>\n",
       "    <tr>\n",
       "      <th>68221</th>\n",
       "      <td>1974653</td>\n",
       "      <td>@kristina_vash @VirginAmerica So sorry to hear it! As mentioned, the seats are under airport control. We appreciate you working with us.</td>\n",
       "      <td>0.993639</td>\n",
       "      <td>Tue Dec 08 23:19:05 +0000 2015</td>\n",
       "    </tr>\n",
       "    <tr>\n",
       "      <th>68158</th>\n",
       "      <td>1974652</td>\n",
       "      <td>@kristina_vash @VirginAmerica This has happened before, Kristina?</td>\n",
       "      <td>0.387029</td>\n",
       "      <td>Tue Dec 08 23:11:16 +0000 2015</td>\n",
       "    </tr>\n",
       "    <tr>\n",
       "      <th>66893</th>\n",
       "      <td>1974645</td>\n",
       "      <td>Tag @JetBlue &amp;amp; #IChipInSweepstakes for a chance to win $1K for your charity of choice.+Terms https://t.co/gRnM9IVJhs https://t.co/AglRia4LWb</td>\n",
       "      <td>0.986362</td>\n",
       "      <td>Tue Dec 08 21:30:07 +0000 2015</td>\n",
       "    </tr>\n",
       "    <tr>\n",
       "      <th>65810</th>\n",
       "      <td>1974642</td>\n",
       "      <td>@JoJensen Her best source for info is the JFK Baggage Service Office. Ph: 1-347-545-3900 Email: jfklostandfound@jetblue.com</td>\n",
       "      <td>0.994583</td>\n",
       "      <td>Tue Dec 08 20:15:55 +0000 2015</td>\n",
       "    </tr>\n",
       "    <tr>\n",
       "      <th>52058</th>\n",
       "      <td>1974474</td>\n",
       "      <td>@ThatJackR @NYPD110Pct @Delta Sorry, we can't accept hoverboards as their lithium batteries are prohibited.</td>\n",
       "      <td>0.778899</td>\n",
       "      <td>Mon Dec 07 00:55:30 +0000 2015</td>\n",
       "    </tr>\n",
       "    <tr>\n",
       "      <th>34089</th>\n",
       "      <td>1974275</td>\n",
       "      <td>@alyswonderland_ @united @Delta @AlaskaAir @AmericanAir @SouthwestAir @BoeingAirplanes We have a 13th row onboard! 🌙🔮✨</td>\n",
       "      <td>0.711730</td>\n",
       "      <td>Fri Dec 04 20:10:24 +0000 2015</td>\n",
       "    </tr>\n",
       "    <tr>\n",
       "      <th>25828</th>\n",
       "      <td>1974196</td>\n",
       "      <td>@FateWillTell @AmericanAir @Delta @FlyFrontier @LaGuardiaAir Sorry, forgot to mention FLL is the closest we've got!</td>\n",
       "      <td>0.904682</td>\n",
       "      <td>Thu Dec 03 22:15:29 +0000 2015</td>\n",
       "    </tr>\n",
       "    <tr>\n",
       "      <th>25725</th>\n",
       "      <td>1974194</td>\n",
       "      <td>@FateWillTell @AmericanAir @Delta @FlyFrontier @LaGuardiaAir Sorry to hear this! So you don't have a booking with us, correct?</td>\n",
       "      <td>0.975038</td>\n",
       "      <td>Thu Dec 03 22:04:21 +0000 2015</td>\n",
       "    </tr>\n",
       "    <tr>\n",
       "      <th>25696</th>\n",
       "      <td>1974194</td>\n",
       "      <td>@FateWillTell @AmericanAir @Delta @FlyFrontier @LaGuardiaAir Trying to get to Miami from LGA?</td>\n",
       "      <td>0.688497</td>\n",
       "      <td>Thu Dec 03 22:01:29 +0000 2015</td>\n",
       "    </tr>\n",
       "    <tr>\n",
       "      <th>25765</th>\n",
       "      <td>1974194</td>\n",
       "      <td>@FateWillTell @AmericanAir @Delta @FlyFrontier @LaGuardiaAir Have you checked our website? That's your best bet for a last minute flight.</td>\n",
       "      <td>0.997828</td>\n",
       "      <td>Thu Dec 03 22:08:08 +0000 2015</td>\n",
       "    </tr>\n",
       "    <tr>\n",
       "      <th>20234</th>\n",
       "      <td>1974053</td>\n",
       "      <td>@seo_hanna We can be reached via email at DearJetBlue@JetBlue.com</td>\n",
       "      <td>0.974323</td>\n",
       "      <td>Thu Dec 03 01:45:44 +0000 2015</td>\n",
       "    </tr>\n",
       "    <tr>\n",
       "      <th>7240</th>\n",
       "      <td>1933419</td>\n",
       "      <td>Thanks #NYC! And @Matt_Morrison and @febreze_fresh and #12Stinks and @VirginAmerica for getting me to and fro. https://t.co/Iw2c6DIWw9</td>\n",
       "      <td>0.683220</td>\n",
       "      <td>Tue Dec 01 17:55:20 +0000 2015</td>\n",
       "    </tr>\n",
       "    <tr>\n",
       "      <th>50433</th>\n",
       "      <td>1927827</td>\n",
       "      <td>@matthewnorwood But lets be serious here, he's thinking \"Hey @SouthwestAir. Matthew is on my BNA-DAL flight.\" ^AC</td>\n",
       "      <td>0.970249</td>\n",
       "      <td>Sun Dec 06 15:08:14 +0000 2015</td>\n",
       "    </tr>\n",
       "    <tr>\n",
       "      <th>19270</th>\n",
       "      <td>1927006</td>\n",
       "      <td>@shawnrstewart Great takeaway, Shawn! How'd you enjoy Ginger? #SouthwestAir ^DH</td>\n",
       "      <td>0.916005</td>\n",
       "      <td>Wed Dec 02 20:56:04 +0000 2015</td>\n",
       "    </tr>\n",
       "  </tbody>\n",
       "</table>\n",
       "</div>"
      ],
      "text/plain": [
       "       followers_count  \\\n",
       "80284          9561279   \n",
       "26101          4546595   \n",
       "30012          3313970   \n",
       "29971          3313940   \n",
       "27211          3068510   \n",
       "84167          2042736   \n",
       "68221          1974653   \n",
       "68158          1974652   \n",
       "66893          1974645   \n",
       "65810          1974642   \n",
       "52058          1974474   \n",
       "34089          1974275   \n",
       "25828          1974196   \n",
       "25725          1974194   \n",
       "25696          1974194   \n",
       "25765          1974194   \n",
       "20234          1974053   \n",
       "7240           1933419   \n",
       "50433          1927827   \n",
       "19270          1927006   \n",
       "\n",
       "                                                                                                                                                   text  \\\n",
       "80284                                               @beauflynn @VirginAmerica Yea baby! Fav airline to fly outta FLL. Safe travels bro great seeing you   \n",
       "26101                A couple teammates took in a different form of elite training during the off-day in Atlanta at @Delta​ HQ: https://t.co/pDpWK0aeKc   \n",
       "30012                                                              @AmericanAir thank you for the concierge key this year! hope i get renewed for 2016!   \n",
       "29971                                             me &amp; @R3HAB waited until our row fell asleep then made a lil banger here on @americanair studios.   \n",
       "27211       Had the best time spreading cheer today @delta's Holiday in the Hangar event! Check out this winter wonderland! #DeltaLAX #DeltaGreaterGood   \n",
       "84167                 Apparently \" sully \" the service dog who weighs at least 50 pounds is having trouble getting comfortable in business class @Delta   \n",
       "68221          @kristina_vash @VirginAmerica So sorry to hear it! As mentioned, the seats are under airport control. We appreciate you working with us.   \n",
       "68158                                                                                 @kristina_vash @VirginAmerica This has happened before, Kristina?   \n",
       "66893  Tag @JetBlue &amp; #IChipInSweepstakes for a chance to win $1K for your charity of choice.+Terms https://t.co/gRnM9IVJhs https://t.co/AglRia4LWb   \n",
       "65810                       @JoJensen Her best source for info is the JFK Baggage Service Office. Ph: 1-347-545-3900 Email: jfklostandfound@jetblue.com   \n",
       "52058                                       @ThatJackR @NYPD110Pct @Delta Sorry, we can't accept hoverboards as their lithium batteries are prohibited.   \n",
       "34089                          @alyswonderland_ @united @Delta @AlaskaAir @AmericanAir @SouthwestAir @BoeingAirplanes We have a 13th row onboard! 🌙🔮✨   \n",
       "25828                               @FateWillTell @AmericanAir @Delta @FlyFrontier @LaGuardiaAir Sorry, forgot to mention FLL is the closest we've got!   \n",
       "25725                    @FateWillTell @AmericanAir @Delta @FlyFrontier @LaGuardiaAir Sorry to hear this! So you don't have a booking with us, correct?   \n",
       "25696                                                     @FateWillTell @AmericanAir @Delta @FlyFrontier @LaGuardiaAir Trying to get to Miami from LGA?   \n",
       "25765         @FateWillTell @AmericanAir @Delta @FlyFrontier @LaGuardiaAir Have you checked our website? That's your best bet for a last minute flight.   \n",
       "20234                                                                                 @seo_hanna We can be reached via email at DearJetBlue@JetBlue.com   \n",
       "7240             Thanks #NYC! And @Matt_Morrison and @febreze_fresh and #12Stinks and @VirginAmerica for getting me to and fro. https://t.co/Iw2c6DIWw9   \n",
       "50433                                 @matthewnorwood But lets be serious here, he's thinking \"Hey @SouthwestAir. Matthew is on my BNA-DAL flight.\" ^AC   \n",
       "19270                                                                   @shawnrstewart Great takeaway, Shawn! How'd you enjoy Ginger? #SouthwestAir ^DH   \n",
       "\n",
       "           prob                      created_at  \n",
       "80284  0.999871  Sun Nov 29 02:58:52 +0000 2015  \n",
       "26101  0.993440  Thu Dec 03 23:39:13 +0000 2015  \n",
       "30012  0.998328  Fri Dec 04 08:55:41 +0000 2015  \n",
       "29971  0.960900  Fri Dec 04 08:46:26 +0000 2015  \n",
       "27211  0.997183  Fri Dec 04 01:39:24 +0000 2015  \n",
       "84167  0.998998  Sun Nov 29 16:43:22 +0000 2015  \n",
       "68221  0.993639  Tue Dec 08 23:19:05 +0000 2015  \n",
       "68158  0.387029  Tue Dec 08 23:11:16 +0000 2015  \n",
       "66893  0.986362  Tue Dec 08 21:30:07 +0000 2015  \n",
       "65810  0.994583  Tue Dec 08 20:15:55 +0000 2015  \n",
       "52058  0.778899  Mon Dec 07 00:55:30 +0000 2015  \n",
       "34089  0.711730  Fri Dec 04 20:10:24 +0000 2015  \n",
       "25828  0.904682  Thu Dec 03 22:15:29 +0000 2015  \n",
       "25725  0.975038  Thu Dec 03 22:04:21 +0000 2015  \n",
       "25696  0.688497  Thu Dec 03 22:01:29 +0000 2015  \n",
       "25765  0.997828  Thu Dec 03 22:08:08 +0000 2015  \n",
       "20234  0.974323  Thu Dec 03 01:45:44 +0000 2015  \n",
       "7240   0.683220  Tue Dec 01 17:55:20 +0000 2015  \n",
       "50433  0.970249  Sun Dec 06 15:08:14 +0000 2015  \n",
       "19270  0.916005  Wed Dec 02 20:56:04 +0000 2015  "
      ]
     },
     "execution_count": 31,
     "metadata": {},
     "output_type": "execute_result"
    }
   ],
   "source": [
    "pd.set_option('max_colwidth', 200)\n",
    "\n",
    "df.sort_values(by=['followers_count'], ascending=[False])[['followers_count','text', 'prob', 'created_at']].head(20)"
   ]
  },
  {
   "cell_type": "markdown",
   "metadata": {},
   "source": [
    "Pulling groupby airline output"
   ]
  },
  {
   "cell_type": "code",
   "execution_count": 32,
   "metadata": {
    "collapsed": false
   },
   "outputs": [
    {
     "data": {
      "text/html": [
       "<div>\n",
       "<table border=\"1\" class=\"dataframe\">\n",
       "  <thead>\n",
       "    <tr style=\"text-align: right;\">\n",
       "      <th></th>\n",
       "      <th>alaskaair</th>\n",
       "      <th>AmericanAir</th>\n",
       "      <th>delta</th>\n",
       "      <th>flyfrontier</th>\n",
       "      <th>hawaiianair</th>\n",
       "      <th>jetblue</th>\n",
       "      <th>southwest</th>\n",
       "      <th>spiritairlines</th>\n",
       "      <th>united</th>\n",
       "      <th>virginamerica</th>\n",
       "    </tr>\n",
       "  </thead>\n",
       "  <tbody>\n",
       "    <tr>\n",
       "      <th>0</th>\n",
       "      <td>0.993208</td>\n",
       "      <td>0.873072</td>\n",
       "      <td>0.987388</td>\n",
       "      <td>0.997226</td>\n",
       "      <td>0.931447</td>\n",
       "      <td>0.952768</td>\n",
       "      <td>0.996007</td>\n",
       "      <td>0.959401</td>\n",
       "      <td>0.886928</td>\n",
       "      <td>0.797083</td>\n",
       "    </tr>\n",
       "    <tr>\n",
       "      <th>1</th>\n",
       "      <td>0.965431</td>\n",
       "      <td>0.955934</td>\n",
       "      <td>0.830840</td>\n",
       "      <td>0.998100</td>\n",
       "      <td>0.805865</td>\n",
       "      <td>0.959188</td>\n",
       "      <td>0.591763</td>\n",
       "      <td>0.753549</td>\n",
       "      <td>0.999895</td>\n",
       "      <td>0.797083</td>\n",
       "    </tr>\n",
       "    <tr>\n",
       "      <th>2</th>\n",
       "      <td>0.712421</td>\n",
       "      <td>0.926986</td>\n",
       "      <td>0.729272</td>\n",
       "      <td>0.976348</td>\n",
       "      <td>0.374371</td>\n",
       "      <td>0.801286</td>\n",
       "      <td>0.966923</td>\n",
       "      <td>0.989527</td>\n",
       "      <td>0.998912</td>\n",
       "      <td>0.921270</td>\n",
       "    </tr>\n",
       "    <tr>\n",
       "      <th>3</th>\n",
       "      <td>0.758827</td>\n",
       "      <td>0.878757</td>\n",
       "      <td>0.986554</td>\n",
       "      <td>0.967824</td>\n",
       "      <td>0.712421</td>\n",
       "      <td>0.958959</td>\n",
       "      <td>0.957541</td>\n",
       "      <td>0.874128</td>\n",
       "      <td>0.992084</td>\n",
       "      <td>0.597163</td>\n",
       "    </tr>\n",
       "    <tr>\n",
       "      <th>4</th>\n",
       "      <td>0.996239</td>\n",
       "      <td>0.953406</td>\n",
       "      <td>0.986554</td>\n",
       "      <td>0.954536</td>\n",
       "      <td>0.798882</td>\n",
       "      <td>0.984909</td>\n",
       "      <td>0.872952</td>\n",
       "      <td>0.962676</td>\n",
       "      <td>0.999378</td>\n",
       "      <td>0.597163</td>\n",
       "    </tr>\n",
       "  </tbody>\n",
       "</table>\n",
       "</div>"
      ],
      "text/plain": [
       "   alaskaair  AmericanAir     delta  flyfrontier  hawaiianair   jetblue  \\\n",
       "0   0.993208     0.873072  0.987388     0.997226     0.931447  0.952768   \n",
       "1   0.965431     0.955934  0.830840     0.998100     0.805865  0.959188   \n",
       "2   0.712421     0.926986  0.729272     0.976348     0.374371  0.801286   \n",
       "3   0.758827     0.878757  0.986554     0.967824     0.712421  0.958959   \n",
       "4   0.996239     0.953406  0.986554     0.954536     0.798882  0.984909   \n",
       "\n",
       "   southwest  spiritairlines    united  virginamerica  \n",
       "0   0.996007        0.959401  0.886928       0.797083  \n",
       "1   0.591763        0.753549  0.999895       0.797083  \n",
       "2   0.966923        0.989527  0.998912       0.921270  \n",
       "3   0.957541        0.874128  0.992084       0.597163  \n",
       "4   0.872952        0.962676  0.999378       0.597163  "
      ]
     },
     "execution_count": 32,
     "metadata": {},
     "output_type": "execute_result"
    }
   ],
   "source": [
    "dfgroupby = pd.read_csv(\"outputgroupby.csv\")\n",
    "dfgroupby.head()"
   ]
  },
  {
   "cell_type": "markdown",
   "metadata": {},
   "source": [
    "Quantile plot"
   ]
  },
  {
   "cell_type": "code",
   "execution_count": 33,
   "metadata": {
    "collapsed": false
   },
   "outputs": [
    {
     "data": {
      "text/html": [
       "<iframe id=\"igraph\" scrolling=\"no\" style=\"border:none;\"seamless=\"seamless\" src=\"https://plot.ly/~ayinmv/78.embed\" height=\"525\" width=\"100%\"></iframe>"
      ],
      "text/plain": [
       "<plotly.tools.PlotlyDisplay object>"
      ]
     },
     "execution_count": 33,
     "metadata": {},
     "output_type": "execute_result"
    }
   ],
   "source": [
    "dfgroupby.iplot(kind='box', title='Score Quantiles')\n",
    "\n",
    "tls.embed('https://plot.ly/~ayinmv/78')"
   ]
  },
  {
   "cell_type": "markdown",
   "metadata": {},
   "source": [
    "We can aggregate all the happy & sad probabilities for individual tweets about each airline into an average probability that users are happy or sad about that airline:"
   ]
  },
  {
   "cell_type": "code",
   "execution_count": 34,
   "metadata": {
    "collapsed": false
   },
   "outputs": [
    {
     "name": "stdout",
     "output_type": "stream",
     "text": [
      "Happy probabilities: [('alaskaair', 0.84730711830993755), (None, 0.8068260437527468), ('hawaiianair', 0.85420674663501239), ('united', 0.7957213123058936), ('spiritairlines', 0.81506629154611132)]\n",
      "Sad probabilities: [('alaskaair', 0.15269288169006007), (None, 0.19317395624725334), ('hawaiianair', 0.14579325336498758), ('united', 0.20427868769411134), ('spiritairlines', 0.18493370845388871)]\n"
     ]
    }
   ],
   "source": [
    "airline_happy_probs = happy_probs.map(lambda ((idx, air), probs): (air, probs)).reduceByKey(lambda (p1,num1),(p2,num2): ((num1*p1 + num2*p2)/(num1 + num2), num1 + num2)).mapValues(lambda (p, n): p) \n",
    "airline_sad_probs = sad_probs.map(lambda ((idx, air), probs): (air, probs)).reduceByKey(lambda (p1,num1),(p2,num2): ((num1*p1 + num2*p2)/(num1 + num2), num1 + num2)).mapValues(lambda (p, n): p) \n",
    "print \"Happy probabilities:\", airline_happy_probs.take(5)\n",
    "print \"Sad probabilities:\", airline_sad_probs.take(5)"
   ]
  },
  {
   "cell_type": "markdown",
   "metadata": {},
   "source": [
    "### LDA on nouns for topic analysis"
   ]
  },
  {
   "cell_type": "markdown",
   "metadata": {},
   "source": [
    "We separate out the nouns from each tweet to feed into our LDA model, and create a gensim dictionary of all the nouns."
   ]
  },
  {
   "cell_type": "code",
   "execution_count": 35,
   "metadata": {
    "collapsed": true
   },
   "outputs": [],
   "source": [
    "from operator import add"
   ]
  },
  {
   "cell_type": "code",
   "execution_count": 36,
   "metadata": {
    "collapsed": false
   },
   "outputs": [
    {
     "name": "stdout",
     "output_type": "stream",
     "text": [
      "[((0, 'united'), []), ((1, 'spiritairlines'), [[u'fact', u'life']]), ((2, 'united'), []), ((3, 'united'), []), ((4, 'delta'), [[u'flight', u'pleasure']])]\n"
     ]
    }
   ],
   "source": [
    "# parse nouns out of tweets\n",
    "tweets_n_a = tweets_text.mapValues(get_parts)\n",
    "tweets_nouns = tweets_n_a.mapValues(lambda (n, adj): n)\n",
    "print tweets_nouns.take(5)\n",
    "all_nouns = tweets_nouns.flatMapValues(lambda l: l).values().toLocalIterator()\n",
    "\n",
    "# feed nouns into gensim\n",
    "dictionary = corpora.Dictionary(all_nouns)\n",
    "dictionary.filter_extremes()\n",
    "dictionary.compactify()"
   ]
  },
  {
   "cell_type": "markdown",
   "metadata": {},
   "source": [
    "We then vectorize the nouns in each tweet (the first map is just to get our input in the form that gensim's doc2bow function wants, while the filter removes tweets that didn't contain any identifiable nouns)."
   ]
  },
  {
   "cell_type": "code",
   "execution_count": 37,
   "metadata": {
    "collapsed": false
   },
   "outputs": [],
   "source": [
    "doc_vecs = tweets_nouns.mapValues(lambda n: reduce(add, n, [])).filter(lambda (k, v): v).mapValues(dictionary.doc2bow)\n",
    "corpus = doc_vecs.values().collect()"
   ]
  },
  {
   "cell_type": "code",
   "execution_count": 38,
   "metadata": {
    "collapsed": true
   },
   "outputs": [],
   "source": [
    "NUM_TOPICS = 100"
   ]
  },
  {
   "cell_type": "markdown",
   "metadata": {},
   "source": [
    "We use Latent Dirichlet Allocation (LDA) from gensim to find latent topics within our tweets."
   ]
  },
  {
   "cell_type": "code",
   "execution_count": 39,
   "metadata": {
    "collapsed": true
   },
   "outputs": [],
   "source": [
    "from gensim.models.ldamodel import LdaModel"
   ]
  },
  {
   "cell_type": "code",
   "execution_count": 40,
   "metadata": {
    "collapsed": false
   },
   "outputs": [],
   "source": [
    "lda = LdaModel(corpus=corpus, num_topics=NUM_TOPICS, id2word=dictionary, passes=5)"
   ]
  },
  {
   "cell_type": "markdown",
   "metadata": {},
   "source": [
    "Printing the top topics, we can see the top terms associated with each topic and the \"coherence score\" of the topic, a measure of how closely related the terms in each topic are. \n",
    "\n",
    "The coherence score is calculated as:\n",
    "$$C(t; V^{(t)}) = \\sum_{m=2}^{M} \\sum_{l=1}^{m-1} log \\frac {D\\left(v^{(t)}_m, v^{(t)}_l\\right) + 1} {D\\left(v^{(t)}_l\\right)}$$\n",
    "where $V^{(t)} = \\left(v^{(t)}_1, ..., v^{(t)}_M\\right)$ is a list of the $M$ most probable words for topic $t$, $D(v)$ is the document frequency of the word v, and $D(v, v')$ is the _co-document frequency_ of the words $v$ and $v'$, i.e., the number of documents in which both words appear (see [the original paper](http://people.cs.umass.edu/~wallach/publications/mimno11optimizing.pdf) for more details).\n",
    "\n",
    "The coherence score thus measures roughly how likely it is that the words associated with a given topic are actually conceptually related to each other. The absolute score isn't terribly useful on its own, since the range of this function depends on the size of the corpus, length of documents, etc., but it's a useful way of ranking topics relative to each other on how likely they are to be informative. We thus take the top topics by coherence score to perform further analysis on."
   ]
  },
  {
   "cell_type": "code",
   "execution_count": 41,
   "metadata": {
    "collapsed": false
   },
   "outputs": [
    {
     "name": "stdout",
     "output_type": "stream",
     "text": [
      "Topic 0 :\n",
      "    score: -863.111591095\n",
      "    terms: [(0.29778695721295056, u'deal'), (0.15886845547031164, u'yr'), (0.063497473853442801, u'dude'), (0.057161030056128839, u'standard'), (0.055802543212366336, u'honeymoon'), (0.050940919331319168, u'mountain'), (0.03959793393578908, u'sabokitty'), (0.034539818956493031, u'renoairport'), (0.033698379865137559, u'legend'), (0.03104540969834817, u'utd')]\n",
      "Topic 1 :\n",
      "    score: -877.204458065\n",
      "    terms: [(0.24194480534440529, u'heritage'), (0.15679282356413729, u'support'), (0.068298764919991733, u'volunteer'), (0.066129530528565711, u'mess'), (0.041517113720019511, u'sex'), (0.039513020817545201, u'roll'), (0.029675488305593366, u'gov'), (0.029675488305593366, u'comfortwoman'), (0.029675488305593366, u'broker'), (0.028619575794805365, u'cyber')]\n",
      "Topic 2 :\n",
      "    score: -895.099914127\n",
      "    terms: [(0.95564702474725838, u'flight'), (0.0073577824738268426, u'thanksgiving'), (0.0038022276437960374, u'jacket'), (0.0034975454783457332, u'netflix'), (0.0022473036902606086, u'circle'), (0.0021720858360783236, u'passport'), (0.0020413908059665866, u'cent'), (0.0019517054605722014, u'anxiety'), (0.0018281998467390597, u'sprint'), (0.0018000645438156174, u'wallet')]\n",
      "Topic 3 :\n",
      "    score: -898.247282246\n",
      "    terms: [(0.27644604468619799, u'security'), (0.19019893591966835, u'space'), (0.15879378896433613, u'runway'), (0.071504393686493556, u'strategy'), (0.053048086607738312, u'visibility'), (0.043522268407251812, u'rio'), (0.028902291679049265, u'infant'), (0.025048155049517289, u'banana'), (0.024284465576666525, u'rocking'), (0.015872931935389918, u'pricing')]\n",
      "Topic 4 :\n",
      "    score: -903.163902389\n",
      "    terms: [(0.74662726730753037, u'travel'), (0.067032562582866689, u'award'), (0.053598802257577689, u'flier'), (0.017248059663140605, u'visa'), (0.016151563756510348, u'o\\u2026'), (0.01042319456716328, u'fly'), (0.010241685033862349, u'colleague'), (0.0084952155793292811, u'promotion'), (0.0060158565401347624, u'harder'), (0.0055399704927811683, u'dan330')]\n",
      "Topic 5 :\n",
      "    score: -934.369765438\n",
      "    terms: [(0.20240346281745647, u'brandonsblog'), (0.15449029648700185, u'account'), (0.088753215061525198, u'steel'), (0.060175505600973796, u'sunrise'), (0.051908906500620189, u'concern'), (0.048788834165085324, u'travels'), (0.039912346425451731, u'jaybaer'), (0.036188144130997892, u'grandmother'), (0.034512676578898518, u'kit'), (0.027666542112448199, u'mag')]\n",
      "Topic 6 :\n",
      "    score: -941.584027667\n",
      "    terms: [(0.85056445450950502, u'thank'), (0.03065596940826306, u'rate'), (0.013476571142551684, u'stair'), (0.011055498650871074, u'finish'), (0.010840413320373018, u'discount'), (0.01007831830815145, u'hassle'), (0.0099406033093686567, u'lawsuit'), (0.0067958338229536968, u'slave'), (0.0066578347234438878, u'conference'), (0.0060005391303161642, u'soldier')]\n",
      "Topic 7 :\n",
      "    score: -942.762701093\n",
      "    terms: [(0.82000613392035471, u'today'), (0.10888031613641666, u'kid'), (0.025591422878465758, u'bunch'), (0.0085936645964562134, u'lasairport'), (0.0054072814289953574, u'puppy'), (0.0048276800175508366, u'tot'), (0.004802779906174762, u'ye'), (0.0026647009675395397, u'compliment'), (0.0003744784121791764, u'givingtuesday'), (0.00023079539895372233, u'cbscare')]\n",
      "Topic 8 :\n",
      "    score: -943.564357677\n",
      "    terms: [(0.29057940712752311, u'phone'), (0.19994710677190536, u'website'), (0.17623941866564641, u'baby'), (0.068585634346871302, u'result'), (0.067544190939967108, u'cause'), (0.025015554726748376, u'section'), (0.023168199950430849, u'ewr'), (0.015544890785827397, u'patience'), (0.015296988263216094, u'version'), (0.012538065589402453, u'inside')]\n",
      "Topic 9 :\n",
      "    score: -943.935269936\n",
      "    terms: [(0.45660542651973945, u'wifi'), (0.071259842042976501, u'communication'), (0.061666942257829732, u'talk'), (0.055014697299279804, u'chanyouseeme'), (0.052866801370160657, u'law'), (0.038665772225348713, u'progress'), (0.033512444057462606, u'mood'), (0.03073335057345724, u'shower'), (0.026152610067614136, u'robot'), (0.01933547157228549, u'sky_talk')]\n",
      "Topic 10 :\n",
      "    score: -952.098360688\n",
      "    terms: [(0.54198563399404609, u'trip'), (0.083459336505737836, u'nonstop'), (0.055058443497000779, u'fight'), (0.052341023195642086, u'make'), (0.049696311953340865, u'round'), (0.021757855107805091, u'chart'), (0.018027523922672692, u'magic'), (0.017154394893629847, u'autumn'), (0.016430105893507411, u'shrimp'), (0.01348868195773947, u'nephew')]\n",
      "Topic 11 :\n",
      "    score: -956.657054379\n",
      "    terms: [(0.22532974214278731, u'city'), (0.15718607769857479, u'coffee'), (0.088046437691176649, u'tag'), (0.076777031722865721, u'suitcase'), (0.064312043298153571, u'station'), (0.060705061067457641, u'congrats'), (0.040298161155159197, u'act'), (0.03223440647318062, u'satisfaction'), (0.030933863355804662, u'skyline'), (0.028640220813140636, u'acquisition')]\n",
      "Topic 12 :\n",
      "    score: -960.123565138\n",
      "    terms: [(0.3222277096571261, u'list'), (0.11225526219188706, u'check-in'), (0.081319856297959361, u'error'), (0.078971772951261426, u'watch'), (0.05527625629365928, u'badservice'), (0.051244523934850052, u'aisle'), (0.036699108402482167, u'slogan'), (0.035168206753866213, u'selection'), (0.031349907144201876, u'suggestion'), (0.028080500078652551, u'tweeting')]\n",
      "Topic 13 :\n",
      "    score: -968.132350474\n",
      "    terms: [(0.33941997861557427, u'ground'), (0.09572650225583125, u'screen'), (0.070571238656559662, u'term'), (0.041937760317916226, u'car\\u2026'), (0.038751611190545376, u'working'), (0.033307302341989475, u'decline'), (0.028314636198193903, u'congratulation'), (0.026829740615884612, u'rickett'), (0.026829740615884612, u'seattle'), (0.026829740615884612, u'buddle')]\n",
      "Topic 14 :\n",
      "    score: -969.839509612\n",
      "    terms: [(0.42870912968580249, u'board'), (0.19801796503039326, u'problem'), (0.096296032696535097, u'compensation'), (0.053206387452435507, u'pm'), (0.037955707481667982, u'channel'), (0.020890122659581404, u'environment'), (0.01785655639302812, u'honor'), (0.014116751660400018, u'ebook'), (0.013937803682988492, u'shirt'), (0.013503559824369359, u'somebody')]\n"
     ]
    }
   ],
   "source": [
    "best_topics = lda.top_topics(corpus)[:15]\n",
    "for idx, tpc in enumerate(best_topics):\n",
    "    print \"Topic\", idx, \":\"\n",
    "    print \"    score:\", tpc[1]\n",
    "    print \"    terms:\", tpc[0][:10]"
   ]
  },
  {
   "cell_type": "markdown",
   "metadata": {},
   "source": [
    "Even after sorting by coherence score, many of these topics do not obviously correspond to a particular human-identifiable concept. However, we do have Topic 8, which includes \"bag\", \"suitcase\", and \"carousel\" among its highest-probability terms, and Topic 7, which includes \"cancellation\" and \"weather\" [ADJUST FOR TOPICS ON FULL DATASET]. These give some indication of possible topics we might be interested in."
   ]
  },
  {
   "cell_type": "markdown",
   "metadata": {},
   "source": [
    "These ranks for the topics based on coherence score aren't the internal topic ids that gensim uses, though, so we have to find these internal ids for each of the topics in question."
   ]
  },
  {
   "cell_type": "code",
   "execution_count": 42,
   "metadata": {
    "collapsed": true
   },
   "outputs": [],
   "source": [
    "all_topics = lda.show_topics(NUM_TOPICS, formatted=False)"
   ]
  },
  {
   "cell_type": "code",
   "execution_count": 43,
   "metadata": {
    "collapsed": false
   },
   "outputs": [],
   "source": [
    "def get_topic_id(topic, all_topics):\n",
    "    \"\"\"\n",
    "    Matches the topics returned by top_topics to their ids in the LDA model\n",
    "    by checking for term overlap.\n",
    "    \"\"\"\n",
    "    for tpc in all_topics:\n",
    "        if len(set([t[0] for t in tpc[1]]) & set([t[1] for t in topic[0]])) == 10:\n",
    "            return tpc[0]"
   ]
  },
  {
   "cell_type": "code",
   "execution_count": 44,
   "metadata": {
    "collapsed": false
   },
   "outputs": [
    {
     "data": {
      "text/plain": [
       "[91, 74, 88, 5, 17, 79, 71, 48, 19, 28, 23, 10, 45, 80, 7]"
      ]
     },
     "execution_count": 44,
     "metadata": {},
     "output_type": "execute_result"
    }
   ],
   "source": [
    "best_topics_ids = [get_topic_id(topic, all_topics) for topic in best_topics]\n",
    "best_topics_ids"
   ]
  },
  {
   "cell_type": "markdown",
   "metadata": {},
   "source": [
    "Now that we have a bunch of topics and we've assigned each tweet a probability of being \"happy\" or \"sad\" (i.e., expressing positive or negative sentiment), we can calculate what topics are most associated with positive or negative tweets.\n",
    "\n",
    "We start by determining how likely each tweet is to be associated with each of our best topics."
   ]
  },
  {
   "cell_type": "code",
   "execution_count": 45,
   "metadata": {
    "collapsed": true
   },
   "outputs": [],
   "source": [
    "def get_best_topics(bow):\n",
    "    my_topics = lda.get_document_topics(bow)\n",
    "    my_best_topics = [tpc for tpc in my_topics if tpc[0] in best_topics_ids]\n",
    "    return my_best_topics"
   ]
  },
  {
   "cell_type": "markdown",
   "metadata": {},
   "source": [
    "We only keep tweets that have a non-negligible likelihood of belonging to one of our top topics (using the filter statement below)."
   ]
  },
  {
   "cell_type": "code",
   "execution_count": 46,
   "metadata": {
    "collapsed": false
   },
   "outputs": [
    {
     "data": {
      "text/plain": [
       "[((4, 'delta'), [(88, 0.33666666666666656)]),\n",
       " ((7, 'delta'), [(23, 0.25250000000000095)]),\n",
       " ((11, 'AmericanAir'), [(88, 0.33666666666666689)]),\n",
       " ((20, 'united'), [(71, 0.50499999999999989)]),\n",
       " ((21, 'delta'), [(48, 0.33666666666666689), (88, 0.33666666666644329)])]"
      ]
     },
     "execution_count": 46,
     "metadata": {},
     "output_type": "execute_result"
    }
   ],
   "source": [
    "tweets_topics = doc_vecs.mapValues(get_best_topics).filter(lambda (k,v): v)\n",
    "tweets_topics.take(5)"
   ]
  },
  {
   "cell_type": "markdown",
   "metadata": {},
   "source": [
    "We can pull out the correlation scores of each tweet to each topic and then plot a histogram for each topic showing its distribution of correlation scores."
   ]
  },
  {
   "cell_type": "code",
   "execution_count": 47,
   "metadata": {
    "collapsed": false
   },
   "outputs": [],
   "source": [
    "# Get a list of all the tweets' correlation scores to each of our topics\n",
    "scores_per_topic = tweets_topics.values().flatMap(lambda v: v).mapValues(lambda v: [v]).reduceByKey(add)\n",
    "# Store it as a dict, keyed by the topic ID\n",
    "hist_input = scores_per_topic.collectAsMap()"
   ]
  },
  {
   "cell_type": "code",
   "execution_count": 48,
   "metadata": {
    "collapsed": false
   },
   "outputs": [
    {
     "data": {
      "image/png": "[encoded data removed]",
      "text/plain": [
       "<matplotlib.figure.Figure at 0x19d61a950>"
      ]
     },
     "metadata": {},
     "output_type": "display_data"
    }
   ],
   "source": [
    "fig, axes = plt.subplots(5,3, sharex=True)\n",
    "fig.set_size_inches(16, 12)\n",
    "for idx, ax in enumerate(axes.ravel()):\n",
    "    ax.hist(hist_input[best_topics_ids[idx]], 20, range=[0,1])\n",
    "    ax.set_title('Topic {} (id {}): {} total tweets'.format(idx, best_topics_ids[idx], len(hist_input[best_topics_ids[idx]])))"
   ]
  },
  {
   "cell_type": "markdown",
   "metadata": {},
   "source": [
    "For most topics, there are many tweets that are a little bit related to the topic, and fewer that the model says are very closely related to the topic. There also appears to be a disproportionate concentration of correlation scores in the 0.5 bin, particularly compared to the bins immediately surrounding it. This is likely due to a mathematical quirk of LDA, which is particularly visible because tweets are very short documents.\n",
    "\n",
    "In general, the LDA topic model is not hugely confident in its assignment of individual tweets to topics. This is not surprising, because an individual tweet contains very few words (and even fewer nouns recognizable by the part-of-speech tagger, particularly given that tweets do not always follow standard grammatical structure), so there is not very much basis on which to assign a tweet to one topic or another. One way to improve this would be to use a part-of-speech tagger trained on a Twitter corpus, so that more information could be extracted from each tweet. However, 140 characters is never going to contain a huge number of words for the LDA model to base its topic assignment on, so automatic topic assignments of tweets are inherently going to be less certain than automatic topic assignments of longer documents."
   ]
  },
  {
   "cell_type": "markdown",
   "metadata": {
    "collapsed": true
   },
   "source": [
    "Next, we combine our topic RDD with our sentiment RDD to convert the topics and sentiment scores associated with each tweet into sentiment scores associated with each topic, and with each topic-airline combination. We will weight a tweet's contribution to each topic's sentiment score by its correlation score to that topic."
   ]
  },
  {
   "cell_type": "code",
   "execution_count": 49,
   "metadata": {
    "collapsed": false
   },
   "outputs": [
    {
     "data": {
      "text/plain": [
       "[((77854, 'virginamerica'),\n",
       "  ([(80, 0.20200000000000021)], (0.93448827832145132, 0.065511721678548684))),\n",
       " ((43903, 'united'),\n",
       "  ([(79, 0.50250000000000039)], (0.95717728750125242, 0.042822712498747584))),\n",
       " ((6729, 'AmericanAir'),\n",
       "  ([(71, 0.25250000000000078)], (0.73027140441318139, 0.26972859558681861))),\n",
       " ((61427, 'delta'),\n",
       "  ([(88, 0.25250000000000017)], (0.99993794826303162, 6.205173696838262e-05))),\n",
       " ((77739, 'flyfrontier'),\n",
       "  ([(17, 0.12625000000000022), (91, 0.12625000000000025)],\n",
       "   (0.99748970111432333, 0.002510298885676665)))]"
      ]
     },
     "execution_count": 49,
     "metadata": {},
     "output_type": "execute_result"
    }
   ],
   "source": [
    "# Join topics and sentiment probabilities by key\n",
    "combined = tweets_topics.join(tweets_probs)\n",
    "combined.take(5)"
   ]
  },
  {
   "cell_type": "code",
   "execution_count": 50,
   "metadata": {
    "collapsed": true
   },
   "outputs": [],
   "source": [
    "def regroup_by_topic(topics_probs, happy_prob, sad_prob):\n",
    "    topic_sentiments = []\n",
    "    for topic, prob in topics_probs:\n",
    "        topic_sentiments.append((topic, (prob, happy_prob, sad_prob)))\n",
    "    return topic_sentiments"
   ]
  },
  {
   "cell_type": "code",
   "execution_count": 51,
   "metadata": {
    "collapsed": false
   },
   "outputs": [
    {
     "data": {
      "text/plain": [
       "[((77854, 'virginamerica'),\n",
       "  (80, (0.20200000000000021, 0.93448827832145132, 0.065511721678548684))),\n",
       " ((43903, 'united'),\n",
       "  (79, (0.50250000000000039, 0.95717728750125242, 0.042822712498747584))),\n",
       " ((6729, 'AmericanAir'),\n",
       "  (71, (0.25250000000000078, 0.73027140441318139, 0.26972859558681861))),\n",
       " ((61427, 'delta'),\n",
       "  (88, (0.25250000000000017, 0.99993794826303162, 6.205173696838262e-05))),\n",
       " ((77739, 'flyfrontier'),\n",
       "  (17, (0.12625000000000022, 0.99748970111432333, 0.002510298885676665)))]"
      ]
     },
     "execution_count": 51,
     "metadata": {},
     "output_type": "execute_result"
    }
   ],
   "source": [
    "regrouped = combined.mapValues(lambda (tps, (hp, sp)): regroup_by_topic(tps, hp, sp)).flatMapValues(lambda v: v)\n",
    "regrouped.take(5)"
   ]
  },
  {
   "cell_type": "markdown",
   "metadata": {},
   "source": [
    "Now we combine the probabilities per topic to find out what airline-related topics people on Twitter are most positive or negative about."
   ]
  },
  {
   "cell_type": "code",
   "execution_count": 52,
   "metadata": {
    "collapsed": true
   },
   "outputs": [],
   "source": [
    "weighted_avg_probs = lambda (p1, hp1, sp1), (p2, hp2, sp2): (p1 + p2, (p1*hp1 + p2*hp2)/(p1 + p2), (p1*sp1 + p2*sp2)/(p1 + p2))\n",
    "happy_sad_probs = lambda (p, hp, sp): (hp, sp)"
   ]
  },
  {
   "cell_type": "code",
   "execution_count": 53,
   "metadata": {
    "collapsed": false
   },
   "outputs": [
    {
     "name": "stdout",
     "output_type": "stream",
     "text": [
      "[(48, (0.94548593549059035, 0.054514064509409405)), (80, (0.91013339873538535, 0.089866601264614543)), (17, (0.88125174032347398, 0.11874825967652611)), (19, (0.93973240440321115, 0.060267595596788778)), (5, (0.90940574698835386, 0.090594253011645989))]\n"
     ]
    }
   ],
   "source": [
    "topics_sentiments = regrouped.values().reduceByKey(weighted_avg_probs).mapValues(happy_sad_probs)\n",
    "print topics_sentiments.take(5)\n",
    "topic_sent_dict = topics_sentiments.collectAsMap()"
   ]
  },
  {
   "cell_type": "code",
   "execution_count": 54,
   "metadata": {
    "collapsed": false
   },
   "outputs": [
    {
     "data": {
      "image/png": "[encoded data removed]",
      "text/plain": [
       "<matplotlib.figure.Figure at 0x19f3fb810>"
      ]
     },
     "metadata": {},
     "output_type": "display_data"
    }
   ],
   "source": [
    "index = np.arange(len(best_topics_ids))\n",
    "happy_probs_by_topic = np.array([topic_sent_dict[idx][0] for idx in best_topics_ids])\n",
    "order = np.argsort(happy_probs_by_topic)[::-1]\n",
    "width = 0.5\n",
    "fig, ax = plt.subplots(figsize=(16,8))\n",
    "plt.bar(index, happy_probs_by_topic[order], width, alpha=1, color='violet')\n",
    "# Setting axis labels and ticks\n",
    "ax.set_xlim((-width, len(best_topics_ids)))\n",
    "ax.set_ylabel('Happy Probability', fontsize=15)\n",
    "ax.set_xlabel('Topic ID', fontsize=15)\n",
    "ax.set_title('Twitter Happiness by Topic', fontsize=15, fontweight='bold')\n",
    "ax.set_xticks([i + 0.5 * width for i in index])\n",
    "ax.set_xticklabels(np.array(best_topics_ids)[order])\n",
    "plt.grid()\n",
    "plt.show()"
   ]
  },
  {
   "cell_type": "markdown",
   "metadata": {},
   "source": [
    "The airline-related topic that Twitter users are most positive about overall is the topic with ID 65, which is characterized by the terms \"night\", \"help\", \"onboard\", \"receipt\", \"steward\", and \"speech\". These tweets likely deal with experiences on the plane and interactions with flight attendants and other airline personnel.\n",
    "\n",
    "The airline-related topic that Twitter users are _least_ positive about overall is the topic with ID 71, which is characterized by the terms \"basket\", \"note\", \"bonus\", \"quality\", and \"concierge\". Although this topic has a lower coherence score and thus does not correspond as clearly to a human-understandable concept, tweets about accommodations while traveling might be found in this topic.\n",
    "\n",
    "We're less interested in what people think of different aspects of airlines overall than in how individual airlines score in each of these categories, though. Let's re-group our data by airline and topic and see how each airline stacks up on each topic."
   ]
  },
  {
   "cell_type": "code",
   "execution_count": 55,
   "metadata": {
    "collapsed": false
   },
   "outputs": [
    {
     "name": "stdout",
     "output_type": "stream",
     "text": [
      "[(('united', 7), (0.9056254980141637, 0.094374501985836107)), (('spiritairlines', 10), (0.99220414952024172, 0.0077958504797583043)), (('spiritairlines', 74), (0.77847813972636815, 0.22152186027363194)), (('delta', 91), (0.8953881213299999, 0.10461187866999992)), (('united', 23), (0.91374004754232929, 0.086259952457670458))]\n"
     ]
    }
   ],
   "source": [
    "airline_topics_sentiments = regrouped.map(lambda ((idx, air), (tpc, probs)): ((air, tpc), probs)).reduceByKey(weighted_avg_probs).mapValues(happy_sad_probs)\n",
    "print airline_topics_sentiments.take(5)\n",
    "air_tpc_sent_dict = airline_topics_sentiments.collectAsMap()"
   ]
  },
  {
   "cell_type": "code",
   "execution_count": 61,
   "metadata": {
    "collapsed": false
   },
   "outputs": [
    {
     "data": {
      "image/png": "[encoded data removed]",
      "text/plain": [
       "<matplotlib.figure.Figure at 0x1a23907d0>"
      ]
     },
     "metadata": {},
     "output_type": "display_data"
    }
   ],
   "source": [
    "index = np.arange(len(airlines))\n",
    "colors = ['#975A7A', '#78C0E0', '#FFB3AA', '#4F86C6', '#17A398', '#EE8434', '#FFD5FF', '#FFBC00', '#009FFD', '#8565A0']\n",
    "fig, axes = plt.subplots(5, 3, figsize=(16,16), sharex=True, sharey=True)\n",
    "for tpc, ax in zip(best_topics_ids, axes.ravel()):\n",
    "    happy_probs_by_airline = [air_tpc_sent_dict.get((air, tpc), [0])[0] for air in airlines]\n",
    "    width = 0.5\n",
    "    barlist = ax.bar(index, happy_probs_by_airline, width, alpha=1)\n",
    "    for bar, color in zip(barlist, colors):\n",
    "        bar.set_color(color)\n",
    "    # Setting axis labels and ticks\n",
    "    ax.set_xlim((-width, len(airlines)))\n",
    "    ax.set_ylabel('Happy Probability')\n",
    "    ax.set_xlabel('Airline')\n",
    "    ax.set_title('Topic ID {}'.format(tpc))\n",
    "    ax.set_xticks([])\n",
    "fig.legend(barlist, airlines, loc=(0.2,0.1), ncol=5)\n",
    "plt.show()"
   ]
  },
  {
   "cell_type": "code",
   "execution_count": null,
   "metadata": {
    "collapsed": true
   },
   "outputs": [],
   "source": []
  }
 ],
 "metadata": {
  "kernelspec": {
   "display_name": "Python 2",
   "language": "python",
   "name": "python2"
  },
  "language_info": {
   "codemirror_mode": {
    "name": "ipython",
    "version": 2
   },
   "file_extension": ".py",
   "mimetype": "text/x-python",
   "name": "python",
   "nbconvert_exporter": "python",
   "pygments_lexer": "ipython2",
   "version": "2.7.10"
  }
 },
 "nbformat": 4,
 "nbformat_minor": 0
}
