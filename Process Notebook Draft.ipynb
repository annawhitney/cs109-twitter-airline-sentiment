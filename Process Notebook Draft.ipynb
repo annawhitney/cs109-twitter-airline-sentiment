{
 "cells": [
  {
   "cell_type": "markdown",
   "metadata": {},
   "source": [
    "# Sentiment Analysis of Twitter Feeds to Find Your Favorite Airline\n",
    "CS109 Final Project:\n",
    "Nicholas Ruta, Ayin Mokrivala, and Anna Whitney"
   ]
  },
  {
   "cell_type": "markdown",
   "metadata": {},
   "source": [
    "Overview and Motivation\n",
    "\n",
    "There are an average of 6,000 tweets produced on Twitter per second. We think Twitter provides a great value to do sentiment analysis on text. Twitter posts are mostly public and can be used for such studies extensively. Also, frequent use of hashtags makes it more interesting to draw conclusions.  \n",
    " \n",
    "Sentiment analysis on airlines intrigues us since the industry is heavily price oriented. Often prices for tickets from different airlines are in similar range, putting emphasis on the quality of travel experience for the customer. But the customer understanding of the airline is commonly based on personal experience or general news. The customer is interested to know which airlines have a better reputation since the ticket prices are alike.\n",
    "\n",
    "We did a sentiment analysis on tweets provided by the Twitter Streaming API in order to find the most preferable airline. We chose a 'top ten' selection of airlines for the analysis. The selection was made based on two factors. The first factor being an excellent article written by Nate Silver and the team at fivethirtyeight.com that describes a recent 'best and worst airlines' analysis they did. The second factor being our initial analysis of the data collection process to verify that a sufficient amount of data is created for each airline. The ten airlines we ended up with were United, Alaska Air, Frontier, Hawaiian Air, Virgin America, Southwest Air, Delta, JetBlue, Spirit Airlines and American Air."
   ]
  },
  {
   "cell_type": "markdown",
   "metadata": {},
   "source": [
    "We created a Python script to collect raw data from the Twitter Streaming API:"
   ]
  },
  {
   "cell_type": "code",
   "execution_count": 1,
   "metadata": {
    "collapsed": true
   },
   "outputs": [],
   "source": [
    "#MUST ADD YOUR TWITTER DEVELOPER CREDENTIALS FIRST\n",
    "#you can rename this cell as get_twitter.py and run from the command line using this command - \n",
    "# python get_twitter.py > twitter_data.txt\n",
    "\n",
    "#Import the necessary methods from the tweepy library\n",
    "from tweepy.streaming import StreamListener\n",
    "from tweepy import OAuthHandler\n",
    "from tweepy import Stream\n",
    "\n",
    "#Set the twitter developer credentials to access the Twitter Streaming API\n",
    "access_token = \"\"\n",
    "access_token_secret = \"\"\n",
    "consumer_key = \"\"\n",
    "consumer_secret = \"\"\n",
    "\n",
    "#This is a basic listener that prints received tweets to stdout.\n",
    "class StdOutListener(StreamListener):\n",
    "\n",
    "    def on_data(self, data):\n",
    "        print data\n",
    "        return True\n",
    "\n",
    "    def on_error(self, status):\n",
    "        print status\n",
    "\n",
    "        \n",
    "#THIS SECTION IS COMMENTED OUT SINCE THE DEVELOPER CREDENTIALS ARE NOT IN PLACE ABOVE\n",
    "# if __name__ == '__main__':\n",
    "\n",
    "    #This handles Twitter authetification and the connection to Twitter Streaming API\n",
    "#     l = StdOutListener()\n",
    "#     auth = OAuthHandler(consumer_key, consumer_secret)\n",
    "#     auth.set_access_token(access_token, access_token_secret)\n",
    "#     stream = Stream(auth, l)\n",
    "\n",
    "    #Use the filter to capture data from the stream by keywords -\n",
    "#     stream.filter(track=['@united', '@AlaskaAir', '@FlyFrontier', '@HawaiianAir', '@VirginAmerica','@SouthwestAir','@Delta','@JetBlue','@SpiritAirlines','@AmericanAir','#united', '#AlaskaAir', '#FlyFrontier', '#HawaiianAir', '#VirginAmerica','#SouthwestAir','#Delta','#Jetblue','#SpiritAirlines','#AmericanAir'], async=True)"
   ]
  },
  {
   "cell_type": "markdown",
   "metadata": {},
   "source": [
    "We combined all of the .txt files of raw data created from the above script into one clean and final .json file:"
   ]
  },
  {
   "cell_type": "code",
   "execution_count": 2,
   "metadata": {
    "collapsed": true
   },
   "outputs": [],
   "source": [
    "# #Uncomment if you want to combine .txt files from the above twitter streaming api process. \n",
    "\n",
    "# #take in the combined/entire dataset of json rows \n",
    "# #remove blank lines and only write the row to the 'cleanfile.json' file if it is valid JSON\n",
    "\n",
    "# import json\n",
    "# import fileinput\n",
    "# import glob\n",
    "\n",
    "# a function to verify that a row in the raw data file is valid JSON. We noticed that the Twitter Streaming API \n",
    "# did occasionally return data in error and had to take this step to clean the dataset\n",
    "# def is_json(myjson):\n",
    "#   try:\n",
    "#     json_object = json.loads(myjson)\n",
    "#   except ValueError, e:\n",
    "#     return False\n",
    "#   return True\n",
    "\n",
    "# the glob library makes it easy to grab all of the text files we placed in a tweets folder\n",
    "# these were the entire collection of raw data we brought in from the Twitter Streaming API over the Nov-Dec 2015 \n",
    "# timeframe. \n",
    "# file_list = glob.glob(\"tweets/*.txt\")\n",
    "# combined_file_name = 'combined_result.json'\n",
    "\n",
    "\n",
    "# with open(combined_file_name, 'w') as file:\n",
    "#     input_lines = fileinput.input(file_list)\n",
    "#     file.writelines(input_lines)\n",
    "    \n",
    "\n",
    "# f = open('clean_final_file.json','w')\n",
    "# for line in open(combined_file_name):\n",
    "#   line = line.rstrip()\n",
    "#   if line != '':\n",
    "#         if is_json(line) is True:      \n",
    "#             f.write(line + \"\\n\") # python will convert \\n to os.linesep\n",
    "# f.close() # you can omit in most cases as the destructor will call it"
   ]
  },
  {
   "cell_type": "markdown",
   "metadata": {},
   "source": [
    "Our project focuses on analyzing the text of over 100,000 tweets about airlines using sentiment analysis and LDA to determine which airline receives the most positive or negative attention on Twitter, and what topics people are happy or sad about with regards to each airline."
   ]
  },
  {
   "cell_type": "markdown",
   "metadata": {},
   "source": [
    "We start by importing the modules we need."
   ]
  },
  {
   "cell_type": "code",
   "execution_count": 3,
   "metadata": {
    "collapsed": true
   },
   "outputs": [],
   "source": [
    "import json\n",
    "import pandas as pd\n",
    "%matplotlib inline\n",
    "import matplotlib.pyplot as plt"
   ]
  },
  {
   "cell_type": "markdown",
   "metadata": {},
   "source": [
    "The Twitter Streaming API returns JSON objects. We took the resulting JSON and used the Python libraries json and pandas to create a list of 'raw_data' to be used in our text processing and visualizations. Our data can be downloaded from [Dropbox](https://www.dropbox.com/s/02gcmy6ftezmt23/tweets_all%40%23_103653.json?dl=0), and the below assumes that the JSON file containing the data is placed in the directory above the directory containing this notebook."
   ]
  },
  {
   "cell_type": "code",
   "execution_count": null,
   "metadata": {
    "collapsed": false
   },
   "outputs": [],
   "source": [
    "#create a file to contain the 'raw data' from the twitter streaming api\n",
    "raw_data_path = '../tweets_all@#_103653.json'\n",
    "\n",
    "#create a list to hold the tweets\n",
    "raw_data = []\n",
    "\n",
    "#create and open the new file\n",
    "tweets_file = open(raw_data_path, \"r\")\n",
    "\n",
    "#append to the tweets list from the raw data file\n",
    "for line in tweets_file:\n",
    "    try:\n",
    "        tweet = json.loads(line)\n",
    "        raw_data.append(tweet)\n",
    "    except:\n",
    "        continue       \n",
    "print \"Number of raw data rows - \", len(raw_data)\n",
    "print \"\\n\"\n",
    "print \"Here is what a JSON row in the raw data from the Twitter Streaming API looks like - \"\n",
    "print \"\\n\"\n",
    "print raw_data[0]"
   ]
  },
  {
   "cell_type": "code",
   "execution_count": null,
   "metadata": {
    "collapsed": true
   },
   "outputs": [],
   "source": [
    "tweets = pd.DataFrame()"
   ]
  },
  {
   "cell_type": "markdown",
   "metadata": {},
   "source": [
    "We took the raw data from the Twitter Streaming API and placed it in a Pandas Dataframe. There are many fields provided by the Twitter API, we used the Python library map function with a lambda to set pandas df columns for each of the fields of potential interest. To maintain a clean df, we set the value to 'None' in places where there is no value returned by the Twitter Streaming API:"
   ]
  },
  {
   "cell_type": "code",
   "execution_count": null,
   "metadata": {
    "collapsed": false
   },
   "outputs": [],
   "source": [
    "#removed u'possibly_sensitive', at the moment since not all rows have it\n",
    "#it goes between place and retweet_count in the below list\n",
    "twitter_fields = [u'contributors', u'coordinates', u'created_at', u'entities', \n",
    "                  u'favorite_count', u'favorited', u'filter_level', u'geo', u'id',\n",
    "                  u'id_str', u'in_reply_to_screen_name', u'in_reply_to_status_id', \n",
    "                  u'in_reply_to_status_id_str', u'in_reply_to_user_id', u'in_reply_to_user_id_str', \n",
    "                  u'lang', u'place',   u'retweet_count', u'retweeted', u'source', \n",
    "                  u'text', u'timestamp_ms', u'truncated', u'user']\n",
    "\n",
    "#set the columns in the dataframe to match the json fields of the twitter streaming api\n",
    "for t in twitter_fields:\n",
    "    tweets[t] = map(lambda tweet: tweet[t] if tweet[t] else 'None', raw_data)\n",
    "tweets['followers_count'] = map(lambda tweet: tweet['user']['followers_count'] if tweet['user'] != None else None, raw_data)\n",
    "tweets['country'] = map(lambda tweet: tweet['place']['country'] if tweet['place'] != None else None, raw_data)"
   ]
  },
  {
   "cell_type": "markdown",
   "metadata": {},
   "source": [
    "We will use many of these fields to do our analysis, draw interesting conclusions and visualize. For example, we are interested to find out how positive the sentiment of tweets from twitter users with the highest follower_counts is. We wondered if the top twitter users are paid to be positive and we wanted to see if the data reflects this possibility: "
   ]
  },
  {
   "cell_type": "code",
   "execution_count": null,
   "metadata": {
    "collapsed": false
   },
   "outputs": [],
   "source": [
    "print \"We can see the how many people are following the user of each tweet in the dataset - \"\n",
    "print tweets['followers_count'].head()\n",
    "\n",
    "print \"\\n\"\n",
    "\n",
    "print \"And it will be important to verify that the majority of the data is in American English since that is what we will be basing our sentiment analysis on -\"\n",
    "print tweets['lang'].head()"
   ]
  },
  {
   "cell_type": "markdown",
   "metadata": {},
   "source": [
    "Now that we have collected the raw data and placed it in a pandas dataframe, let's take a look at some of the tweets text specifically:"
   ]
  },
  {
   "cell_type": "code",
   "execution_count": null,
   "metadata": {
    "collapsed": false
   },
   "outputs": [],
   "source": [
    "#View the first 5 tweets of the dataset\n",
    "pd.set_option('max_colwidth', 200)\n",
    "tweets['text'].head(5)"
   ]
  },
  {
   "cell_type": "markdown",
   "metadata": {},
   "source": [
    "First we install the plotly library for visualization"
   ]
  },
  {
   "cell_type": "code",
   "execution_count": null,
   "metadata": {
    "collapsed": true
   },
   "outputs": [],
   "source": [
    "#Run these two commands in Terminal to initialize plotly online\n",
    "#you may need to make plotly account before doing this\n",
    "#Use this link to setup plotly: https://plot.ly/python/user-guide/\n",
    "\n",
    "#pip install plotly\n",
    "#python -c \"import plotly; plotly.tools.set_credentials_file(username='nruta', api_key='mwv4tll3ev')\"\n",
    "#pip install cufflinks"
   ]
  },
  {
   "cell_type": "code",
   "execution_count": null,
   "metadata": {
    "collapsed": true
   },
   "outputs": [],
   "source": [
    "#run these using your username and key\n",
    "import plotly.tools as tls\n",
    "tls.set_credentials_file(username='nruta', api_key='mwv4tll3ev')\n",
    "\n",
    "import plotly.plotly as py\n",
    "from plotly.graph_objs import *"
   ]
  },
  {
   "cell_type": "code",
   "execution_count": null,
   "metadata": {
    "collapsed": false
   },
   "outputs": [],
   "source": [
    "!pip install plotly\n",
    "from plotly import __version__\n",
    "from plotly.offline import download_plotlyjs, init_notebook_mode, iplot\n",
    "\n",
    "print __version__ # requires version >= 1.9.0\n",
    "#import cufflink package\n",
    "import cufflinks as cf\n",
    "print cf.__version__\n",
    "\n",
    "init_notebook_mode() # run at the start of every ipython notebook to use plotly.offline\n",
    "                     # this injects the plotly.js source files into the notebook\n",
    "    \n",
    "py.sign_in(username='nruta', api_key='mwv4tll3ev')"
   ]
  },
  {
   "cell_type": "markdown",
   "metadata": {},
   "source": [
    "It is important to verify that the majority of the tweets are in American English since the sentiment analysis will depend on it. We are using a word list that weighs certain key nouns/adjectives based on the sentiment associated with them. It assumes American English is passed to it."
   ]
  },
  {
   "cell_type": "markdown",
   "metadata": {},
   "source": [
    "We used a histogram to verify the top language as English: "
   ]
  },
  {
   "cell_type": "code",
   "execution_count": null,
   "metadata": {
    "collapsed": false
   },
   "outputs": [],
   "source": [
    "#histogram of all the languages we are detecting in our tweets\n",
    "tweets_by_lang = tweets['lang'].value_counts()\n",
    "tweets_by_lang.iplot(kind='bar', yTitle='Languages', title='Languages')\n",
    "tls.embed('https://plot.ly/~nruta/7')"
   ]
  },
  {
   "cell_type": "markdown",
   "metadata": {},
   "source": [
    "and another histogram to verify that the tweets are mostly from the USA:"
   ]
  },
  {
   "cell_type": "code",
   "execution_count": null,
   "metadata": {
    "collapsed": false
   },
   "outputs": [],
   "source": [
    "#histogram of all the languages we are detecting in our tweets\n",
    "tweets_by_country = tweets['country'].value_counts()\n",
    "tweets_by_country.iplot(kind='bar', yTitle='Countries', title='Countries')\n",
    "tls.embed('https://plot.ly/~nruta/13')"
   ]
  },
  {
   "cell_type": "markdown",
   "metadata": {},
   "source": [
    "We wanted to see how many tweets were about each of the top ten that we selected for the project. First, we create a function to find a word in the tweet text column of the pandas dataframe we created:"
   ]
  },
  {
   "cell_type": "code",
   "execution_count": null,
   "metadata": {
    "collapsed": true
   },
   "outputs": [],
   "source": [
    "import re\n",
    "#create a function to find the word in the tweet text field\n",
    "def word_in_text(word, text):\n",
    "    word = word.lower()\n",
    "    text = text.lower()\n",
    "    match = re.search(word, text)\n",
    "    if match:\n",
    "        return True\n",
    "    return False"
   ]
  },
  {
   "cell_type": "markdown",
   "metadata": {},
   "source": [
    "and then we used that function, word_in_text, to create new columns for each airline and include the total count for each:"
   ]
  },
  {
   "cell_type": "code",
   "execution_count": null,
   "metadata": {
    "collapsed": true
   },
   "outputs": [],
   "source": [
    "#get the words in the text\n",
    "airlines = ['southwest', 'delta', 'jetblue', 'united', 'flyfrontier', 'hawaiianair', 'virginamerica', 'alaskaair','spiritairlines', 'AmericanAir']\n",
    "\n",
    "#create columns for each airline and set a boolean value to use for the below visualization of tweet count \n",
    "#for each airline\n",
    "for a in airlines:\n",
    "    if (tweets['text'].apply(lambda tweet: word_in_text(a, tweet))).count() > 0:\n",
    "        tweets[a] = tweets['text'].apply(lambda tweet: word_in_text(a, tweet))"
   ]
  },
  {
   "cell_type": "markdown",
   "metadata": {},
   "source": [
    "We can get the total count by adding up all of the rows, for a particular airline column of the dataframe, that have a True value. For example, here is the total count for Southwest Airline:"
   ]
  },
  {
   "cell_type": "code",
   "execution_count": null,
   "metadata": {
    "collapsed": false
   },
   "outputs": [],
   "source": [
    "print len(tweets.loc[tweets['southwest'] == True])"
   ]
  },
  {
   "cell_type": "code",
   "execution_count": null,
   "metadata": {
    "collapsed": false
   },
   "outputs": [],
   "source": [
    "#view the amount of tweets per airline\n",
    "# tweets_by_airlines = [len(tweets.loc[tweets['southwest'] == True]), \n",
    "#  len(tweets.loc[tweets['delta'] == True]), len(tweets.loc[tweets['jetblue'] == True]),\n",
    "#          len(tweets.loc[tweets['united'] == True]), len(tweets.loc[tweets['flyfrontier'] == True]),\n",
    "#                      len(tweets.loc[tweets['hawaiianair'] == True]),len(tweets.loc[tweets['virginamerica'] == True]),\n",
    "#                      len(tweets.loc[tweets['alaskaair'] == True]),len(tweets.loc[tweets['spiritairlines'] == True]),\n",
    "#                      len(tweets.loc[tweets['AmericanAir'] == True])]\n",
    "\n",
    "# airlines = ['southwest', 'delta', 'jetblue', 'united', 'flyfrontier', 'hawaiianair', 'virginamerica', 'alaskaair','spiritairlines', 'AmericanAir']\n",
    "\n",
    "# x_pos = list(range(len(airlines)))\n",
    "# width = 0.3\n",
    "# fig, ax = plt.subplots(figsize=(16,8))\n",
    "# plt.bar(x_pos, tweets_by_airlines, width, alpha=1, color='g')\n",
    "# # Setting axis labels and ticks\n",
    "# ax.set_ylabel('Number of tweets', fontsize=15)\n",
    "# ax.set_title('Ranking: Airlines (Raw data)', fontsize=10, fontweight='bold')\n",
    "# ax.set_xticks([p + 0.9 * width for p in x_pos])\n",
    "# ax.set_xticklabels(airlines)\n",
    "# plt.grid()"
   ]
  },
  {
   "cell_type": "markdown",
   "metadata": {},
   "source": [
    "We will need a new column for the dataframe called 'airline'. We created this for our spark text processing and LDA Topic modelling in addition to the visualizations we will create:"
   ]
  },
  {
   "cell_type": "code",
   "execution_count": null,
   "metadata": {
    "collapsed": false
   },
   "outputs": [],
   "source": [
    "#create a dataframe called 'processed_data' with extra column 'airline'\n",
    "\n",
    "#a function to set the airline name where the column value is True\n",
    "def setAirlineName(row):   \n",
    "    x = None\n",
    "    for a in airlines:\n",
    "        if row[a] is True:\n",
    "            x = a\n",
    "    if x is not None:\n",
    "        return x\n",
    "    else: \n",
    "        return\n",
    "\n",
    "# set a column in the tweets dataframe for each airline name with a boolean value\n",
    "for a in airlines:\n",
    "    if (tweets['text'].apply(lambda tweet: word_in_text(a, tweet))).count() > 0:\n",
    "        tweets[a] = tweets['text'].apply(lambda tweet: word_in_text(a, tweet))\n",
    "\n",
    "#add the airline column with the airline name as the value \n",
    "tweets['airline'] = tweets.apply(lambda row: setAirlineName(row), axis=1)  \n",
    "\n",
    "#remove the temp. columns for each airline\n",
    "for a in airlines:\n",
    "    tweets = tweets.drop(a, 1)\n",
    "\n",
    "#filter to just English-language tweets, since all our language processing is English-specific\n",
    "processed_data = tweets[tweets['lang'] == 'en']\n",
    "\n",
    "#processed_data['airline'] values are - 'southwest', 'delta', 'jetblue', 'united', 'flyfrontier', \n",
    "# 'hawaiianair', 'virginamerica', 'alaskaair','spiritairlines', 'AmericanAir'\n",
    "print 'The Processed Data File contains', len(processed_data), 'tweets.'"
   ]
  },
  {
   "cell_type": "markdown",
   "metadata": {},
   "source": [
    "This new dataframe contains the 'airline' column we need:"
   ]
  },
  {
   "cell_type": "code",
   "execution_count": null,
   "metadata": {
    "collapsed": false
   },
   "outputs": [],
   "source": [
    "processed_data['airline'].head()"
   ]
  },
  {
   "cell_type": "markdown",
   "metadata": {},
   "source": [
    "At one point, we thought it would be necessary to have a JSON file created from this new dataframe. We created a script to do that but eventually decided to use the dataframe directly in the Spark text processing application:"
   ]
  },
  {
   "cell_type": "code",
   "execution_count": null,
   "metadata": {
    "collapsed": true
   },
   "outputs": [],
   "source": [
    "#create a json file from the processed_data pandas dataframe\n",
    "#it has the extra airline field that will be used for spark processing\n",
    "\n",
    "#This is commented out since we are using the processed_data dataframe for the spark processing\n",
    "# with open('processed_data.json', 'w') as outfile:  \n",
    "#     for index, row in processed_data.iterrows():\n",
    "#         outfile.write(row.to_json())\n",
    "#         outfile.write('\\n')"
   ]
  },
  {
   "cell_type": "markdown",
   "metadata": {},
   "source": [
    "# Pass the data with airlines to Spark for text processing"
   ]
  },
  {
   "cell_type": "code",
   "execution_count": null,
   "metadata": {
    "collapsed": false
   },
   "outputs": [],
   "source": [
    "from pattern.en import parse\n",
    "from pattern.en import pprint\n",
    "from pattern.vector import stem, PORTER, LEMMA\n",
    "from sklearn.feature_extraction import text\n",
    "from gensim import corpora "
   ]
  },
  {
   "cell_type": "code",
   "execution_count": null,
   "metadata": {
    "collapsed": false
   },
   "outputs": [],
   "source": [
    "import findspark\n",
    "findspark.init()\n",
    "print findspark.find()"
   ]
  },
  {
   "cell_type": "code",
   "execution_count": null,
   "metadata": {
    "collapsed": true
   },
   "outputs": [],
   "source": [
    "import pyspark"
   ]
  },
  {
   "cell_type": "code",
   "execution_count": null,
   "metadata": {
    "collapsed": true
   },
   "outputs": [],
   "source": [
    "# adapted from HW5\n",
    "def get_parts(thetext, punc='.,;:!?()[]{}`''\\\"@#$^&*+-|=~_'):\n",
    "    # generate stopwords list & regexes for 2+ periods or 2+ dashes\n",
    "    stop = text.ENGLISH_STOP_WORDS\n",
    "    regex1=re.compile(r\"\\.{2,}\")\n",
    "    regex2=re.compile(r\"\\-{2,}\")\n",
    "    thetext=re.sub(regex1, ' ', thetext)\n",
    "    thetext=re.sub(regex2, ' ', thetext)\n",
    "    punctuation = list(punc)\n",
    "    nouns=[]\n",
    "    descriptives=[]\n",
    "    for i,sentence in enumerate(parse(thetext, tokenize=True, lemmata=True).split()):\n",
    "        nouns.append([])\n",
    "        descriptives.append([])\n",
    "        for token in sentence:\n",
    "            if len(token[4]) >0:\n",
    "                if token[1] in ['JJ', 'JJR', 'JJS']:\n",
    "                    if token[4] in stop or token[4][0] in punctuation or token[4][-1] in punctuation or len(token[4])==1:\n",
    "                        continue\n",
    "                    descriptives[i].append(token[4])\n",
    "                elif token[1] in ['NN', 'NNS']:\n",
    "                    if token[4] in stop or token[4][0] in punctuation or token[4][-1] in punctuation or len(token[4])==1:\n",
    "                        continue\n",
    "                    nouns[i].append(token[4])\n",
    "    out=zip(nouns, descriptives)\n",
    "    nouns2=[]\n",
    "    descriptives2=[]\n",
    "    for n,d in out:\n",
    "        if len(n)!=0 and len(d)!=0:\n",
    "            nouns2.append(n)\n",
    "            descriptives2.append(d)\n",
    "    return nouns2, descriptives2"
   ]
  },
  {
   "cell_type": "code",
   "execution_count": null,
   "metadata": {
    "collapsed": false
   },
   "outputs": [],
   "source": [
    "# initialize Spark context\n",
    "conf = pyspark.SparkConf().setAppName(\"Twitter_Airline\").setMaster(\"local[*]\")\n",
    "sc = pyspark.SparkContext(conf=conf)"
   ]
  },
  {
   "cell_type": "markdown",
   "metadata": {},
   "source": [
    "We read all the tweets from the dataframe into Spark, assigning each tweet a unique ID so we can track it through our sentiment analysis and LDA topic modeling."
   ]
  },
  {
   "cell_type": "code",
   "execution_count": null,
   "metadata": {
    "collapsed": false
   },
   "outputs": [],
   "source": [
    "# read tweets & associated airlines into Spark\n",
    "tweets_text = sc.parallelize([(row['airline'], row['text']) for index, row in processed_data.iterrows()]).zipWithIndex().map(lambda ((air, txt), idx): ((idx, air), txt))\n",
    "tweets_text.take(5)"
   ]
  },
  {
   "cell_type": "markdown",
   "metadata": {},
   "source": [
    "### Sentiment of a sentence based on log probs in a word list"
   ]
  },
  {
   "cell_type": "markdown",
   "metadata": {},
   "source": [
    "Function to read the word list file:"
   ]
  },
  {
   "cell_type": "code",
   "execution_count": null,
   "metadata": {
    "collapsed": true
   },
   "outputs": [],
   "source": [
    "import numpy as np\n",
    "# read the word list\n",
    "def readSentimentList(file_name):\n",
    "    ifile = open(file_name, 'r')\n",
    "    happy_log_probs = {}\n",
    "    sad_log_probs = {}\n",
    "    ifile.readline() #Ignore title row\n",
    "    # splitting the csv\n",
    "    for line in ifile:\n",
    "        tokens = line[:-1].split(',')\n",
    "        happy_log_probs[tokens[0]] = float(tokens[1])\n",
    "        sad_log_probs[tokens[0]] = float(tokens[2])\n",
    "\n",
    "    return happy_log_probs, sad_log_probs"
   ]
  },
  {
   "cell_type": "markdown",
   "metadata": {},
   "source": [
    "Using Naive Bayes rule:"
   ]
  },
  {
   "cell_type": "code",
   "execution_count": null,
   "metadata": {
    "collapsed": true
   },
   "outputs": [],
   "source": [
    "def classifySentiment(words, happy_log_probs, sad_log_probs):\n",
    "    # get the log-probability of each word under each sentiment\n",
    "    happy_probs = [happy_log_probs[word] for word in words if word in happy_log_probs]\n",
    "    sad_probs = [sad_log_probs[word] for word in words if word in sad_log_probs]\n",
    "\n",
    "    # sum all the log-probabilities for each sentiment to get a log-probability for the whole tweet\n",
    "    tweet_happy_log_prob = np.sum(happy_probs)\n",
    "    tweet_sad_log_prob = np.sum(sad_probs)\n",
    "\n",
    "    # calculate the probability of the tweet belonging to each sentiment\n",
    "    prob_happy = np.reciprocal(np.exp(tweet_sad_log_prob - tweet_happy_log_prob) + 1)\n",
    "    prob_sad = 1 - prob_happy\n",
    "\n",
    "    return prob_happy, prob_sad"
   ]
  },
  {
   "cell_type": "markdown",
   "metadata": {},
   "source": [
    "Load the word list:"
   ]
  },
  {
   "cell_type": "code",
   "execution_count": null,
   "metadata": {
    "collapsed": true
   },
   "outputs": [],
   "source": [
    "# load list of words and log probs\n",
    "happy_log_probs, sad_log_probs = readSentimentList('wordlist.csv')"
   ]
  },
  {
   "cell_type": "markdown",
   "metadata": {},
   "source": [
    "Reading in a sample tweet:"
   ]
  },
  {
   "cell_type": "code",
   "execution_count": null,
   "metadata": {
    "collapsed": false
   },
   "outputs": [],
   "source": [
    "# read tweet\n",
    "tweet1 = ['I', 'hate', 'southwest']\n",
    "\n",
    "# calculate the probability\n",
    "tweet1_happy_prob, tweet1_sad_prob = classifySentiment(tweet1, happy_log_probs, sad_log_probs)\n",
    "\n",
    "print tweet1 \n",
    "print \"happy probability: \" , tweet1_happy_prob \n",
    "print \"sad probability:\", tweet1_sad_prob"
   ]
  },
  {
   "cell_type": "code",
   "execution_count": null,
   "metadata": {
    "collapsed": false
   },
   "outputs": [],
   "source": [
    "# get words out for sentiment analysis\n",
    "puncs = '.,;:!?()[]{}`''\\\"@#$^&*+-|=~_'\n",
    "sentiment_words = tweets_text.mapValues(lambda t: t.strip(puncs).split())\n",
    "\n",
    "# classify sentiment of tweet\n",
    "tweets_probs = sentiment_words.mapValues(lambda ws: classifySentiment(ws, happy_log_probs, sad_log_probs))\n",
    "happy_probs = tweets_probs.mapValues(lambda (hprob, sprob): (hprob, 1))\n",
    "sad_probs = tweets_probs.mapValues(lambda (hprob, sprob): (sprob, 1))"
   ]
  },
  {
   "cell_type": "markdown",
   "metadata": {},
   "source": [
    "## Visualization"
   ]
  },
  {
   "cell_type": "markdown",
   "metadata": {},
   "source": [
    "Create a dataframe to use for visualization. "
   ]
  },
  {
   "cell_type": "code",
   "execution_count": null,
   "metadata": {
    "collapsed": true
   },
   "outputs": [],
   "source": [
    "#collect the happy probabilities from the above mapValues call\n",
    "listOfHappyProbs = happy_probs.collect()\n",
    "\n",
    "#create an empty list to contain the just the probability portion of happy_probs\n",
    "HappyProbsList = []\n",
    "for x in range(len(listOfHappyProbs)):\n",
    "    HappyProbsList.append(listOfHappyProbs[x][1][0])\n",
    "\n",
    "#create the following dataframe containing columns of data for visualization\n",
    "# text, airline, positive, prob, created_at, favorite_count, retweet_count, followers_count\n",
    "df = pd.DataFrame()\n",
    "df['created_at'] = processed_data['created_at']\n",
    "df['favorite_count'] = processed_data['favorite_count']\n",
    "df['retweet_count'] = processed_data['retweet_count']\n",
    "df['followers_count'] = processed_data['followers_count']\n",
    "# df_data_visualization['text'] = processed_data['text']\n",
    "df['airline'] = processed_data['airline']\n",
    "df['prob'] = HappyProbsList\n",
    "\n",
    "#a function to set a 1 if the happy probability is greater than .5 otherwise set it to 0\n",
    "#we will use this for the visualization aspect\n",
    "def setPositiveValues(row):\n",
    "    if row['prob'] > 0.5:\n",
    "        return 1\n",
    "    else:\n",
    "        return 0\n",
    "\n",
    "#run the function on the prob column to create the positive column to determine if a tweet is positive or negative\n",
    "#from the happy probability\n",
    "df['positive'] = df.apply(setPositiveValues, axis=1)\n",
    "\n",
    "#create the text column, remove the newlines from the text to resolve an issue with row creation in the .to_csv call\n",
    "df['text'] = processed_data['text'].str.replace('\\n',\"\")\n",
    "\n",
    "#create a function to set the airline names for the visualizations. We wanted the names to look clean on the graphs:\n",
    "def setChartNames(row):\n",
    "    if row is 'united':\n",
    "        return \"United\"\n",
    "    elif row is 'southwest':\n",
    "        return 'Southwest'\n",
    "    elif row is 'delta':\n",
    "        return \"Delta\"\n",
    "    elif row is 'jetblue':\n",
    "        return 'JetBlue'\n",
    "    elif row is 'flyfrontier':\n",
    "        return 'Frontier'\n",
    "    elif row is 'hawaiianair':\n",
    "        return 'Hawaiian'\n",
    "    elif row is 'virginamerica':\n",
    "        return 'Virgin'\n",
    "    elif row is 'alaskaair':\n",
    "        return 'Alaska'\n",
    "    elif row is 'spiritairlines':\n",
    "        return 'Spirit'\n",
    "    elif row is 'AmericanAir':\n",
    "        return 'American'\n",
    "   \n",
    "#set the airline names using the above function    \n",
    "df['airline'] = df['airline'].apply(setChartNames)\n",
    "\n",
    "#set the created_at column to a pandas datetime column\n",
    "df['created_at'] = pd.to_datetime(df['created_at'], dayfirst=True )\n",
    "\n",
    "#set the format of the dates to look clean on the visualizations to come\n",
    "df['created_at'] = df['created_at'].map(lambda x: x.strftime('%m-%d-%Y'))\n",
    "\n",
    "#create a .csv file to use for visualization \n",
    "df.to_csv('output.csv', encoding='utf-8', index=False)"
   ]
  },
  {
   "cell_type": "markdown",
   "metadata": {},
   "source": [
    "Here we start with the visualizaton. But first, we need to remove the undecided tweets.  "
   ]
  },
  {
   "cell_type": "code",
   "execution_count": null,
   "metadata": {
    "collapsed": false
   },
   "outputs": [],
   "source": [
    "#getting rid of undecided tweets\n",
    "df = df[(df.prob <> .5)]"
   ]
  },
  {
   "cell_type": "markdown",
   "metadata": {},
   "source": [
    "Some of the positive tweets:"
   ]
  },
  {
   "cell_type": "code",
   "execution_count": null,
   "metadata": {
    "collapsed": false
   },
   "outputs": [],
   "source": [
    "df[(df.positive == 1)].head(5)"
   ]
  },
  {
   "cell_type": "markdown",
   "metadata": {},
   "source": [
    "Some of the negative tweets:"
   ]
  },
  {
   "cell_type": "code",
   "execution_count": null,
   "metadata": {
    "collapsed": false
   },
   "outputs": [],
   "source": [
    "df[(df.positive == 0)].head(5)"
   ]
  },
  {
   "cell_type": "markdown",
   "metadata": {},
   "source": [
    "We can aggregate all the happy & sad probabilities for individual tweets about each airline into an average probability that users are happy or sad about that airline:"
   ]
  },
  {
   "cell_type": "code",
   "execution_count": null,
   "metadata": {
    "collapsed": false
   },
   "outputs": [],
   "source": [
    "airline_happy_probs = happy_probs.map(lambda ((idx, air), probs): (air, probs)).reduceByKey(lambda (p1,num1),(p2,num2): ((num1*p1 + num2*p2)/(num1 + num2), num1 + num2)).mapValues(lambda (p, n): p) \n",
    "airline_sad_probs = sad_probs.map(lambda ((idx, air), probs): (air, probs)).reduceByKey(lambda (p1,num1),(p2,num2): ((num1*p1 + num2*p2)/(num1 + num2), num1 + num2)).mapValues(lambda (p, n): p) \n",
    "print \"Happy probabilities:\", airline_happy_probs.take(5)\n",
    "print \"Sad probabilities:\", airline_sad_probs.take(5)"
   ]
  },
  {
   "cell_type": "markdown",
   "metadata": {},
   "source": [
    "We can group the dataframe by airlines. \n",
    "Showing number of Tweets per airline:"
   ]
  },
  {
   "cell_type": "code",
   "execution_count": null,
   "metadata": {
    "collapsed": false
   },
   "outputs": [],
   "source": [
    "airline_count = df.groupby(['airline']).count().prob.sort(axis=0, ascending=False, inplace=False)\n",
    "airline_count.iplot(kind='bar', yTitle='Number of Tweets', title='Number of Tweets Per Airline')\n",
    "\n",
    "tls.embed('https://plot.ly/~nruta/24')"
   ]
  },
  {
   "cell_type": "markdown",
   "metadata": {},
   "source": [
    "Score of the airlines based on the average of their positive scores"
   ]
  },
  {
   "cell_type": "code",
   "execution_count": null,
   "metadata": {
    "collapsed": false
   },
   "outputs": [],
   "source": [
    "airline_count = df.groupby(['airline']).mean().prob.sort(axis=0, ascending=False, inplace=False)\n",
    "airline_count.iplot(kind='bar', yTitle='Average Score', title='Average Score')\n",
    "\n",
    "tls.embed('https://plot.ly/~nruta/29')"
   ]
  },
  {
   "cell_type": "markdown",
   "metadata": {},
   "source": [
    "To see the scores in a more defined way, we subtract average score and plot on a bar chart: "
   ]
  },
  {
   "cell_type": "code",
   "execution_count": null,
   "metadata": {
    "collapsed": false
   },
   "outputs": [],
   "source": [
    "# Learn about API authentication here: https://plot.ly/pandas/getting-started\n",
    "# Find your api_key here: https://plot.ly/settings/api\n",
    "import plotly.plotly as py\n",
    "import plotly.graph_objs as go\n",
    "\n",
    "#making this dataframe to set the lables\n",
    "dfx = pd.DataFrame([airline_count]).transpose().reset_index(level=0)\n",
    "\n",
    "data = [\n",
    "    go.Bar(\n",
    "        x=dfx['airline'], # assign x as the dataframe column 'x'\n",
    "        y=airline_count - np.mean(airline_count)\n",
    "    )\n",
    "]\n",
    "\n",
    "# IPython notebook\n",
    "df.iplot(data, yTitle='Average Score', title='Score Difference from Average Score')\n",
    "\n",
    "tls.embed('https://plot.ly/~nruta/34')"
   ]
  },
  {
   "cell_type": "markdown",
   "metadata": {},
   "source": [
    "Here we explore the opportunity to point out the most important tweets. \n",
    "We can for example sort by the tweet wit most followers:"
   ]
  },
  {
   "cell_type": "code",
   "execution_count": null,
   "metadata": {
    "collapsed": false
   },
   "outputs": [],
   "source": [
    "pd.set_option('max_colwidth', 200)\n",
    "#showing a subset of dataframe\n",
    "df.sort(columns='followers_count', ascending=[False])[['followers_count','text', 'prob', 'created_at']].head(5)"
   ]
  },
  {
   "cell_type": "markdown",
   "metadata": {},
   "source": [
    "We can take a better look at the data with quantile plots. We pull groupby airline output data."
   ]
  },
  {
   "cell_type": "code",
   "execution_count": null,
   "metadata": {
    "collapsed": false
   },
   "outputs": [],
   "source": [
    "# quantile plot for each airline\n",
    "dfgroupby = pd.read_csv(\"outputgroupby.csv\")\n",
    "dfgroupby.iplot(kind='box', title='Score Quantiles')\n",
    "tls.embed('https://plot.ly/~nruta/40')"
   ]
  },
  {
   "cell_type": "markdown",
   "metadata": {},
   "source": [
    "### LDA on nouns for topic analysis"
   ]
  },
  {
   "cell_type": "markdown",
   "metadata": {},
   "source": [
    "We separate out the nouns from each tweet to feed into our LDA model, and create a gensim dictionary of all the nouns."
   ]
  },
  {
   "cell_type": "code",
   "execution_count": null,
   "metadata": {
    "collapsed": true
   },
   "outputs": [],
   "source": [
    "from operator import add"
   ]
  },
  {
   "cell_type": "code",
   "execution_count": null,
   "metadata": {
    "collapsed": false
   },
   "outputs": [],
   "source": [
    "# parse nouns out of tweets\n",
    "tweets_n_a = tweets_text.mapValues(get_parts)\n",
    "tweets_nouns = tweets_n_a.mapValues(lambda (n, adj): n)\n",
    "print tweets_nouns.take(5)\n",
    "all_nouns = tweets_nouns.flatMapValues(lambda l: l).values().toLocalIterator()\n",
    "\n",
    "# feed nouns into gensim\n",
    "dictionary = corpora.Dictionary(all_nouns)\n",
    "dictionary.filter_extremes()\n",
    "dictionary.compactify()"
   ]
  },
  {
   "cell_type": "markdown",
   "metadata": {},
   "source": [
    "We then vectorize the nouns in each tweet (the first map is just to get our input in the form that gensim's doc2bow function wants, while the filter removes tweets that didn't contain any identifiable nouns)."
   ]
  },
  {
   "cell_type": "code",
   "execution_count": null,
   "metadata": {
    "collapsed": false
   },
   "outputs": [],
   "source": [
    "doc_vecs = tweets_nouns.mapValues(lambda n: reduce(add, n, [])).filter(lambda (k, v): v).mapValues(dictionary.doc2bow)\n",
    "corpus = doc_vecs.values().collect()"
   ]
  },
  {
   "cell_type": "code",
   "execution_count": null,
   "metadata": {
    "collapsed": true
   },
   "outputs": [],
   "source": [
    "NUM_TOPICS = 100"
   ]
  },
  {
   "cell_type": "markdown",
   "metadata": {},
   "source": [
    "We use Latent Dirichlet Allocation (LDA) from gensim to find latent topics within our tweets."
   ]
  },
  {
   "cell_type": "code",
   "execution_count": null,
   "metadata": {
    "collapsed": true
   },
   "outputs": [],
   "source": [
    "from gensim.models.ldamodel import LdaModel"
   ]
  },
  {
   "cell_type": "code",
   "execution_count": null,
   "metadata": {
    "collapsed": false
   },
   "outputs": [],
   "source": [
    "lda = LdaModel(corpus=corpus, num_topics=NUM_TOPICS, id2word=dictionary, passes=5)"
   ]
  },
  {
   "cell_type": "markdown",
   "metadata": {},
   "source": [
    "Printing the top topics, we can see the top terms associated with each topic and the \"coherence score\" of the topic, a measure of how closely related the terms in each topic are. \n",
    "\n",
    "The coherence score is calculated as:\n",
    "$$C(t; V^{(t)}) = \\sum_{m=2}^{M} \\sum_{l=1}^{m-1} log \\frac {D\\left(v^{(t)}_m, v^{(t)}_l\\right) + 1} {D\\left(v^{(t)}_l\\right)}$$\n",
    "where $V^{(t)} = \\left(v^{(t)}_1, ..., v^{(t)}_M\\right)$ is a list of the $M$ most probable words for topic $t$, $D(v)$ is the document frequency of the word v, and $D(v, v')$ is the _co-document frequency_ of the words $v$ and $v'$, i.e., the number of documents in which both words appear (see [the original paper](http://people.cs.umass.edu/~wallach/publications/mimno11optimizing.pdf) for more details).\n",
    "\n",
    "The coherence score thus measures roughly how likely it is that the words associated with a given topic are actually conceptually related to each other. The absolute score isn't terribly useful on its own, since the range of this function depends on the size of the corpus, length of documents, etc., but it's a useful way of ranking topics relative to each other on how likely they are to be informative. We thus take the top topics by coherence score to perform further analysis on."
   ]
  },
  {
   "cell_type": "code",
   "execution_count": null,
   "metadata": {
    "collapsed": false
   },
   "outputs": [],
   "source": [
    "best_topics = lda.top_topics(corpus)[:15]\n",
    "for idx, tpc in enumerate(best_topics):\n",
    "    print \"Topic\", idx, \":\"\n",
    "    print \"    score:\", tpc[1]\n",
    "    print \"    terms:\", tpc[0][:10]"
   ]
  },
  {
   "cell_type": "markdown",
   "metadata": {},
   "source": [
    "Even after sorting by coherence score, many of these topics do not obviously correspond to a particular human-identifiable concept. However, we do have Topic 8, which includes \"bag\", \"suitcase\", and \"carousel\" among its highest-probability terms, and Topic 7, which includes \"cancellation\" and \"weather\" [ADJUST FOR TOPICS ON FULL DATASET]. These give some indication of possible topics we might be interested in."
   ]
  },
  {
   "cell_type": "markdown",
   "metadata": {},
   "source": [
    "These ranks for the topics based on coherence score aren't the internal topic ids that gensim uses, though, so we have to find these internal ids for each of the topics in question."
   ]
  },
  {
   "cell_type": "code",
   "execution_count": null,
   "metadata": {
    "collapsed": true
   },
   "outputs": [],
   "source": [
    "all_topics = lda.show_topics(NUM_TOPICS, formatted=False)"
   ]
  },
  {
   "cell_type": "code",
   "execution_count": null,
   "metadata": {
    "collapsed": false
   },
   "outputs": [],
   "source": [
    "def get_topic_id(topic, all_topics):\n",
    "    \"\"\"\n",
    "    Matches the topics returned by top_topics to their ids in the LDA model\n",
    "    by checking for term overlap.\n",
    "    \"\"\"\n",
    "    for tpc in all_topics:\n",
    "        if len(set([t[0] for t in tpc[1]]) & set([t[1] for t in topic[0]])) == 10:\n",
    "            return tpc[0]"
   ]
  },
  {
   "cell_type": "code",
   "execution_count": null,
   "metadata": {
    "collapsed": false
   },
   "outputs": [],
   "source": [
    "best_topics_ids = [get_topic_id(topic, all_topics) for topic in best_topics]\n",
    "best_topics_ids"
   ]
  },
  {
   "cell_type": "markdown",
   "metadata": {},
   "source": [
    "Now that we have a bunch of topics and we've assigned each tweet a probability of being \"happy\" or \"sad\" (i.e., expressing positive or negative sentiment), we can calculate what topics are most associated with positive or negative tweets.\n",
    "\n",
    "We start by determining how likely each tweet is to be associated with each of our best topics."
   ]
  },
  {
   "cell_type": "code",
   "execution_count": null,
   "metadata": {
    "collapsed": true
   },
   "outputs": [],
   "source": [
    "def get_best_topics(bow):\n",
    "    my_topics = lda.get_document_topics(bow)\n",
    "    my_best_topics = [tpc for tpc in my_topics if tpc[0] in best_topics_ids]\n",
    "    return my_best_topics"
   ]
  },
  {
   "cell_type": "markdown",
   "metadata": {},
   "source": [
    "We only keep tweets that have a non-negligible likelihood of belonging to one of our top topics (using the filter statement below)."
   ]
  },
  {
   "cell_type": "code",
   "execution_count": null,
   "metadata": {
    "collapsed": false
   },
   "outputs": [],
   "source": [
    "tweets_topics = doc_vecs.mapValues(get_best_topics).filter(lambda (k,v): v)\n",
    "tweets_topics.take(5)"
   ]
  },
  {
   "cell_type": "markdown",
   "metadata": {},
   "source": [
    "We can pull out the correlation scores of each tweet to each topic and then plot a histogram for each topic showing its distribution of correlation scores."
   ]
  },
  {
   "cell_type": "code",
   "execution_count": null,
   "metadata": {
    "collapsed": false
   },
   "outputs": [],
   "source": [
    "# Get a list of all the tweets' correlation scores to each of our topics\n",
    "scores_per_topic = tweets_topics.values().flatMap(lambda v: v).mapValues(lambda v: [v]).reduceByKey(add)\n",
    "# Store it as a dict, keyed by the topic ID\n",
    "hist_input = scores_per_topic.collectAsMap()"
   ]
  },
  {
   "cell_type": "code",
   "execution_count": null,
   "metadata": {
    "collapsed": false
   },
   "outputs": [],
   "source": [
    "fig, axes = plt.subplots(5,3, sharex=True)\n",
    "fig.set_size_inches(16, 12)\n",
    "for idx, ax in enumerate(axes.ravel()):\n",
    "    ax.hist(hist_input[best_topics_ids[idx]], 20, range=[0,1])\n",
    "    ax.set_title('Topic {} (id {}): {} total tweets'.format(idx, best_topics_ids[idx], len(hist_input[best_topics_ids[idx]])))"
   ]
  },
  {
   "cell_type": "markdown",
   "metadata": {},
   "source": [
    "For most topics, there are many tweets that are a little bit related to the topic, and fewer that the model says are very closely related to the topic. There also appears to be a disproportionate concentration of correlation scores in the 0.5 bin, particularly compared to the bins immediately surrounding it. This is likely due to a mathematical quirk of LDA, which is particularly visible because tweets are very short documents.\n",
    "\n",
    "In general, the LDA topic model is not hugely confident in its assignment of individual tweets to topics. This is not surprising, because an individual tweet contains very few words (and even fewer nouns recognizable by the part-of-speech tagger, particularly given that tweets do not always follow standard grammatical structure), so there is not very much basis on which to assign a tweet to one topic or another. One way to improve this would be to use a part-of-speech tagger trained on a Twitter corpus, so that more information could be extracted from each tweet. However, 140 characters is never going to contain a huge number of words for the LDA model to base its topic assignment on, so automatic topic assignments of tweets are inherently going to be less certain than automatic topic assignments of longer documents."
   ]
  },
  {
   "cell_type": "markdown",
   "metadata": {
    "collapsed": true
   },
   "source": [
    "Next, we combine our topic RDD with our sentiment RDD to convert the topics and sentiment scores associated with each tweet into sentiment scores associated with each topic, and with each topic-airline combination. We will weight a tweet's contribution to each topic's sentiment score by its correlation score to that topic."
   ]
  },
  {
   "cell_type": "code",
   "execution_count": null,
   "metadata": {
    "collapsed": false
   },
   "outputs": [],
   "source": [
    "# Join topics and sentiment probabilities by key\n",
    "combined = tweets_topics.join(tweets_probs)\n",
    "combined.take(5)"
   ]
  },
  {
   "cell_type": "code",
   "execution_count": null,
   "metadata": {
    "collapsed": true
   },
   "outputs": [],
   "source": [
    "def regroup_by_topic(topics_probs, happy_prob, sad_prob):\n",
    "    topic_sentiments = []\n",
    "    for topic, prob in topics_probs:\n",
    "        topic_sentiments.append((topic, (prob, happy_prob, sad_prob)))\n",
    "    return topic_sentiments"
   ]
  },
  {
   "cell_type": "code",
   "execution_count": null,
   "metadata": {
    "collapsed": false
   },
   "outputs": [],
   "source": [
    "regrouped = combined.mapValues(lambda (tps, (hp, sp)): regroup_by_topic(tps, hp, sp)).flatMapValues(lambda v: v)\n",
    "regrouped.take(5)"
   ]
  },
  {
   "cell_type": "markdown",
   "metadata": {},
   "source": [
    "Now we combine the probabilities per topic to find out what airline-related topics people on Twitter are most positive or negative about."
   ]
  },
  {
   "cell_type": "code",
   "execution_count": null,
   "metadata": {
    "collapsed": true
   },
   "outputs": [],
   "source": [
    "weighted_avg_probs = lambda (p1, hp1, sp1), (p2, hp2, sp2): (p1 + p2, (p1*hp1 + p2*hp2)/(p1 + p2), (p1*sp1 + p2*sp2)/(p1 + p2))\n",
    "happy_sad_probs = lambda (p, hp, sp): (hp, sp)"
   ]
  },
  {
   "cell_type": "code",
   "execution_count": null,
   "metadata": {
    "collapsed": false
   },
   "outputs": [],
   "source": [
    "topics_sentiments = regrouped.values().reduceByKey(weighted_avg_probs).mapValues(happy_sad_probs)\n",
    "print topics_sentiments.take(5)\n",
    "topic_sent_dict = topics_sentiments.collectAsMap()"
   ]
  },
  {
   "cell_type": "code",
   "execution_count": null,
   "metadata": {
    "collapsed": false
   },
   "outputs": [],
   "source": [
    "index = np.arange(len(best_topics_ids))\n",
    "happy_probs_by_topic = np.array([topic_sent_dict[idx][0] for idx in best_topics_ids])\n",
    "order = np.argsort(happy_probs_by_topic)[::-1]\n",
    "width = 0.5\n",
    "fig, ax = plt.subplots(figsize=(16,8))\n",
    "plt.bar(index, happy_probs_by_topic[order], width, alpha=1, color='violet')\n",
    "# Setting axis labels and ticks\n",
    "ax.set_xlim((-width, len(best_topics_ids)))\n",
    "ax.set_ylabel('Happy Probability', fontsize=15)\n",
    "ax.set_xlabel('Topic ID', fontsize=15)\n",
    "ax.set_title('Twitter Happiness by Topic', fontsize=15, fontweight='bold')\n",
    "ax.set_xticks([i + 0.5 * width for i in index])\n",
    "ax.set_xticklabels(np.array(best_topics_ids)[order])\n",
    "plt.grid()\n",
    "plt.show()"
   ]
  },
  {
   "cell_type": "markdown",
   "metadata": {},
   "source": [
    "The airline-related topic that Twitter users are most positive about overall is the topic with ID 65, which is characterized by the terms \"night\", \"help\", \"onboard\", \"receipt\", \"steward\", and \"speech\". These tweets likely deal with experiences on the plane and interactions with flight attendants and other airline personnel.\n",
    "\n",
    "The airline-related topic that Twitter users are _least_ positive about overall is the topic with ID 71, which is characterized by the terms \"basket\", \"note\", \"bonus\", \"quality\", and \"concierge\". Although this topic has a lower coherence score and thus does not correspond as clearly to a human-understandable concept, tweets about accommodations while traveling might be found in this topic.\n",
    "\n",
    "We're less interested in what people think of different aspects of airlines overall than in how individual airlines score in each of these categories, though. Let's re-group our data by airline and topic and see how each airline stacks up on each topic."
   ]
  },
  {
   "cell_type": "code",
   "execution_count": null,
   "metadata": {
    "collapsed": false
   },
   "outputs": [],
   "source": [
    "airline_topics_sentiments = regrouped.map(lambda ((idx, air), (tpc, probs)): ((air, tpc), probs)).reduceByKey(weighted_avg_probs).mapValues(happy_sad_probs)\n",
    "print airline_topics_sentiments.take(5)\n",
    "air_tpc_sent_dict = airline_topics_sentiments.collectAsMap()"
   ]
  },
  {
   "cell_type": "code",
   "execution_count": 65,
   "metadata": {
    "collapsed": false
   },
   "outputs": [
    {
     "data": {
      "image/png": "[encoded data removed]",
      "text/plain": [
       "<matplotlib.figure.Figure at 0x19f19f950>"
      ]
     },
     "metadata": {},
     "output_type": "display_data"
    }
   ],
   "source": [
    "index = np.arange(len(airlines))\n",
    "colors = ['#975A7A', '#78C0E0', '#FFB3AA', '#4F86C6', '#17A398', '#EE8434', '#FFD5FF', '#FFBC00', '#009FFD', '#8565A0']\n",
    "fig, axes = plt.subplots(5, 3, figsize=(16,16), sharex=True, sharey=True)\n",
    "for tpc, ax in zip(best_topics_ids, axes.ravel()):\n",
    "    happy_probs_by_airline = [air_tpc_sent_dict.get((air, tpc), [0])[0] for air in airlines]\n",
    "    width = 0.5\n",
    "    barlist = ax.bar(index, happy_probs_by_airline, width, alpha=1)\n",
    "    for bar, color in zip(barlist, colors):\n",
    "        bar.set_color(color)\n",
    "    # Setting axis labels and ticks\n",
    "    ax.set_xlim((-width, len(airlines)))\n",
    "    ax.set_ylabel('Happy Probability')\n",
    "    ax.set_xlabel('Airline')\n",
    "    ax.set_title('Topic ID {}'.format(tpc))\n",
    "    ax.set_xticks([])\n",
    "fig.legend(barlist, airlines, loc=(0.2,0.94), ncol=5)\n",
    "plt.show()"
   ]
  },
  {
   "cell_type": "code",
   "execution_count": null,
   "metadata": {
    "collapsed": true
   },
   "outputs": [],
   "source": []
  }
 ],
 "metadata": {
  "kernelspec": {
   "display_name": "Python 2",
   "language": "python",
   "name": "python2"
  },
  "language_info": {
   "codemirror_mode": {
    "name": "ipython",
    "version": 2
   },
   "file_extension": ".py",
   "mimetype": "text/x-python",
   "name": "python",
   "nbconvert_exporter": "python",
   "pygments_lexer": "ipython2",
   "version": "2.7.10"
  }
 },
 "nbformat": 4,
 "nbformat_minor": 0
}
